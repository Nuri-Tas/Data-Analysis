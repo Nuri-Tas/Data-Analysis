{
 "cells": [
  {
   "cell_type": "code",
   "execution_count": 156,
   "id": "57250bbc",
   "metadata": {},
   "outputs": [],
   "source": [
    "import numpy as np\n",
    "import matplotlib.pyplot as plt\n",
    "import seaborn as sns\n",
    "\n",
    "%matplotlib inline"
   ]
  },
  {
   "cell_type": "code",
   "execution_count": 2,
   "id": "11abea40",
   "metadata": {},
   "outputs": [
    {
     "data": {
      "text/plain": [
       "0.956375928404503"
      ]
     },
     "execution_count": 2,
     "metadata": {},
     "output_type": "execute_result"
    }
   ],
   "source": [
    "np.sin(27)"
   ]
  },
  {
   "cell_type": "code",
   "execution_count": 3,
   "id": "19144544",
   "metadata": {},
   "outputs": [
    {
     "data": {
      "text/plain": [
       "array([0.84147098, 0.90929743, 0.14112001])"
      ]
     },
     "execution_count": 3,
     "metadata": {},
     "output_type": "execute_result"
    }
   ],
   "source": [
    "np.sin([1, 2, 3])"
   ]
  },
  {
   "cell_type": "markdown",
   "id": "61075b75",
   "metadata": {},
   "source": [
    "NumPy is fast:"
   ]
  },
  {
   "cell_type": "code",
   "execution_count": 12,
   "id": "55a6eeef",
   "metadata": {},
   "outputs": [
    {
     "name": "stdout",
     "output_type": "stream",
     "text": [
      "Wall time: 20.4 ms\n"
     ]
    },
    {
     "data": {
      "text/plain": [
       "array([0.01587187, 0.48840803, 0.42931743, ..., 0.65603731, 0.73100547,\n",
       "       0.48769479])"
      ]
     },
     "execution_count": 12,
     "metadata": {},
     "output_type": "execute_result"
    }
   ],
   "source": [
    "# Create two arrays with 10,000,000 random elements between 0 and 1 and multiply them \n",
    "\n",
    "v1 = np.random.rand(10**7)\n",
    "v2 = np.random.rand(10**7)\n",
    "%time v1 * v2"
   ]
  },
  {
   "cell_type": "markdown",
   "id": "cacee7f2",
   "metadata": {},
   "source": [
    "We can perform a dot operator as follows:"
   ]
  },
  {
   "cell_type": "code",
   "execution_count": 18,
   "id": "f5e3baf1",
   "metadata": {},
   "outputs": [
    {
     "name": "stdout",
     "output_type": "stream",
     "text": [
      "[[-0.7642755   0.11564602  0.55555981]\n",
      " [-0.43122518 -1.00603432  1.5934615 ]\n",
      " [ 0.98404784  0.50754441  0.56366946]]\n"
     ]
    },
    {
     "data": {
      "text/plain": [
       "array([[ 1.080945  ,  0.07724198,  0.07282883],\n",
       "       [ 2.33144451,  1.77098804, -0.94446275],\n",
       "       [-0.41627187, -0.11071859,  1.67317316]])"
      ]
     },
     "execution_count": 18,
     "metadata": {},
     "output_type": "execute_result"
    }
   ],
   "source": [
    "mat = np.random.randn(9).reshape((3,3))\n",
    "\n",
    "print(mat)\n",
    "mat @ mat"
   ]
  },
  {
   "cell_type": "markdown",
   "id": "5003799c",
   "metadata": {},
   "source": [
    "Transpose a matrix:"
   ]
  },
  {
   "cell_type": "code",
   "execution_count": 19,
   "id": "0724ca5b",
   "metadata": {},
   "outputs": [
    {
     "name": "stdout",
     "output_type": "stream",
     "text": [
      "[[-0.7642755  -0.43122518  0.98404784]\n",
      " [ 0.11564602 -1.00603432  0.50754441]\n",
      " [ 0.55555981  1.5934615   0.56366946]]\n"
     ]
    }
   ],
   "source": [
    "print(mat.T)"
   ]
  },
  {
   "cell_type": "markdown",
   "id": "2fd807c8",
   "metadata": {},
   "source": [
    "## Boolean Indexing"
   ]
  },
  {
   "cell_type": "code",
   "execution_count": 26,
   "id": "ea04da53",
   "metadata": {},
   "outputs": [
    {
     "data": {
      "text/plain": [
       "array([1.09979733, 0.96375687, 1.52800982])"
      ]
     },
     "execution_count": 26,
     "metadata": {},
     "output_type": "execute_result"
    }
   ],
   "source": [
    "arr = np.random.randn(10)\n",
    "arr[arr > 0.7]"
   ]
  },
  {
   "cell_type": "code",
   "execution_count": 23,
   "id": "18ae3118",
   "metadata": {},
   "outputs": [
    {
     "data": {
      "text/plain": [
       "array([6, 7, 8, 9])"
      ]
     },
     "execution_count": 23,
     "metadata": {},
     "output_type": "execute_result"
    }
   ],
   "source": [
    "arr[arr > 5]"
   ]
  },
  {
   "cell_type": "markdown",
   "id": "d3171a60",
   "metadata": {},
   "source": [
    "Multiple conditions"
   ]
  },
  {
   "cell_type": "code",
   "execution_count": 34,
   "id": "cf56f716",
   "metadata": {},
   "outputs": [
    {
     "data": {
      "text/plain": [
       "array([3, 4, 5, 6, 7, 8])"
      ]
     },
     "execution_count": 34,
     "metadata": {},
     "output_type": "execute_result"
    }
   ],
   "source": [
    "arr = np.arange(10)\n",
    "arr[(arr >= 3) & (arr <= 8)]"
   ]
  },
  {
   "cell_type": "code",
   "execution_count": 35,
   "id": "6c6902c3",
   "metadata": {},
   "outputs": [
    {
     "data": {
      "text/plain": [
       "array([0, 1, 2, 3, 4, 5])"
      ]
     },
     "execution_count": 35,
     "metadata": {},
     "output_type": "execute_result"
    }
   ],
   "source": [
    "arr[~(arr > 5)]"
   ]
  },
  {
   "cell_type": "markdown",
   "id": "4f8c4941",
   "metadata": {},
   "source": [
    "Find outliers with boolen indexing:"
   ]
  },
  {
   "cell_type": "code",
   "execution_count": 44,
   "id": "03c93a40",
   "metadata": {},
   "outputs": [
    {
     "data": {
      "text/plain": [
       "array([1312., -984.])"
      ]
     },
     "execution_count": 44,
     "metadata": {},
     "output_type": "execute_result"
    }
   ],
   "source": [
    "values = np.random.normal(1, 10, 1000)\n",
    "\n",
    "values[30] = 1312\n",
    "values[743] = -984\n",
    "\n",
    "mask = np.abs(values - values.mean()) >  ( 2 * values.std())\n",
    "values[mask]"
   ]
  },
  {
   "cell_type": "code",
   "execution_count": 45,
   "id": "d59eb227",
   "metadata": {},
   "outputs": [],
   "source": [
    "# Or, we can normalize outliers\n",
    "values[mask] = values.mean()"
   ]
  },
  {
   "cell_type": "markdown",
   "id": "32ad879d",
   "metadata": {},
   "source": [
    "## Broadcasting "
   ]
  },
  {
   "cell_type": "code",
   "execution_count": 47,
   "id": "f58b3877",
   "metadata": {},
   "outputs": [
    {
     "data": {
      "text/plain": [
       "array([3, 4, 5])"
      ]
     },
     "execution_count": 47,
     "metadata": {},
     "output_type": "execute_result"
    }
   ],
   "source": [
    "arr = np.arange(3)\n",
    "arr + 3"
   ]
  },
  {
   "cell_type": "code",
   "execution_count": 54,
   "id": "e1051923",
   "metadata": {},
   "outputs": [
    {
     "name": "stdout",
     "output_type": "stream",
     "text": [
      "a:[[0.17837631 0.1276847  0.58626061]\n",
      " [0.66360467 0.02330624 0.16952452]\n",
      " [0.79083834 0.20546998 0.05698719]] \n",
      "\n",
      " b:[[0.91690177 0.03511282 0.21170021]\n",
      " [0.68931253 0.21020221 0.03709635]\n",
      " [0.49515582 0.70802607 0.85626597]]\n"
     ]
    },
    {
     "data": {
      "text/plain": [
       "array([[1.09527808, 0.16279752, 0.79796082],\n",
       "       [1.3529172 , 0.23350845, 0.20662087],\n",
       "       [1.28599416, 0.91349605, 0.91325315]])"
      ]
     },
     "execution_count": 54,
     "metadata": {},
     "output_type": "execute_result"
    }
   ],
   "source": [
    "a = np.random.rand(9).reshape(3,3)\n",
    "b = np.random.rand(9).reshape(3,3)\n",
    "\n",
    "print('a:{} \\n\\n b:{}'.format(a, b))\n",
    "a + b"
   ]
  },
  {
   "cell_type": "markdown",
   "id": "dfd99458",
   "metadata": {},
   "source": [
    "Note that the operation will be expanded on all elements if the dimensions of arrays are not the same."
   ]
  },
  {
   "cell_type": "code",
   "execution_count": 58,
   "id": "f8a7b1fb",
   "metadata": {},
   "outputs": [
    {
     "data": {
      "text/plain": [
       "array([[0, 1, 2],\n",
       "       [1, 2, 3],\n",
       "       [2, 3, 4]])"
      ]
     },
     "execution_count": 58,
     "metadata": {},
     "output_type": "execute_result"
    }
   ],
   "source": [
    "v1 = np.arange(3)\n",
    "v2 = np.arange(3).reshape((3,1))\n",
    "\n",
    "v1 + v2"
   ]
  },
  {
   "cell_type": "markdown",
   "id": "307695d3",
   "metadata": {},
   "source": [
    "## Array Operations"
   ]
  },
  {
   "cell_type": "code",
   "execution_count": 69,
   "id": "240393e9",
   "metadata": {},
   "outputs": [
    {
     "data": {
      "text/plain": [
       "array([[3, 0],\n",
       "       [8, 2],\n",
       "       [8, 1]])"
      ]
     },
     "execution_count": 69,
     "metadata": {},
     "output_type": "execute_result"
    }
   ],
   "source": [
    "arr = np.random.randint(0, 9, (3,2))\n",
    "arr"
   ]
  },
  {
   "cell_type": "code",
   "execution_count": 70,
   "id": "fbbd080e",
   "metadata": {},
   "outputs": [
    {
     "data": {
      "text/plain": [
       "array([[3, 8, 8],\n",
       "       [0, 2, 1]])"
      ]
     },
     "execution_count": 70,
     "metadata": {},
     "output_type": "execute_result"
    }
   ],
   "source": [
    "# Transpose\n",
    "arr.T"
   ]
  },
  {
   "cell_type": "code",
   "execution_count": 73,
   "id": "d5a80537",
   "metadata": {},
   "outputs": [
    {
     "data": {
      "text/plain": [
       "True"
      ]
     },
     "execution_count": 73,
     "metadata": {},
     "output_type": "execute_result"
    }
   ],
   "source": [
    "# ask if there is any element which evaluates the true\n",
    "arr.any()"
   ]
  },
  {
   "cell_type": "code",
   "execution_count": 74,
   "id": "30ae061d",
   "metadata": {},
   "outputs": [
    {
     "data": {
      "text/plain": [
       "False"
      ]
     },
     "execution_count": 74,
     "metadata": {},
     "output_type": "execute_result"
    }
   ],
   "source": [
    "# # ask if all elements evaluate the true. As we have zero, this will return False\n",
    "arr.all()"
   ]
  },
  {
   "cell_type": "code",
   "execution_count": 75,
   "id": "15973748",
   "metadata": {},
   "outputs": [
    {
     "data": {
      "text/plain": [
       "0"
      ]
     },
     "execution_count": 75,
     "metadata": {},
     "output_type": "execute_result"
    }
   ],
   "source": [
    "# multiply all elements of the array one by one \n",
    "arr.prod()"
   ]
  },
  {
   "cell_type": "code",
   "execution_count": 79,
   "id": "ff064d7e",
   "metadata": {},
   "outputs": [
    {
     "name": "stdout",
     "output_type": "stream",
     "text": [
      "row sum: [ 3 10  9] \n",
      "column sum: [19  3]\n"
     ]
    }
   ],
   "source": [
    "# run an operation on rows and columns \n",
    "row_sum = arr.sum(axis=1)\n",
    "col_sum = arr.sum(axis=0)\n",
    "print('row sum: {} \\ncolumn sum: {}'.format(row_sum, col_sum))"
   ]
  },
  {
   "cell_type": "code",
   "execution_count": 80,
   "id": "5a8a7dbe",
   "metadata": {},
   "outputs": [
    {
     "data": {
      "text/plain": [
       "array([[0, 0],\n",
       "       [0, 0],\n",
       "       [0, 0]])"
      ]
     },
     "execution_count": 80,
     "metadata": {},
     "output_type": "execute_result"
    }
   ],
   "source": [
    "# similar to the list, we can make a copy of an array and make sure the original values are not changed\n",
    "copy_arr = arr.copy()\n",
    "copy_arr *= 0\n",
    "copy_arr"
   ]
  },
  {
   "cell_type": "code",
   "execution_count": 81,
   "id": "8fc622dc",
   "metadata": {},
   "outputs": [
    {
     "data": {
      "text/plain": [
       "array([[3, 0],\n",
       "       [8, 2],\n",
       "       [8, 1]])"
      ]
     },
     "execution_count": 81,
     "metadata": {},
     "output_type": "execute_result"
    }
   ],
   "source": [
    "arr"
   ]
  },
  {
   "cell_type": "markdown",
   "id": "0704a1b6",
   "metadata": {},
   "source": [
    "## Ufuncs"
   ]
  },
  {
   "cell_type": "markdown",
   "id": "c8ea72a9",
   "metadata": {},
   "source": [
    "The following code will raise an error if the entry is a list as the function can only work with a number."
   ]
  },
  {
   "cell_type": "code",
   "execution_count": 89,
   "id": "cd13d126",
   "metadata": {},
   "outputs": [
    {
     "ename": "TypeError",
     "evalue": "'<' not supported between instances of 'list' and 'int'",
     "output_type": "error",
     "traceback": [
      "\u001b[1;31m---------------------------------------------------------------------------\u001b[0m",
      "\u001b[1;31mTypeError\u001b[0m                                 Traceback (most recent call last)",
      "\u001b[1;32m<ipython-input-89-ff88e8a9d8b7>\u001b[0m in \u001b[0;36m<module>\u001b[1;34m\u001b[0m\n\u001b[0;32m      4\u001b[0m     \u001b[1;32mreturn\u001b[0m \u001b[0mn\u001b[0m\u001b[1;33m\u001b[0m\u001b[1;33m\u001b[0m\u001b[0m\n\u001b[0;32m      5\u001b[0m \u001b[1;33m\u001b[0m\u001b[0m\n\u001b[1;32m----> 6\u001b[1;33m \u001b[0mmy_func\u001b[0m\u001b[1;33m(\u001b[0m\u001b[1;33m[\u001b[0m\u001b[1;33m-\u001b[0m\u001b[1;36m1\u001b[0m\u001b[1;33m,\u001b[0m\u001b[1;36m1\u001b[0m\u001b[1;33m]\u001b[0m\u001b[1;33m)\u001b[0m\u001b[1;33m\u001b[0m\u001b[1;33m\u001b[0m\u001b[0m\n\u001b[0m",
      "\u001b[1;32m<ipython-input-89-ff88e8a9d8b7>\u001b[0m in \u001b[0;36mmy_func\u001b[1;34m(n)\u001b[0m\n\u001b[0;32m      1\u001b[0m \u001b[1;32mdef\u001b[0m \u001b[0mmy_func\u001b[0m\u001b[1;33m(\u001b[0m\u001b[0mn\u001b[0m\u001b[1;33m)\u001b[0m\u001b[1;33m:\u001b[0m\u001b[1;33m\u001b[0m\u001b[1;33m\u001b[0m\u001b[0m\n\u001b[1;32m----> 2\u001b[1;33m     \u001b[1;32mif\u001b[0m \u001b[0mn\u001b[0m \u001b[1;33m<\u001b[0m \u001b[1;36m0\u001b[0m\u001b[1;33m:\u001b[0m\u001b[1;33m\u001b[0m\u001b[1;33m\u001b[0m\u001b[0m\n\u001b[0m\u001b[0;32m      3\u001b[0m         \u001b[1;32mreturn\u001b[0m \u001b[1;36m0\u001b[0m\u001b[1;33m\u001b[0m\u001b[1;33m\u001b[0m\u001b[0m\n\u001b[0;32m      4\u001b[0m     \u001b[1;32mreturn\u001b[0m \u001b[0mn\u001b[0m\u001b[1;33m\u001b[0m\u001b[1;33m\u001b[0m\u001b[0m\n\u001b[0;32m      5\u001b[0m \u001b[1;33m\u001b[0m\u001b[0m\n",
      "\u001b[1;31mTypeError\u001b[0m: '<' not supported between instances of 'list' and 'int'"
     ]
    }
   ],
   "source": [
    "def my_func(n):\n",
    "    if n < 0:\n",
    "        return 0\n",
    "    return n\n",
    "\n",
    "my_func([-1,1])"
   ]
  },
  {
   "cell_type": "markdown",
   "id": "949090b0",
   "metadata": {},
   "source": [
    "However, we can add a decorator that will vectorize the entry and make the function valid for lists, too."
   ]
  },
  {
   "cell_type": "code",
   "execution_count": 93,
   "id": "e80cddee",
   "metadata": {},
   "outputs": [
    {
     "data": {
      "text/plain": [
       "array([0, 1])"
      ]
     },
     "execution_count": 93,
     "metadata": {},
     "output_type": "execute_result"
    }
   ],
   "source": [
    "@np.vectorize\n",
    "def my_func(n):\n",
    "    if n < 0:\n",
    "        return 0\n",
    "    return n\n",
    "\n",
    "res = my_func([-1,1])\n",
    "res"
   ]
  },
  {
   "cell_type": "markdown",
   "id": "591cf4e1",
   "metadata": {},
   "source": [
    "Ufuncs are also non-aware, meaning they can work even if there is any nan values included in the entry."
   ]
  },
  {
   "cell_type": "code",
   "execution_count": 94,
   "id": "4240d36e",
   "metadata": {},
   "outputs": [
    {
     "data": {
      "text/plain": [
       "array([ 0.89399666,         nan, -0.80115264])"
      ]
     },
     "execution_count": 94,
     "metadata": {},
     "output_type": "execute_result"
    }
   ],
   "source": [
    "np.sin([90, np.nan, 180])"
   ]
  },
  {
   "cell_type": "markdown",
   "id": "3452e6e8",
   "metadata": {},
   "source": [
    "Draw a blue square around the flower in the image below. "
   ]
  },
  {
   "cell_type": "code",
   "execution_count": 3,
   "id": "d3667787",
   "metadata": {},
   "outputs": [
    {
     "data": {
      "text/plain": [
       "<matplotlib.image.AxesImage at 0x1f89f586310>"
      ]
     },
     "execution_count": 3,
     "metadata": {},
     "output_type": "execute_result"
    },
    {
     "data": {
      "image/png": "[encoded data removed]",
      "text/plain": [
       "<Figure size 432x288 with 1 Axes>"
      ]
     },
     "metadata": {
      "needs_background": "light"
     },
     "output_type": "display_data"
    }
   ],
   "source": [
    "img = plt.imread('https://raw.githubusercontent.com/LinkedInLearning/python-scientific-stack-3006561/main/Ch02/challenge/flower.png')\n",
    "img = img.copy()\n",
    "plt.imshow(img)"
   ]
  },
  {
   "cell_type": "code",
   "execution_count": 5,
   "id": "079ae48a",
   "metadata": {},
   "outputs": [],
   "source": [
    "top_left_x, top_left_y = 350, 190\n",
    "bottom_right_x, bottom_right_y  = 850, 680\n",
    "line_width = 30\n",
    "\n",
    "color = [0, 0, 0xF0F8FF] #aliceblue\n",
    "\n",
    "img[top_left_x:top_left_x + line_width, top_left_y:bottom_right_y] = color\n",
    "img[bottom_left_x:bottom_left_x + line_width, top_left_y:bottom_right_y] = color\n",
    "\n",
    "img[top_left_x:bottom_right_x, top_left_y-line_width:top_left_y] = color\n",
    "img[top_left_x:bottom_right_x, bottom_right_y-line_width:bottom_right_y] = color"
   ]
  },
  {
   "cell_type": "code",
   "execution_count": 6,
   "id": "c17d3880",
   "metadata": {},
   "outputs": [
    {
     "name": "stderr",
     "output_type": "stream",
     "text": [
      "Clipping input data to the valid range for imshow with RGB data ([0..1] for floats or [0..255] for integers).\n"
     ]
    },
    {
     "data": {
      "text/plain": [
       "<matplotlib.image.AxesImage at 0x1f8a09a2f10>"
      ]
     },
     "execution_count": 6,
     "metadata": {},
     "output_type": "execute_result"
    },
    {
     "data": {
      "image/png": "[encoded data removed]",
      "text/plain": [
       "<Figure size 432x288 with 1 Axes>"
      ]
     },
     "metadata": {
      "needs_background": "light"
     },
     "output_type": "display_data"
    }
   ],
   "source": [
    "plt.imshow(img)"
   ]
  },
  {
   "cell_type": "markdown",
   "id": "29005e6f",
   "metadata": {},
   "source": [
    "# pandas"
   ]
  },
  {
   "cell_type": "markdown",
   "id": "8288e7d4",
   "metadata": {},
   "source": [
    "Import the dataset of a jogging track."
   ]
  },
  {
   "cell_type": "code",
   "execution_count": 103,
   "id": "650a5e89",
   "metadata": {},
   "outputs": [],
   "source": [
    "import pandas as pd\n",
    "\n",
    "df = pd.read_csv('https://raw.githubusercontent.com/LinkedInLearning/python-scientific-stack-3006561/main/Ch03/03_02/track.csv', parse_dates=['time'])"
   ]
  },
  {
   "cell_type": "code",
   "execution_count": 104,
   "id": "27ba2bb5",
   "metadata": {},
   "outputs": [
    {
     "data": {
      "text/html": [
       "<div>\n",
       "<style scoped>\n",
       "    .dataframe tbody tr th:only-of-type {\n",
       "        vertical-align: middle;\n",
       "    }\n",
       "\n",
       "    .dataframe tbody tr th {\n",
       "        vertical-align: top;\n",
       "    }\n",
       "\n",
       "    .dataframe thead th {\n",
       "        text-align: right;\n",
       "    }\n",
       "</style>\n",
       "<table border=\"1\" class=\"dataframe\">\n",
       "  <thead>\n",
       "    <tr style=\"text-align: right;\">\n",
       "      <th></th>\n",
       "      <th>time</th>\n",
       "      <th>lat</th>\n",
       "      <th>lng</th>\n",
       "      <th>height</th>\n",
       "    </tr>\n",
       "  </thead>\n",
       "  <tbody>\n",
       "    <tr>\n",
       "      <th>0</th>\n",
       "      <td>2015-08-20 03:48:07.235</td>\n",
       "      <td>32.519585</td>\n",
       "      <td>35.015021</td>\n",
       "      <td>136.199997</td>\n",
       "    </tr>\n",
       "    <tr>\n",
       "      <th>1</th>\n",
       "      <td>2015-08-20 03:48:24.734</td>\n",
       "      <td>32.519606</td>\n",
       "      <td>35.014954</td>\n",
       "      <td>126.599998</td>\n",
       "    </tr>\n",
       "    <tr>\n",
       "      <th>2</th>\n",
       "      <td>2015-08-20 03:48:25.660</td>\n",
       "      <td>32.519612</td>\n",
       "      <td>35.014871</td>\n",
       "      <td>123.000000</td>\n",
       "    </tr>\n",
       "    <tr>\n",
       "      <th>3</th>\n",
       "      <td>2015-08-20 03:48:26.819</td>\n",
       "      <td>32.519654</td>\n",
       "      <td>35.014824</td>\n",
       "      <td>120.500000</td>\n",
       "    </tr>\n",
       "    <tr>\n",
       "      <th>4</th>\n",
       "      <td>2015-08-20 03:48:27.828</td>\n",
       "      <td>32.519689</td>\n",
       "      <td>35.014776</td>\n",
       "      <td>118.900002</td>\n",
       "    </tr>\n",
       "  </tbody>\n",
       "</table>\n",
       "</div>"
      ],
      "text/plain": [
       "                     time        lat        lng      height\n",
       "0 2015-08-20 03:48:07.235  32.519585  35.015021  136.199997\n",
       "1 2015-08-20 03:48:24.734  32.519606  35.014954  126.599998\n",
       "2 2015-08-20 03:48:25.660  32.519612  35.014871  123.000000\n",
       "3 2015-08-20 03:48:26.819  32.519654  35.014824  120.500000\n",
       "4 2015-08-20 03:48:27.828  32.519689  35.014776  118.900002"
      ]
     },
     "execution_count": 104,
     "metadata": {},
     "output_type": "execute_result"
    }
   ],
   "source": [
    "df.head()"
   ]
  },
  {
   "cell_type": "markdown",
   "id": "751ced91",
   "metadata": {},
   "source": [
    "Look at the data types of each column and check for null values."
   ]
  },
  {
   "cell_type": "code",
   "execution_count": 105,
   "id": "f500a027",
   "metadata": {},
   "outputs": [
    {
     "name": "stdout",
     "output_type": "stream",
     "text": [
      "<class 'pandas.core.frame.DataFrame'>\n",
      "RangeIndex: 740 entries, 0 to 739\n",
      "Data columns (total 4 columns):\n",
      " #   Column  Non-Null Count  Dtype         \n",
      "---  ------  --------------  -----         \n",
      " 0   time    740 non-null    datetime64[ns]\n",
      " 1   lat     740 non-null    float64       \n",
      " 2   lng     740 non-null    float64       \n",
      " 3   height  740 non-null    float64       \n",
      "dtypes: datetime64[ns](1), float64(3)\n",
      "memory usage: 23.2 KB\n"
     ]
    }
   ],
   "source": [
    "df.info()"
   ]
  },
  {
   "cell_type": "code",
   "execution_count": 106,
   "id": "f4586843",
   "metadata": {},
   "outputs": [
    {
     "data": {
      "text/plain": [
       "False"
      ]
     },
     "execution_count": 106,
     "metadata": {},
     "output_type": "execute_result"
    }
   ],
   "source": [
    "df.time.isnull().any()"
   ]
  },
  {
   "cell_type": "markdown",
   "id": "2b60d0af",
   "metadata": {},
   "source": [
    "Basic stats about the columns."
   ]
  },
  {
   "cell_type": "code",
   "execution_count": 107,
   "id": "a8daaf9b",
   "metadata": {},
   "outputs": [
    {
     "data": {
      "text/html": [
       "<div>\n",
       "<style scoped>\n",
       "    .dataframe tbody tr th:only-of-type {\n",
       "        vertical-align: middle;\n",
       "    }\n",
       "\n",
       "    .dataframe tbody tr th {\n",
       "        vertical-align: top;\n",
       "    }\n",
       "\n",
       "    .dataframe thead th {\n",
       "        text-align: right;\n",
       "    }\n",
       "</style>\n",
       "<table border=\"1\" class=\"dataframe\">\n",
       "  <thead>\n",
       "    <tr style=\"text-align: right;\">\n",
       "      <th></th>\n",
       "      <th>lat</th>\n",
       "      <th>lng</th>\n",
       "      <th>height</th>\n",
       "    </tr>\n",
       "  </thead>\n",
       "  <tbody>\n",
       "    <tr>\n",
       "      <th>count</th>\n",
       "      <td>740.000000</td>\n",
       "      <td>740.000000</td>\n",
       "      <td>740.000000</td>\n",
       "    </tr>\n",
       "    <tr>\n",
       "      <th>mean</th>\n",
       "      <td>32.512191</td>\n",
       "      <td>35.015832</td>\n",
       "      <td>97.876892</td>\n",
       "    </tr>\n",
       "    <tr>\n",
       "      <th>std</th>\n",
       "      <td>0.002974</td>\n",
       "      <td>0.003665</td>\n",
       "      <td>11.985234</td>\n",
       "    </tr>\n",
       "    <tr>\n",
       "      <th>min</th>\n",
       "      <td>32.508092</td>\n",
       "      <td>35.009294</td>\n",
       "      <td>77.500000</td>\n",
       "    </tr>\n",
       "    <tr>\n",
       "      <th>25%</th>\n",
       "      <td>32.509432</td>\n",
       "      <td>35.012891</td>\n",
       "      <td>88.000000</td>\n",
       "    </tr>\n",
       "    <tr>\n",
       "      <th>50%</th>\n",
       "      <td>32.511454</td>\n",
       "      <td>35.015709</td>\n",
       "      <td>97.649998</td>\n",
       "    </tr>\n",
       "    <tr>\n",
       "      <th>75%</th>\n",
       "      <td>32.514143</td>\n",
       "      <td>35.018649</td>\n",
       "      <td>106.450001</td>\n",
       "    </tr>\n",
       "    <tr>\n",
       "      <th>max</th>\n",
       "      <td>32.519734</td>\n",
       "      <td>35.022774</td>\n",
       "      <td>136.199997</td>\n",
       "    </tr>\n",
       "  </tbody>\n",
       "</table>\n",
       "</div>"
      ],
      "text/plain": [
       "              lat         lng      height\n",
       "count  740.000000  740.000000  740.000000\n",
       "mean    32.512191   35.015832   97.876892\n",
       "std      0.002974    0.003665   11.985234\n",
       "min     32.508092   35.009294   77.500000\n",
       "25%     32.509432   35.012891   88.000000\n",
       "50%     32.511454   35.015709   97.649998\n",
       "75%     32.514143   35.018649  106.450001\n",
       "max     32.519734   35.022774  136.199997"
      ]
     },
     "execution_count": 107,
     "metadata": {},
     "output_type": "execute_result"
    }
   ],
   "source": [
    "df.describe()"
   ]
  },
  {
   "cell_type": "markdown",
   "id": "90ab3496",
   "metadata": {},
   "source": [
    "Note that df.loc works as a closed interval as opposed to the normal indexing in Pyton. "
   ]
  },
  {
   "cell_type": "code",
   "execution_count": 108,
   "id": "034fd90f",
   "metadata": {},
   "outputs": [
    {
     "data": {
      "text/html": [
       "<div>\n",
       "<style scoped>\n",
       "    .dataframe tbody tr th:only-of-type {\n",
       "        vertical-align: middle;\n",
       "    }\n",
       "\n",
       "    .dataframe tbody tr th {\n",
       "        vertical-align: top;\n",
       "    }\n",
       "\n",
       "    .dataframe thead th {\n",
       "        text-align: right;\n",
       "    }\n",
       "</style>\n",
       "<table border=\"1\" class=\"dataframe\">\n",
       "  <thead>\n",
       "    <tr style=\"text-align: right;\">\n",
       "      <th></th>\n",
       "      <th>lat</th>\n",
       "      <th>lng</th>\n",
       "    </tr>\n",
       "  </thead>\n",
       "  <tbody>\n",
       "    <tr>\n",
       "      <th>2</th>\n",
       "      <td>32.519612</td>\n",
       "      <td>35.014871</td>\n",
       "    </tr>\n",
       "    <tr>\n",
       "      <th>3</th>\n",
       "      <td>32.519654</td>\n",
       "      <td>35.014824</td>\n",
       "    </tr>\n",
       "    <tr>\n",
       "      <th>4</th>\n",
       "      <td>32.519689</td>\n",
       "      <td>35.014776</td>\n",
       "    </tr>\n",
       "    <tr>\n",
       "      <th>5</th>\n",
       "      <td>32.519691</td>\n",
       "      <td>35.014704</td>\n",
       "    </tr>\n",
       "    <tr>\n",
       "      <th>6</th>\n",
       "      <td>32.519734</td>\n",
       "      <td>35.014657</td>\n",
       "    </tr>\n",
       "    <tr>\n",
       "      <th>7</th>\n",
       "      <td>32.519719</td>\n",
       "      <td>35.014563</td>\n",
       "    </tr>\n",
       "  </tbody>\n",
       "</table>\n",
       "</div>"
      ],
      "text/plain": [
       "         lat        lng\n",
       "2  32.519612  35.014871\n",
       "3  32.519654  35.014824\n",
       "4  32.519689  35.014776\n",
       "5  32.519691  35.014704\n",
       "6  32.519734  35.014657\n",
       "7  32.519719  35.014563"
      ]
     },
     "execution_count": 108,
     "metadata": {},
     "output_type": "execute_result"
    }
   ],
   "source": [
    "df.loc[2:7, ['lat', 'lng']]"
   ]
  },
  {
   "cell_type": "markdown",
   "id": "10dd2144",
   "metadata": {},
   "source": [
    "Find the earliest and the latest date in the time column."
   ]
  },
  {
   "cell_type": "code",
   "execution_count": 109,
   "id": "b465cf54",
   "metadata": {},
   "outputs": [
    {
     "name": "stdout",
     "output_type": "stream",
     "text": [
      "min time: 2015-08-20 03:48:07.235000 \n",
      "max time: 2015-08-20 04:20:42.329000\n"
     ]
    }
   ],
   "source": [
    "print('min time: {} \\nmax time: {}'.format(min(df.time), max(df.time)))"
   ]
  },
  {
   "cell_type": "markdown",
   "id": "51236cce",
   "metadata": {},
   "source": [
    "Retrieve the rows that are between 2015-08-20 03:55:00 and 2015-08-20 04:05:00."
   ]
  },
  {
   "cell_type": "code",
   "execution_count": 118,
   "id": "588a378e",
   "metadata": {},
   "outputs": [
    {
     "data": {
      "text/html": [
       "<div>\n",
       "<style scoped>\n",
       "    .dataframe tbody tr th:only-of-type {\n",
       "        vertical-align: middle;\n",
       "    }\n",
       "\n",
       "    .dataframe tbody tr th {\n",
       "        vertical-align: top;\n",
       "    }\n",
       "\n",
       "    .dataframe thead th {\n",
       "        text-align: right;\n",
       "    }\n",
       "</style>\n",
       "<table border=\"1\" class=\"dataframe\">\n",
       "  <thead>\n",
       "    <tr style=\"text-align: right;\">\n",
       "      <th></th>\n",
       "      <th>time</th>\n",
       "      <th>lat</th>\n",
       "      <th>lng</th>\n",
       "      <th>height</th>\n",
       "    </tr>\n",
       "  </thead>\n",
       "  <tbody>\n",
       "    <tr>\n",
       "      <th>153</th>\n",
       "      <td>2015-08-20 03:55:01.904</td>\n",
       "      <td>32.513024</td>\n",
       "      <td>35.011538</td>\n",
       "      <td>90.699997</td>\n",
       "    </tr>\n",
       "    <tr>\n",
       "      <th>154</th>\n",
       "      <td>2015-08-20 03:55:02.695</td>\n",
       "      <td>32.513016</td>\n",
       "      <td>35.011510</td>\n",
       "      <td>91.000000</td>\n",
       "    </tr>\n",
       "    <tr>\n",
       "      <th>155</th>\n",
       "      <td>2015-08-20 03:55:05.766</td>\n",
       "      <td>32.512991</td>\n",
       "      <td>35.011432</td>\n",
       "      <td>90.000000</td>\n",
       "    </tr>\n",
       "    <tr>\n",
       "      <th>156</th>\n",
       "      <td>2015-08-20 03:55:06.696</td>\n",
       "      <td>32.512982</td>\n",
       "      <td>35.011409</td>\n",
       "      <td>88.900002</td>\n",
       "    </tr>\n",
       "    <tr>\n",
       "      <th>157</th>\n",
       "      <td>2015-08-20 03:55:10.766</td>\n",
       "      <td>32.512965</td>\n",
       "      <td>35.011310</td>\n",
       "      <td>88.000000</td>\n",
       "    </tr>\n",
       "    <tr>\n",
       "      <th>...</th>\n",
       "      <td>...</td>\n",
       "      <td>...</td>\n",
       "      <td>...</td>\n",
       "      <td>...</td>\n",
       "    </tr>\n",
       "    <tr>\n",
       "      <th>361</th>\n",
       "      <td>2015-08-20 04:04:49.819</td>\n",
       "      <td>32.508560</td>\n",
       "      <td>35.016969</td>\n",
       "      <td>81.699997</td>\n",
       "    </tr>\n",
       "    <tr>\n",
       "      <th>362</th>\n",
       "      <td>2015-08-20 04:04:50.751</td>\n",
       "      <td>32.508565</td>\n",
       "      <td>35.016995</td>\n",
       "      <td>81.699997</td>\n",
       "    </tr>\n",
       "    <tr>\n",
       "      <th>363</th>\n",
       "      <td>2015-08-20 04:04:54.827</td>\n",
       "      <td>32.508588</td>\n",
       "      <td>35.017093</td>\n",
       "      <td>81.500000</td>\n",
       "    </tr>\n",
       "    <tr>\n",
       "      <th>364</th>\n",
       "      <td>2015-08-20 04:04:55.741</td>\n",
       "      <td>32.508594</td>\n",
       "      <td>35.017118</td>\n",
       "      <td>81.300003</td>\n",
       "    </tr>\n",
       "    <tr>\n",
       "      <th>365</th>\n",
       "      <td>2015-08-20 04:04:59.953</td>\n",
       "      <td>32.508622</td>\n",
       "      <td>35.017211</td>\n",
       "      <td>81.699997</td>\n",
       "    </tr>\n",
       "  </tbody>\n",
       "</table>\n",
       "<p>213 rows × 4 columns</p>\n",
       "</div>"
      ],
      "text/plain": [
       "                       time        lat        lng     height\n",
       "153 2015-08-20 03:55:01.904  32.513024  35.011538  90.699997\n",
       "154 2015-08-20 03:55:02.695  32.513016  35.011510  91.000000\n",
       "155 2015-08-20 03:55:05.766  32.512991  35.011432  90.000000\n",
       "156 2015-08-20 03:55:06.696  32.512982  35.011409  88.900002\n",
       "157 2015-08-20 03:55:10.766  32.512965  35.011310  88.000000\n",
       "..                      ...        ...        ...        ...\n",
       "361 2015-08-20 04:04:49.819  32.508560  35.016969  81.699997\n",
       "362 2015-08-20 04:04:50.751  32.508565  35.016995  81.699997\n",
       "363 2015-08-20 04:04:54.827  32.508588  35.017093  81.500000\n",
       "364 2015-08-20 04:04:55.741  32.508594  35.017118  81.300003\n",
       "365 2015-08-20 04:04:59.953  32.508622  35.017211  81.699997\n",
       "\n",
       "[213 rows x 4 columns]"
      ]
     },
     "execution_count": 118,
     "metadata": {},
     "output_type": "execute_result"
    }
   ],
   "source": [
    "df[('2015-08-20 03:55' <= df.time) & (df.time <='2015-08-20 04:05')]"
   ]
  },
  {
   "cell_type": "markdown",
   "id": "60ba3316",
   "metadata": {},
   "source": [
    "##### Calculate the average running speed per hour."
   ]
  },
  {
   "cell_type": "code",
   "execution_count": 122,
   "id": "7d8b6616",
   "metadata": {},
   "outputs": [],
   "source": [
    "lat_km = 92\n",
    "lng_km = 111\n",
    "\n",
    "def distance(lat1, lat2, lng1, lng2):\n",
    "    # For simplicity, let's use Euclidean distance\n",
    "    lat_delta = (lat1- lat2) * lat_km\n",
    "    lng_delta = (lng1 - lng2) * lng_km\n",
    "    return np.hypot(lat_delta, lng_delta)\n",
    "    "
   ]
  },
  {
   "cell_type": "markdown",
   "id": "a631affa",
   "metadata": {},
   "source": [
    "Use df.Series.shift to apply the distance function to the whole lat and lng columns."
   ]
  },
  {
   "cell_type": "code",
   "execution_count": 148,
   "id": "0898e46b",
   "metadata": {},
   "outputs": [
    {
     "data": {
      "text/plain": [
       "0           NaN\n",
       "1      0.007684\n",
       "2      0.009230\n",
       "3      0.006492\n",
       "4      0.006225\n",
       "         ...   \n",
       "735    0.011265\n",
       "736    0.003811\n",
       "737    0.009698\n",
       "738    0.001948\n",
       "739    0.007050\n",
       "Length: 740, dtype: float64"
      ]
     },
     "execution_count": 148,
     "metadata": {},
     "output_type": "execute_result"
    }
   ],
   "source": [
    "dist = distance(df.lat, df.lat.shift(),  df.lng, df.lng.shift())\n",
    "dist"
   ]
  },
  {
   "cell_type": "code",
   "execution_count": 149,
   "id": "f4ced739",
   "metadata": {},
   "outputs": [
    {
     "data": {
      "text/plain": [
       "4.693669332948701"
      ]
     },
     "execution_count": 149,
     "metadata": {},
     "output_type": "execute_result"
    }
   ],
   "source": [
    "dist_total = dist.sum()\n",
    "dist_total"
   ]
  },
  {
   "cell_type": "markdown",
   "id": "6f1f18cd",
   "metadata": {},
   "source": [
    "Total running distance is about 4.7 km, which is a reasonable value. Now calculate the total running time."
   ]
  },
  {
   "cell_type": "code",
   "execution_count": 144,
   "id": "dfb4cb47",
   "metadata": {},
   "outputs": [
    {
     "data": {
      "text/plain": [
       "0                        NaT\n",
       "1     0 days 00:00:17.499000\n",
       "2     0 days 00:00:00.926000\n",
       "3     0 days 00:00:01.159000\n",
       "4     0 days 00:00:01.009000\n",
       "               ...          \n",
       "735   0 days 00:00:03.147000\n",
       "736   0 days 00:00:00.941000\n",
       "737   0 days 00:00:02.940000\n",
       "738   0 days 00:00:01.131000\n",
       "739   0 days 00:00:08.335000\n",
       "Name: time, Length: 740, dtype: timedelta64[ns]"
      ]
     },
     "execution_count": 144,
     "metadata": {},
     "output_type": "execute_result"
    }
   ],
   "source": [
    "df.time.diff()"
   ]
  },
  {
   "cell_type": "code",
   "execution_count": 151,
   "id": "676589cf",
   "metadata": {},
   "outputs": [
    {
     "data": {
      "text/plain": [
       "Timedelta('0 days 00:32:35.094000')"
      ]
     },
     "execution_count": 151,
     "metadata": {},
     "output_type": "execute_result"
    }
   ],
   "source": [
    "running_time = df.time.diff()\n",
    "running_time.sum()"
   ]
  },
  {
   "cell_type": "code",
   "execution_count": 154,
   "id": "70d8b2c2",
   "metadata": {},
   "outputs": [
    {
     "data": {
      "text/plain": [
       "0            NaN\n",
       "1       1.580769\n",
       "2      35.881510\n",
       "3      20.165334\n",
       "4      22.211645\n",
       "         ...    \n",
       "735    12.886427\n",
       "736    14.578495\n",
       "737    11.875200\n",
       "738     6.201891\n",
       "739     3.044985\n",
       "Length: 740, dtype: float64"
      ]
     },
     "execution_count": 154,
     "metadata": {},
     "output_type": "execute_result"
    }
   ],
   "source": [
    "running_time_hour = running_time / pd.Timedelta(1, 'hour')\n",
    "speed = dist / (running_time_hour)\n",
    "speed"
   ]
  },
  {
   "cell_type": "markdown",
   "id": "fcaeb343",
   "metadata": {},
   "source": [
    "Note that in some instance the speed is as high as 35 km/h which is way too fast for an average person. This error can be due to gpa glitches, and the Euclidean distance. <br>\n",
    "Plot the boxplot of speed series to see how speed values are distributed and spot the outliers."
   ]
  },
  {
   "cell_type": "code",
   "execution_count": 158,
   "id": "c9722473",
   "metadata": {},
   "outputs": [
    {
     "data": {
      "text/plain": [
       "count    739.000000\n",
       "mean       9.580445\n",
       "std        2.937204\n",
       "min        1.580769\n",
       "25%        7.902295\n",
       "50%        9.604717\n",
       "75%       10.880122\n",
       "max       38.085958\n",
       "dtype: float64"
      ]
     },
     "execution_count": 158,
     "metadata": {},
     "output_type": "execute_result"
    }
   ],
   "source": [
    "speed.describe()"
   ]
  },
  {
   "cell_type": "code",
   "execution_count": 170,
   "id": "348dc787",
   "metadata": {},
   "outputs": [
    {
     "data": {
      "image/png": "[encoded data removed]",
      "text/plain": [
       "<Figure size 720x432 with 1 Axes>"
      ]
     },
     "metadata": {},
     "output_type": "display_data"
    }
   ],
   "source": [
    "plt.rcParams['figure.figsize'] = (10, 6)\n",
    "plt.style.use('seaborn-whitegrid')\n",
    "\n",
    "speed.name = ''\n",
    "ax = speed.plot.box(title='Running Speed Values')\n",
    "ax.set_ylabel(r'Running Values in $\\frac{km}{h}$ ');"
   ]
  },
  {
   "cell_type": "markdown",
   "id": "688b64c5",
   "metadata": {},
   "source": [
    "##### NYC Yellow Taxi Mean Speed in January, 2022 <br>\n",
    "Import Yellow Taxi Trip Records in NYC for January, 2022. The dataset is from https://www1.nyc.gov/site/tlc/about/tlc-trip-record-data.page."
   ]
  },
  {
   "cell_type": "code",
   "execution_count": 183,
   "id": "e87329f2",
   "metadata": {},
   "outputs": [
    {
     "data": {
      "text/html": [
       "<div>\n",
       "<style scoped>\n",
       "    .dataframe tbody tr th:only-of-type {\n",
       "        vertical-align: middle;\n",
       "    }\n",
       "\n",
       "    .dataframe tbody tr th {\n",
       "        vertical-align: top;\n",
       "    }\n",
       "\n",
       "    .dataframe thead th {\n",
       "        text-align: right;\n",
       "    }\n",
       "</style>\n",
       "<table border=\"1\" class=\"dataframe\">\n",
       "  <thead>\n",
       "    <tr style=\"text-align: right;\">\n",
       "      <th></th>\n",
       "      <th>VendorID</th>\n",
       "      <th>tpep_pickup_datetime</th>\n",
       "      <th>tpep_dropoff_datetime</th>\n",
       "      <th>passenger_count</th>\n",
       "      <th>trip_distance</th>\n",
       "      <th>RatecodeID</th>\n",
       "      <th>store_and_fwd_flag</th>\n",
       "      <th>PULocationID</th>\n",
       "      <th>DOLocationID</th>\n",
       "      <th>payment_type</th>\n",
       "      <th>fare_amount</th>\n",
       "      <th>extra</th>\n",
       "      <th>mta_tax</th>\n",
       "      <th>tip_amount</th>\n",
       "      <th>tolls_amount</th>\n",
       "      <th>improvement_surcharge</th>\n",
       "      <th>total_amount</th>\n",
       "      <th>congestion_surcharge</th>\n",
       "      <th>airport_fee</th>\n",
       "    </tr>\n",
       "  </thead>\n",
       "  <tbody>\n",
       "    <tr>\n",
       "      <th>0</th>\n",
       "      <td>1</td>\n",
       "      <td>2022-01-01 00:35:40</td>\n",
       "      <td>2022-01-01 00:53:29</td>\n",
       "      <td>2.0</td>\n",
       "      <td>3.80</td>\n",
       "      <td>1.0</td>\n",
       "      <td>N</td>\n",
       "      <td>142</td>\n",
       "      <td>236</td>\n",
       "      <td>1</td>\n",
       "      <td>14.5</td>\n",
       "      <td>3.0</td>\n",
       "      <td>0.5</td>\n",
       "      <td>3.65</td>\n",
       "      <td>0.0</td>\n",
       "      <td>0.3</td>\n",
       "      <td>21.95</td>\n",
       "      <td>2.5</td>\n",
       "      <td>0.0</td>\n",
       "    </tr>\n",
       "    <tr>\n",
       "      <th>1</th>\n",
       "      <td>1</td>\n",
       "      <td>2022-01-01 00:33:43</td>\n",
       "      <td>2022-01-01 00:42:07</td>\n",
       "      <td>1.0</td>\n",
       "      <td>2.10</td>\n",
       "      <td>1.0</td>\n",
       "      <td>N</td>\n",
       "      <td>236</td>\n",
       "      <td>42</td>\n",
       "      <td>1</td>\n",
       "      <td>8.0</td>\n",
       "      <td>0.5</td>\n",
       "      <td>0.5</td>\n",
       "      <td>4.00</td>\n",
       "      <td>0.0</td>\n",
       "      <td>0.3</td>\n",
       "      <td>13.30</td>\n",
       "      <td>0.0</td>\n",
       "      <td>0.0</td>\n",
       "    </tr>\n",
       "    <tr>\n",
       "      <th>2</th>\n",
       "      <td>2</td>\n",
       "      <td>2022-01-01 00:53:21</td>\n",
       "      <td>2022-01-01 01:02:19</td>\n",
       "      <td>1.0</td>\n",
       "      <td>0.97</td>\n",
       "      <td>1.0</td>\n",
       "      <td>N</td>\n",
       "      <td>166</td>\n",
       "      <td>166</td>\n",
       "      <td>1</td>\n",
       "      <td>7.5</td>\n",
       "      <td>0.5</td>\n",
       "      <td>0.5</td>\n",
       "      <td>1.76</td>\n",
       "      <td>0.0</td>\n",
       "      <td>0.3</td>\n",
       "      <td>10.56</td>\n",
       "      <td>0.0</td>\n",
       "      <td>0.0</td>\n",
       "    </tr>\n",
       "    <tr>\n",
       "      <th>3</th>\n",
       "      <td>2</td>\n",
       "      <td>2022-01-01 00:25:21</td>\n",
       "      <td>2022-01-01 00:35:23</td>\n",
       "      <td>1.0</td>\n",
       "      <td>1.09</td>\n",
       "      <td>1.0</td>\n",
       "      <td>N</td>\n",
       "      <td>114</td>\n",
       "      <td>68</td>\n",
       "      <td>2</td>\n",
       "      <td>8.0</td>\n",
       "      <td>0.5</td>\n",
       "      <td>0.5</td>\n",
       "      <td>0.00</td>\n",
       "      <td>0.0</td>\n",
       "      <td>0.3</td>\n",
       "      <td>11.80</td>\n",
       "      <td>2.5</td>\n",
       "      <td>0.0</td>\n",
       "    </tr>\n",
       "    <tr>\n",
       "      <th>4</th>\n",
       "      <td>2</td>\n",
       "      <td>2022-01-01 00:36:48</td>\n",
       "      <td>2022-01-01 01:14:20</td>\n",
       "      <td>1.0</td>\n",
       "      <td>4.30</td>\n",
       "      <td>1.0</td>\n",
       "      <td>N</td>\n",
       "      <td>68</td>\n",
       "      <td>163</td>\n",
       "      <td>1</td>\n",
       "      <td>23.5</td>\n",
       "      <td>0.5</td>\n",
       "      <td>0.5</td>\n",
       "      <td>3.00</td>\n",
       "      <td>0.0</td>\n",
       "      <td>0.3</td>\n",
       "      <td>30.30</td>\n",
       "      <td>2.5</td>\n",
       "      <td>0.0</td>\n",
       "    </tr>\n",
       "  </tbody>\n",
       "</table>\n",
       "</div>"
      ],
      "text/plain": [
       "   VendorID tpep_pickup_datetime tpep_dropoff_datetime  passenger_count  \\\n",
       "0         1  2022-01-01 00:35:40   2022-01-01 00:53:29              2.0   \n",
       "1         1  2022-01-01 00:33:43   2022-01-01 00:42:07              1.0   \n",
       "2         2  2022-01-01 00:53:21   2022-01-01 01:02:19              1.0   \n",
       "3         2  2022-01-01 00:25:21   2022-01-01 00:35:23              1.0   \n",
       "4         2  2022-01-01 00:36:48   2022-01-01 01:14:20              1.0   \n",
       "\n",
       "   trip_distance  RatecodeID store_and_fwd_flag  PULocationID  DOLocationID  \\\n",
       "0           3.80         1.0                  N           142           236   \n",
       "1           2.10         1.0                  N           236            42   \n",
       "2           0.97         1.0                  N           166           166   \n",
       "3           1.09         1.0                  N           114            68   \n",
       "4           4.30         1.0                  N            68           163   \n",
       "\n",
       "   payment_type  fare_amount  extra  mta_tax  tip_amount  tolls_amount  \\\n",
       "0             1         14.5    3.0      0.5        3.65           0.0   \n",
       "1             1          8.0    0.5      0.5        4.00           0.0   \n",
       "2             1          7.5    0.5      0.5        1.76           0.0   \n",
       "3             2          8.0    0.5      0.5        0.00           0.0   \n",
       "4             1         23.5    0.5      0.5        3.00           0.0   \n",
       "\n",
       "   improvement_surcharge  total_amount  congestion_surcharge  airport_fee  \n",
       "0                    0.3         21.95                   2.5          0.0  \n",
       "1                    0.3         13.30                   0.0          0.0  \n",
       "2                    0.3         10.56                   0.0          0.0  \n",
       "3                    0.3         11.80                   2.5          0.0  \n",
       "4                    0.3         30.30                   2.5          0.0  "
      ]
     },
     "execution_count": 183,
     "metadata": {},
     "output_type": "execute_result"
    }
   ],
   "source": [
    "df = pd.read_parquet('C:/Users/Lenovo/Desktop/datasets/yellow_tripdata_2022-01.parquet')\n",
    "df.head()"
   ]
  },
  {
   "cell_type": "code",
   "execution_count": 185,
   "id": "d6d37ec5",
   "metadata": {},
   "outputs": [
    {
     "name": "stdout",
     "output_type": "stream",
     "text": [
      "<class 'pandas.core.frame.DataFrame'>\n",
      "RangeIndex: 2463931 entries, 0 to 2463930\n",
      "Data columns (total 19 columns):\n",
      " #   Column                 Dtype         \n",
      "---  ------                 -----         \n",
      " 0   VendorID               int64         \n",
      " 1   tpep_pickup_datetime   datetime64[ns]\n",
      " 2   tpep_dropoff_datetime  datetime64[ns]\n",
      " 3   passenger_count        float64       \n",
      " 4   trip_distance          float64       \n",
      " 5   RatecodeID             float64       \n",
      " 6   store_and_fwd_flag     object        \n",
      " 7   PULocationID           int64         \n",
      " 8   DOLocationID           int64         \n",
      " 9   payment_type           int64         \n",
      " 10  fare_amount            float64       \n",
      " 11  extra                  float64       \n",
      " 12  mta_tax                float64       \n",
      " 13  tip_amount             float64       \n",
      " 14  tolls_amount           float64       \n",
      " 15  improvement_surcharge  float64       \n",
      " 16  total_amount           float64       \n",
      " 17  congestion_surcharge   float64       \n",
      " 18  airport_fee            float64       \n",
      "dtypes: datetime64[ns](2), float64(12), int64(4), object(1)\n",
      "memory usage: 357.2+ MB\n"
     ]
    }
   ],
   "source": [
    "df.info()"
   ]
  },
  {
   "cell_type": "code",
   "execution_count": 176,
   "id": "485c90b0",
   "metadata": {},
   "outputs": [
    {
     "data": {
      "text/plain": [
       "2463931"
      ]
     },
     "execution_count": 176,
     "metadata": {},
     "output_type": "execute_result"
    }
   ],
   "source": [
    "len(df)"
   ]
  },
  {
   "cell_type": "markdown",
   "id": "9d98a3bb",
   "metadata": {},
   "source": [
    "We have around 2.5 millions of rows. How many different vendorid does the dataset have?"
   ]
  },
  {
   "cell_type": "code",
   "execution_count": 177,
   "id": "a7ee418c",
   "metadata": {},
   "outputs": [
    {
     "data": {
      "text/plain": [
       "4"
      ]
     },
     "execution_count": 177,
     "metadata": {},
     "output_type": "execute_result"
    }
   ],
   "source": [
    "df.VendorID.nunique()"
   ]
  },
  {
   "cell_type": "markdown",
   "id": "a6fcc642",
   "metadata": {},
   "source": [
    "First, check for the rows whose dropoff time is earlier than pickup time, and then drop them if any."
   ]
  },
  {
   "cell_type": "code",
   "execution_count": 221,
   "id": "3f9e792f",
   "metadata": {},
   "outputs": [],
   "source": [
    "mask = df['tpep_dropoff_datetime'] < df['tpep_pickup_datetime']\n",
    "df = df[~mask]"
   ]
  },
  {
   "cell_type": "markdown",
   "id": "5c3a6a3a",
   "metadata": {},
   "source": [
    "Calculate the trip time for each row."
   ]
  },
  {
   "cell_type": "code",
   "execution_count": 222,
   "id": "17c7372a",
   "metadata": {},
   "outputs": [
    {
     "data": {
      "text/plain": [
       "0         0 days 00:17:49\n",
       "1         0 days 00:08:24\n",
       "2         0 days 00:08:58\n",
       "3         0 days 00:10:02\n",
       "4         0 days 00:37:32\n",
       "                ...      \n",
       "2463926   0 days 00:05:58\n",
       "2463927   0 days 00:10:39\n",
       "2463928   0 days 00:11:00\n",
       "2463929   0 days 00:12:03\n",
       "2463930   0 days 00:27:00\n",
       "Length: 2462578, dtype: timedelta64[ns]"
      ]
     },
     "execution_count": 222,
     "metadata": {},
     "output_type": "execute_result"
    }
   ],
   "source": [
    "trip_time = df['tpep_dropoff_datetime'] - df['tpep_pickup_datetime']\n",
    "trip_time"
   ]
  },
  {
   "cell_type": "code",
   "execution_count": 228,
   "id": "1c57b4e3",
   "metadata": {},
   "outputs": [
    {
     "data": {
      "text/plain": [
       "count                      2462578\n",
       "mean     0 days 00:14:13.298877030\n",
       "std      0 days 00:46:24.268868391\n",
       "min                0 days 00:00:00\n",
       "25%                0 days 00:06:19\n",
       "50%                0 days 00:10:11\n",
       "75%                0 days 00:16:10\n",
       "max                5 days 21:53:11\n",
       "dtype: object"
      ]
     },
     "execution_count": 228,
     "metadata": {},
     "output_type": "execute_result"
    }
   ],
   "source": [
    "trip_time.describe()"
   ]
  },
  {
   "cell_type": "markdown",
   "id": "c5d74150",
   "metadata": {},
   "source": [
    "Note that the minimum value will raise zero division error, drop all the rows whose trip time is 0."
   ]
  },
  {
   "cell_type": "code",
   "execution_count": 229,
   "id": "ca2d23fc",
   "metadata": {},
   "outputs": [
    {
     "data": {
      "text/plain": [
       "1760      0 days\n",
       "3156      0 days\n",
       "4726      0 days\n",
       "5612      0 days\n",
       "5613      0 days\n",
       "           ...  \n",
       "2462474   0 days\n",
       "2463335   0 days\n",
       "2463423   0 days\n",
       "2463528   0 days\n",
       "2463542   0 days\n",
       "Length: 1096, dtype: timedelta64[ns]"
      ]
     },
     "execution_count": 229,
     "metadata": {},
     "output_type": "execute_result"
    }
   ],
   "source": [
    "neg_days = trip_time == '0 days'\n",
    "trip_time[neg_days]"
   ]
  },
  {
   "cell_type": "code",
   "execution_count": 230,
   "id": "127b67a4",
   "metadata": {},
   "outputs": [],
   "source": [
    "trip_time = trip_time[~neg_days]"
   ]
  },
  {
   "cell_type": "markdown",
   "id": "5f26d43c",
   "metadata": {},
   "source": [
    "Calculate the average speed for each trip."
   ]
  },
  {
   "cell_type": "code",
   "execution_count": 231,
   "id": "cbe8ac1e",
   "metadata": {},
   "outputs": [
    {
     "data": {
      "text/plain": [
       "0          12.797007\n",
       "1          15.000000\n",
       "2           6.490706\n",
       "3           6.518272\n",
       "4           6.873890\n",
       "             ...    \n",
       "2463926    13.273743\n",
       "2463927    23.605634\n",
       "2463928    11.454545\n",
       "2463929    14.539419\n",
       "2463930    19.866667\n",
       "Length: 2462578, dtype: float64"
      ]
     },
     "execution_count": 231,
     "metadata": {},
     "output_type": "execute_result"
    }
   ],
   "source": [
    "trip_hour = trip_time / pd.Timedelta(1, 'hour')\n",
    "speed = df.trip_distance / trip_hour\n",
    "speed"
   ]
  },
  {
   "cell_type": "markdown",
   "id": "3a28a684",
   "metadata": {},
   "source": [
    "Finally, we can show the average speed for all the trips."
   ]
  },
  {
   "cell_type": "code",
   "execution_count": 232,
   "id": "20785599",
   "metadata": {},
   "outputs": [
    {
     "data": {
      "text/plain": [
       "33.04191954805846"
      ]
     },
     "execution_count": 232,
     "metadata": {},
     "output_type": "execute_result"
    }
   ],
   "source": [
    "speed.mean()"
   ]
  },
  {
   "cell_type": "code",
   "execution_count": null,
   "id": "e96e6b07",
   "metadata": {},
   "outputs": [],
   "source": []
  }
 ],
 "metadata": {
  "kernelspec": {
   "display_name": "Python 3",
   "language": "python",
   "name": "python3"
  },
  "language_info": {
   "codemirror_mode": {
    "name": "ipython",
    "version": 3
   },
   "file_extension": ".py",
   "mimetype": "text/x-python",
   "name": "python",
   "nbconvert_exporter": "python",
   "pygments_lexer": "ipython3",
   "version": "3.8.8"
  }
 },
 "nbformat": 4,
 "nbformat_minor": 5
}
