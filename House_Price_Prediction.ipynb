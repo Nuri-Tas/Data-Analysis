{
  "nbformat": 4,
  "nbformat_minor": 0,
  "metadata": {
    "colab": {
      "provenance": [],
      "authorship_tag": "ABX9TyMaqowE4aOVHgo2C5cupRt9",
      "include_colab_link": true
    },
    "kernelspec": {
      "name": "python3",
      "display_name": "Python 3"
    },
    "language_info": {
      "name": "python"
    }
  },
  "cells": [
    {
      "cell_type": "markdown",
      "metadata": {
        "id": "view-in-github",
        "colab_type": "text"
      },
      "source": [
        "<a href=\"https://colab.research.google.com/github/Nuri-Tas/Data-Analysis/blob/main/House_Price_Prediction.ipynb\" target=\"_parent\"><img src=\"https://colab.research.google.com/assets/colab-badge.svg\" alt=\"Open In Colab\"/></a>"
      ]
    },
    {
      "cell_type": "code",
      "execution_count": 77,
      "metadata": {
        "id": "pL5zCKmKU2cM"
      },
      "outputs": [],
      "source": [
        "import pandas as pd \n",
        "import numpy as np\n",
        "\n",
        "import matplotlib.pyplot as plt\n",
        "import seaborn as sns\n",
        "\n",
        "from tensorflow.keras.models import Sequential\n",
        "from tensorflow.keras.layers import LSTM, Dense, Dropout, Bidirectional\n",
        "from tensorflow.keras.callbacks import EarlyStopping\n",
        "\n",
        "from sklearn.preprocessing import StandardScaler\n",
        "from sklearn.metrics import mean_absolute_error, mean_absolute_percentage_error\n",
        "\n",
        "import warnings\n",
        "warnings.simplefilter('ignore')"
      ]
    },
    {
      "cell_type": "code",
      "source": [
        "df = pd.read_csv('/content/data.csv', parse_dates=[0])\n",
        "\n",
        "df.head(3)"
      ],
      "metadata": {
        "colab": {
          "base_uri": "https://localhost:8080/",
          "height": 312
        },
        "id": "UyzyO2vaU7-l",
        "outputId": "15d0c4cb-39e8-4f67-a21e-857877fd9c29"
      },
      "execution_count": 95,
      "outputs": [
        {
          "output_type": "execute_result",
          "data": {
            "text/plain": [
              "        date      price  bedrooms  bathrooms  sqft_living  sqft_lot  floors  \\\n",
              "0 2014-05-02   313000.0       3.0        1.5         1340      7912     1.5   \n",
              "1 2014-05-02  2384000.0       5.0        2.5         3650      9050     2.0   \n",
              "2 2014-05-02   342000.0       3.0        2.0         1930     11947     1.0   \n",
              "\n",
              "   waterfront  view  condition  sqft_above  sqft_basement  yr_built  \\\n",
              "0           0     0          3        1340              0      1955   \n",
              "1           0     4          5        3370            280      1921   \n",
              "2           0     0          4        1930              0      1966   \n",
              "\n",
              "   yr_renovated                    street       city  statezip country  \n",
              "0          2005      18810 Densmore Ave N  Shoreline  WA 98133     USA  \n",
              "1             0           709 W Blaine St    Seattle  WA 98119     USA  \n",
              "2             0  26206-26214 143rd Ave SE       Kent  WA 98042     USA  "
            ],
            "text/html": [
              "\n",
              "  <div id=\"df-e1ae639b-1b12-48a2-bf63-db717e4ce695\">\n",
              "    <div class=\"colab-df-container\">\n",
              "      <div>\n",
              "<style scoped>\n",
              "    .dataframe tbody tr th:only-of-type {\n",
              "        vertical-align: middle;\n",
              "    }\n",
              "\n",
              "    .dataframe tbody tr th {\n",
              "        vertical-align: top;\n",
              "    }\n",
              "\n",
              "    .dataframe thead th {\n",
              "        text-align: right;\n",
              "    }\n",
              "</style>\n",
              "<table border=\"1\" class=\"dataframe\">\n",
              "  <thead>\n",
              "    <tr style=\"text-align: right;\">\n",
              "      <th></th>\n",
              "      <th>date</th>\n",
              "      <th>price</th>\n",
              "      <th>bedrooms</th>\n",
              "      <th>bathrooms</th>\n",
              "      <th>sqft_living</th>\n",
              "      <th>sqft_lot</th>\n",
              "      <th>floors</th>\n",
              "      <th>waterfront</th>\n",
              "      <th>view</th>\n",
              "      <th>condition</th>\n",
              "      <th>sqft_above</th>\n",
              "      <th>sqft_basement</th>\n",
              "      <th>yr_built</th>\n",
              "      <th>yr_renovated</th>\n",
              "      <th>street</th>\n",
              "      <th>city</th>\n",
              "      <th>statezip</th>\n",
              "      <th>country</th>\n",
              "    </tr>\n",
              "  </thead>\n",
              "  <tbody>\n",
              "    <tr>\n",
              "      <th>0</th>\n",
              "      <td>2014-05-02</td>\n",
              "      <td>313000.0</td>\n",
              "      <td>3.0</td>\n",
              "      <td>1.5</td>\n",
              "      <td>1340</td>\n",
              "      <td>7912</td>\n",
              "      <td>1.5</td>\n",
              "      <td>0</td>\n",
              "      <td>0</td>\n",
              "      <td>3</td>\n",
              "      <td>1340</td>\n",
              "      <td>0</td>\n",
              "      <td>1955</td>\n",
              "      <td>2005</td>\n",
              "      <td>18810 Densmore Ave N</td>\n",
              "      <td>Shoreline</td>\n",
              "      <td>WA 98133</td>\n",
              "      <td>USA</td>\n",
              "    </tr>\n",
              "    <tr>\n",
              "      <th>1</th>\n",
              "      <td>2014-05-02</td>\n",
              "      <td>2384000.0</td>\n",
              "      <td>5.0</td>\n",
              "      <td>2.5</td>\n",
              "      <td>3650</td>\n",
              "      <td>9050</td>\n",
              "      <td>2.0</td>\n",
              "      <td>0</td>\n",
              "      <td>4</td>\n",
              "      <td>5</td>\n",
              "      <td>3370</td>\n",
              "      <td>280</td>\n",
              "      <td>1921</td>\n",
              "      <td>0</td>\n",
              "      <td>709 W Blaine St</td>\n",
              "      <td>Seattle</td>\n",
              "      <td>WA 98119</td>\n",
              "      <td>USA</td>\n",
              "    </tr>\n",
              "    <tr>\n",
              "      <th>2</th>\n",
              "      <td>2014-05-02</td>\n",
              "      <td>342000.0</td>\n",
              "      <td>3.0</td>\n",
              "      <td>2.0</td>\n",
              "      <td>1930</td>\n",
              "      <td>11947</td>\n",
              "      <td>1.0</td>\n",
              "      <td>0</td>\n",
              "      <td>0</td>\n",
              "      <td>4</td>\n",
              "      <td>1930</td>\n",
              "      <td>0</td>\n",
              "      <td>1966</td>\n",
              "      <td>0</td>\n",
              "      <td>26206-26214 143rd Ave SE</td>\n",
              "      <td>Kent</td>\n",
              "      <td>WA 98042</td>\n",
              "      <td>USA</td>\n",
              "    </tr>\n",
              "  </tbody>\n",
              "</table>\n",
              "</div>\n",
              "      <button class=\"colab-df-convert\" onclick=\"convertToInteractive('df-e1ae639b-1b12-48a2-bf63-db717e4ce695')\"\n",
              "              title=\"Convert this dataframe to an interactive table.\"\n",
              "              style=\"display:none;\">\n",
              "        \n",
              "  <svg xmlns=\"http://www.w3.org/2000/svg\" height=\"24px\"viewBox=\"0 0 24 24\"\n",
              "       width=\"24px\">\n",
              "    <path d=\"M0 0h24v24H0V0z\" fill=\"none\"/>\n",
              "    <path d=\"M18.56 5.44l.94 2.06.94-2.06 2.06-.94-2.06-.94-.94-2.06-.94 2.06-2.06.94zm-11 1L8.5 8.5l.94-2.06 2.06-.94-2.06-.94L8.5 2.5l-.94 2.06-2.06.94zm10 10l.94 2.06.94-2.06 2.06-.94-2.06-.94-.94-2.06-.94 2.06-2.06.94z\"/><path d=\"M17.41 7.96l-1.37-1.37c-.4-.4-.92-.59-1.43-.59-.52 0-1.04.2-1.43.59L10.3 9.45l-7.72 7.72c-.78.78-.78 2.05 0 2.83L4 21.41c.39.39.9.59 1.41.59.51 0 1.02-.2 1.41-.59l7.78-7.78 2.81-2.81c.8-.78.8-2.07 0-2.86zM5.41 20L4 18.59l7.72-7.72 1.47 1.35L5.41 20z\"/>\n",
              "  </svg>\n",
              "      </button>\n",
              "      \n",
              "  <style>\n",
              "    .colab-df-container {\n",
              "      display:flex;\n",
              "      flex-wrap:wrap;\n",
              "      gap: 12px;\n",
              "    }\n",
              "\n",
              "    .colab-df-convert {\n",
              "      background-color: #E8F0FE;\n",
              "      border: none;\n",
              "      border-radius: 50%;\n",
              "      cursor: pointer;\n",
              "      display: none;\n",
              "      fill: #1967D2;\n",
              "      height: 32px;\n",
              "      padding: 0 0 0 0;\n",
              "      width: 32px;\n",
              "    }\n",
              "\n",
              "    .colab-df-convert:hover {\n",
              "      background-color: #E2EBFA;\n",
              "      box-shadow: 0px 1px 2px rgba(60, 64, 67, 0.3), 0px 1px 3px 1px rgba(60, 64, 67, 0.15);\n",
              "      fill: #174EA6;\n",
              "    }\n",
              "\n",
              "    [theme=dark] .colab-df-convert {\n",
              "      background-color: #3B4455;\n",
              "      fill: #D2E3FC;\n",
              "    }\n",
              "\n",
              "    [theme=dark] .colab-df-convert:hover {\n",
              "      background-color: #434B5C;\n",
              "      box-shadow: 0px 1px 3px 1px rgba(0, 0, 0, 0.15);\n",
              "      filter: drop-shadow(0px 1px 2px rgba(0, 0, 0, 0.3));\n",
              "      fill: #FFFFFF;\n",
              "    }\n",
              "  </style>\n",
              "\n",
              "      <script>\n",
              "        const buttonEl =\n",
              "          document.querySelector('#df-e1ae639b-1b12-48a2-bf63-db717e4ce695 button.colab-df-convert');\n",
              "        buttonEl.style.display =\n",
              "          google.colab.kernel.accessAllowed ? 'block' : 'none';\n",
              "\n",
              "        async function convertToInteractive(key) {\n",
              "          const element = document.querySelector('#df-e1ae639b-1b12-48a2-bf63-db717e4ce695');\n",
              "          const dataTable =\n",
              "            await google.colab.kernel.invokeFunction('convertToInteractive',\n",
              "                                                     [key], {});\n",
              "          if (!dataTable) return;\n",
              "\n",
              "          const docLinkHtml = 'Like what you see? Visit the ' +\n",
              "            '<a target=\"_blank\" href=https://colab.research.google.com/notebooks/data_table.ipynb>data table notebook</a>'\n",
              "            + ' to learn more about interactive tables.';\n",
              "          element.innerHTML = '';\n",
              "          dataTable['output_type'] = 'display_data';\n",
              "          await google.colab.output.renderOutput(dataTable, element);\n",
              "          const docLink = document.createElement('div');\n",
              "          docLink.innerHTML = docLinkHtml;\n",
              "          element.appendChild(docLink);\n",
              "        }\n",
              "      </script>\n",
              "    </div>\n",
              "  </div>\n",
              "  "
            ]
          },
          "metadata": {},
          "execution_count": 95
        }
      ]
    },
    {
      "cell_type": "code",
      "source": [
        "df.info()"
      ],
      "metadata": {
        "colab": {
          "base_uri": "https://localhost:8080/"
        },
        "id": "MRcG0RSaRkRF",
        "outputId": "f26ba479-2ba9-4ac3-cd8c-fa28c495fafb"
      },
      "execution_count": 112,
      "outputs": [
        {
          "output_type": "stream",
          "name": "stdout",
          "text": [
            "<class 'pandas.core.frame.DataFrame'>\n",
            "Int64Index: 4549 entries, 0 to 4599\n",
            "Data columns (total 18 columns):\n",
            " #   Column         Non-Null Count  Dtype         \n",
            "---  ------         --------------  -----         \n",
            " 0   date           4549 non-null   datetime64[ns]\n",
            " 1   price          4549 non-null   float64       \n",
            " 2   bedrooms       4549 non-null   float64       \n",
            " 3   bathrooms      4549 non-null   float64       \n",
            " 4   sqft_living    4549 non-null   int64         \n",
            " 5   sqft_lot       4549 non-null   int64         \n",
            " 6   floors         4549 non-null   float64       \n",
            " 7   waterfront     4549 non-null   int64         \n",
            " 8   view           4549 non-null   int64         \n",
            " 9   condition      4549 non-null   int64         \n",
            " 10  sqft_above     4549 non-null   int64         \n",
            " 11  sqft_basement  4549 non-null   int64         \n",
            " 12  yr_built       4549 non-null   int64         \n",
            " 13  yr_renovated   4549 non-null   int64         \n",
            " 14  street         4549 non-null   object        \n",
            " 15  city           4549 non-null   object        \n",
            " 16  statezip       4549 non-null   object        \n",
            " 17  country        4549 non-null   object        \n",
            "dtypes: datetime64[ns](1), float64(4), int64(9), object(4)\n",
            "memory usage: 675.2+ KB\n"
          ]
        }
      ]
    },
    {
      "cell_type": "code",
      "source": [
        "df.describe().T"
      ],
      "metadata": {
        "colab": {
          "base_uri": "https://localhost:8080/",
          "height": 457
        },
        "id": "12x2q9GgPcHL",
        "outputId": "76a6dd90-8632-473a-ea54-43cb8064b148"
      },
      "execution_count": 96,
      "outputs": [
        {
          "output_type": "execute_result",
          "data": {
            "text/plain": [
              "                count           mean            std     min        25%  \\\n",
              "price          4600.0  551962.988473  563834.702547     0.0  322875.00   \n",
              "bedrooms       4600.0       3.400870       0.908848     0.0       3.00   \n",
              "bathrooms      4600.0       2.160815       0.783781     0.0       1.75   \n",
              "sqft_living    4600.0    2139.346957     963.206916   370.0    1460.00   \n",
              "sqft_lot       4600.0   14852.516087   35884.436145   638.0    5000.75   \n",
              "floors         4600.0       1.512065       0.538288     1.0       1.00   \n",
              "waterfront     4600.0       0.007174       0.084404     0.0       0.00   \n",
              "view           4600.0       0.240652       0.778405     0.0       0.00   \n",
              "condition      4600.0       3.451739       0.677230     1.0       3.00   \n",
              "sqft_above     4600.0    1827.265435     862.168977   370.0    1190.00   \n",
              "sqft_basement  4600.0     312.081522     464.137228     0.0       0.00   \n",
              "yr_built       4600.0    1970.786304      29.731848  1900.0    1951.00   \n",
              "yr_renovated   4600.0     808.608261     979.414536     0.0       0.00   \n",
              "\n",
              "                         50%        75%         max  \n",
              "price          460943.461539  654962.50  26590000.0  \n",
              "bedrooms            3.000000       4.00         9.0  \n",
              "bathrooms           2.250000       2.50         8.0  \n",
              "sqft_living      1980.000000    2620.00     13540.0  \n",
              "sqft_lot         7683.000000   11001.25   1074218.0  \n",
              "floors              1.500000       2.00         3.5  \n",
              "waterfront          0.000000       0.00         1.0  \n",
              "view                0.000000       0.00         4.0  \n",
              "condition           3.000000       4.00         5.0  \n",
              "sqft_above       1590.000000    2300.00      9410.0  \n",
              "sqft_basement       0.000000     610.00      4820.0  \n",
              "yr_built         1976.000000    1997.00      2014.0  \n",
              "yr_renovated        0.000000    1999.00      2014.0  "
            ],
            "text/html": [
              "\n",
              "  <div id=\"df-dde0cf33-6086-4328-8755-7108dc9b8bed\">\n",
              "    <div class=\"colab-df-container\">\n",
              "      <div>\n",
              "<style scoped>\n",
              "    .dataframe tbody tr th:only-of-type {\n",
              "        vertical-align: middle;\n",
              "    }\n",
              "\n",
              "    .dataframe tbody tr th {\n",
              "        vertical-align: top;\n",
              "    }\n",
              "\n",
              "    .dataframe thead th {\n",
              "        text-align: right;\n",
              "    }\n",
              "</style>\n",
              "<table border=\"1\" class=\"dataframe\">\n",
              "  <thead>\n",
              "    <tr style=\"text-align: right;\">\n",
              "      <th></th>\n",
              "      <th>count</th>\n",
              "      <th>mean</th>\n",
              "      <th>std</th>\n",
              "      <th>min</th>\n",
              "      <th>25%</th>\n",
              "      <th>50%</th>\n",
              "      <th>75%</th>\n",
              "      <th>max</th>\n",
              "    </tr>\n",
              "  </thead>\n",
              "  <tbody>\n",
              "    <tr>\n",
              "      <th>price</th>\n",
              "      <td>4600.0</td>\n",
              "      <td>551962.988473</td>\n",
              "      <td>563834.702547</td>\n",
              "      <td>0.0</td>\n",
              "      <td>322875.00</td>\n",
              "      <td>460943.461539</td>\n",
              "      <td>654962.50</td>\n",
              "      <td>26590000.0</td>\n",
              "    </tr>\n",
              "    <tr>\n",
              "      <th>bedrooms</th>\n",
              "      <td>4600.0</td>\n",
              "      <td>3.400870</td>\n",
              "      <td>0.908848</td>\n",
              "      <td>0.0</td>\n",
              "      <td>3.00</td>\n",
              "      <td>3.000000</td>\n",
              "      <td>4.00</td>\n",
              "      <td>9.0</td>\n",
              "    </tr>\n",
              "    <tr>\n",
              "      <th>bathrooms</th>\n",
              "      <td>4600.0</td>\n",
              "      <td>2.160815</td>\n",
              "      <td>0.783781</td>\n",
              "      <td>0.0</td>\n",
              "      <td>1.75</td>\n",
              "      <td>2.250000</td>\n",
              "      <td>2.50</td>\n",
              "      <td>8.0</td>\n",
              "    </tr>\n",
              "    <tr>\n",
              "      <th>sqft_living</th>\n",
              "      <td>4600.0</td>\n",
              "      <td>2139.346957</td>\n",
              "      <td>963.206916</td>\n",
              "      <td>370.0</td>\n",
              "      <td>1460.00</td>\n",
              "      <td>1980.000000</td>\n",
              "      <td>2620.00</td>\n",
              "      <td>13540.0</td>\n",
              "    </tr>\n",
              "    <tr>\n",
              "      <th>sqft_lot</th>\n",
              "      <td>4600.0</td>\n",
              "      <td>14852.516087</td>\n",
              "      <td>35884.436145</td>\n",
              "      <td>638.0</td>\n",
              "      <td>5000.75</td>\n",
              "      <td>7683.000000</td>\n",
              "      <td>11001.25</td>\n",
              "      <td>1074218.0</td>\n",
              "    </tr>\n",
              "    <tr>\n",
              "      <th>floors</th>\n",
              "      <td>4600.0</td>\n",
              "      <td>1.512065</td>\n",
              "      <td>0.538288</td>\n",
              "      <td>1.0</td>\n",
              "      <td>1.00</td>\n",
              "      <td>1.500000</td>\n",
              "      <td>2.00</td>\n",
              "      <td>3.5</td>\n",
              "    </tr>\n",
              "    <tr>\n",
              "      <th>waterfront</th>\n",
              "      <td>4600.0</td>\n",
              "      <td>0.007174</td>\n",
              "      <td>0.084404</td>\n",
              "      <td>0.0</td>\n",
              "      <td>0.00</td>\n",
              "      <td>0.000000</td>\n",
              "      <td>0.00</td>\n",
              "      <td>1.0</td>\n",
              "    </tr>\n",
              "    <tr>\n",
              "      <th>view</th>\n",
              "      <td>4600.0</td>\n",
              "      <td>0.240652</td>\n",
              "      <td>0.778405</td>\n",
              "      <td>0.0</td>\n",
              "      <td>0.00</td>\n",
              "      <td>0.000000</td>\n",
              "      <td>0.00</td>\n",
              "      <td>4.0</td>\n",
              "    </tr>\n",
              "    <tr>\n",
              "      <th>condition</th>\n",
              "      <td>4600.0</td>\n",
              "      <td>3.451739</td>\n",
              "      <td>0.677230</td>\n",
              "      <td>1.0</td>\n",
              "      <td>3.00</td>\n",
              "      <td>3.000000</td>\n",
              "      <td>4.00</td>\n",
              "      <td>5.0</td>\n",
              "    </tr>\n",
              "    <tr>\n",
              "      <th>sqft_above</th>\n",
              "      <td>4600.0</td>\n",
              "      <td>1827.265435</td>\n",
              "      <td>862.168977</td>\n",
              "      <td>370.0</td>\n",
              "      <td>1190.00</td>\n",
              "      <td>1590.000000</td>\n",
              "      <td>2300.00</td>\n",
              "      <td>9410.0</td>\n",
              "    </tr>\n",
              "    <tr>\n",
              "      <th>sqft_basement</th>\n",
              "      <td>4600.0</td>\n",
              "      <td>312.081522</td>\n",
              "      <td>464.137228</td>\n",
              "      <td>0.0</td>\n",
              "      <td>0.00</td>\n",
              "      <td>0.000000</td>\n",
              "      <td>610.00</td>\n",
              "      <td>4820.0</td>\n",
              "    </tr>\n",
              "    <tr>\n",
              "      <th>yr_built</th>\n",
              "      <td>4600.0</td>\n",
              "      <td>1970.786304</td>\n",
              "      <td>29.731848</td>\n",
              "      <td>1900.0</td>\n",
              "      <td>1951.00</td>\n",
              "      <td>1976.000000</td>\n",
              "      <td>1997.00</td>\n",
              "      <td>2014.0</td>\n",
              "    </tr>\n",
              "    <tr>\n",
              "      <th>yr_renovated</th>\n",
              "      <td>4600.0</td>\n",
              "      <td>808.608261</td>\n",
              "      <td>979.414536</td>\n",
              "      <td>0.0</td>\n",
              "      <td>0.00</td>\n",
              "      <td>0.000000</td>\n",
              "      <td>1999.00</td>\n",
              "      <td>2014.0</td>\n",
              "    </tr>\n",
              "  </tbody>\n",
              "</table>\n",
              "</div>\n",
              "      <button class=\"colab-df-convert\" onclick=\"convertToInteractive('df-dde0cf33-6086-4328-8755-7108dc9b8bed')\"\n",
              "              title=\"Convert this dataframe to an interactive table.\"\n",
              "              style=\"display:none;\">\n",
              "        \n",
              "  <svg xmlns=\"http://www.w3.org/2000/svg\" height=\"24px\"viewBox=\"0 0 24 24\"\n",
              "       width=\"24px\">\n",
              "    <path d=\"M0 0h24v24H0V0z\" fill=\"none\"/>\n",
              "    <path d=\"M18.56 5.44l.94 2.06.94-2.06 2.06-.94-2.06-.94-.94-2.06-.94 2.06-2.06.94zm-11 1L8.5 8.5l.94-2.06 2.06-.94-2.06-.94L8.5 2.5l-.94 2.06-2.06.94zm10 10l.94 2.06.94-2.06 2.06-.94-2.06-.94-.94-2.06-.94 2.06-2.06.94z\"/><path d=\"M17.41 7.96l-1.37-1.37c-.4-.4-.92-.59-1.43-.59-.52 0-1.04.2-1.43.59L10.3 9.45l-7.72 7.72c-.78.78-.78 2.05 0 2.83L4 21.41c.39.39.9.59 1.41.59.51 0 1.02-.2 1.41-.59l7.78-7.78 2.81-2.81c.8-.78.8-2.07 0-2.86zM5.41 20L4 18.59l7.72-7.72 1.47 1.35L5.41 20z\"/>\n",
              "  </svg>\n",
              "      </button>\n",
              "      \n",
              "  <style>\n",
              "    .colab-df-container {\n",
              "      display:flex;\n",
              "      flex-wrap:wrap;\n",
              "      gap: 12px;\n",
              "    }\n",
              "\n",
              "    .colab-df-convert {\n",
              "      background-color: #E8F0FE;\n",
              "      border: none;\n",
              "      border-radius: 50%;\n",
              "      cursor: pointer;\n",
              "      display: none;\n",
              "      fill: #1967D2;\n",
              "      height: 32px;\n",
              "      padding: 0 0 0 0;\n",
              "      width: 32px;\n",
              "    }\n",
              "\n",
              "    .colab-df-convert:hover {\n",
              "      background-color: #E2EBFA;\n",
              "      box-shadow: 0px 1px 2px rgba(60, 64, 67, 0.3), 0px 1px 3px 1px rgba(60, 64, 67, 0.15);\n",
              "      fill: #174EA6;\n",
              "    }\n",
              "\n",
              "    [theme=dark] .colab-df-convert {\n",
              "      background-color: #3B4455;\n",
              "      fill: #D2E3FC;\n",
              "    }\n",
              "\n",
              "    [theme=dark] .colab-df-convert:hover {\n",
              "      background-color: #434B5C;\n",
              "      box-shadow: 0px 1px 3px 1px rgba(0, 0, 0, 0.15);\n",
              "      filter: drop-shadow(0px 1px 2px rgba(0, 0, 0, 0.3));\n",
              "      fill: #FFFFFF;\n",
              "    }\n",
              "  </style>\n",
              "\n",
              "      <script>\n",
              "        const buttonEl =\n",
              "          document.querySelector('#df-dde0cf33-6086-4328-8755-7108dc9b8bed button.colab-df-convert');\n",
              "        buttonEl.style.display =\n",
              "          google.colab.kernel.accessAllowed ? 'block' : 'none';\n",
              "\n",
              "        async function convertToInteractive(key) {\n",
              "          const element = document.querySelector('#df-dde0cf33-6086-4328-8755-7108dc9b8bed');\n",
              "          const dataTable =\n",
              "            await google.colab.kernel.invokeFunction('convertToInteractive',\n",
              "                                                     [key], {});\n",
              "          if (!dataTable) return;\n",
              "\n",
              "          const docLinkHtml = 'Like what you see? Visit the ' +\n",
              "            '<a target=\"_blank\" href=https://colab.research.google.com/notebooks/data_table.ipynb>data table notebook</a>'\n",
              "            + ' to learn more about interactive tables.';\n",
              "          element.innerHTML = '';\n",
              "          dataTable['output_type'] = 'display_data';\n",
              "          await google.colab.output.renderOutput(dataTable, element);\n",
              "          const docLink = document.createElement('div');\n",
              "          docLink.innerHTML = docLinkHtml;\n",
              "          element.appendChild(docLink);\n",
              "        }\n",
              "      </script>\n",
              "    </div>\n",
              "  </div>\n",
              "  "
            ]
          },
          "metadata": {},
          "execution_count": 96
        }
      ]
    },
    {
      "cell_type": "code",
      "source": [
        "df['price'].plot.box()"
      ],
      "metadata": {
        "colab": {
          "base_uri": "https://localhost:8080/",
          "height": 293
        },
        "id": "Trs78PO-PvIr",
        "outputId": "8570d811-147f-4e83-bbf5-5eb481407012"
      },
      "execution_count": 97,
      "outputs": [
        {
          "output_type": "execute_result",
          "data": {
            "text/plain": [
              "<matplotlib.axes._subplots.AxesSubplot at 0x7f77a2467c90>"
            ]
          },
          "metadata": {},
          "execution_count": 97
        },
        {
          "output_type": "display_data",
          "data": {
            "text/plain": [
              "<Figure size 432x288 with 1 Axes>"
            ],
            "image/png": "[encoded data removed]"
          },
          "metadata": {
            "needs_background": "light"
          }
        }
      ]
    },
    {
      "cell_type": "code",
      "source": [
        "cond = df['price'] < 10**3\n",
        "\n",
        "df = df[~cond]"
      ],
      "metadata": {
        "id": "3yNq7G5gOIVi"
      },
      "execution_count": 98,
      "outputs": []
    },
    {
      "cell_type": "code",
      "source": [
        "outliers = df[df['price'] > 0.5*10**7]\n",
        "\n",
        "outliers"
      ],
      "metadata": {
        "colab": {
          "base_uri": "https://localhost:8080/",
          "height": 346
        },
        "id": "XltN4LiCP92A",
        "outputId": "ceadbbf6-c355-411b-c3c4-bc36f2c434e4"
      },
      "execution_count": 105,
      "outputs": [
        {
          "output_type": "execute_result",
          "data": {
            "text/plain": [
              "           date       price  bedrooms  bathrooms  sqft_living  sqft_lot  \\\n",
              "2286 2014-06-11   7062500.0       5.0        4.5        10040     37325   \n",
              "4346 2014-06-23  12899000.0       3.0        2.5         2190     11394   \n",
              "4350 2014-07-03  26590000.0       3.0        2.0         1180      7793   \n",
              "\n",
              "      floors  waterfront  view  condition  sqft_above  sqft_basement  \\\n",
              "2286     2.0           1     2          3        7680           2360   \n",
              "4346     1.0           0     0          3        1550            640   \n",
              "4350     1.0           0     0          4        1180              0   \n",
              "\n",
              "      yr_built  yr_renovated             street      city  statezip country  \n",
              "2286      1940          2001   4442 95th Ave NE  Bellevue  WA 98004     USA  \n",
              "4346      1956          2001    5426 40th Ave W   Seattle  WA 98199     USA  \n",
              "4350      1992             0  12005 SE 219th Ct      Kent  WA 98031     USA  "
            ],
            "text/html": [
              "\n",
              "  <div id=\"df-0b4fb538-bdb4-40f3-a912-99a187bf3855\">\n",
              "    <div class=\"colab-df-container\">\n",
              "      <div>\n",
              "<style scoped>\n",
              "    .dataframe tbody tr th:only-of-type {\n",
              "        vertical-align: middle;\n",
              "    }\n",
              "\n",
              "    .dataframe tbody tr th {\n",
              "        vertical-align: top;\n",
              "    }\n",
              "\n",
              "    .dataframe thead th {\n",
              "        text-align: right;\n",
              "    }\n",
              "</style>\n",
              "<table border=\"1\" class=\"dataframe\">\n",
              "  <thead>\n",
              "    <tr style=\"text-align: right;\">\n",
              "      <th></th>\n",
              "      <th>date</th>\n",
              "      <th>price</th>\n",
              "      <th>bedrooms</th>\n",
              "      <th>bathrooms</th>\n",
              "      <th>sqft_living</th>\n",
              "      <th>sqft_lot</th>\n",
              "      <th>floors</th>\n",
              "      <th>waterfront</th>\n",
              "      <th>view</th>\n",
              "      <th>condition</th>\n",
              "      <th>sqft_above</th>\n",
              "      <th>sqft_basement</th>\n",
              "      <th>yr_built</th>\n",
              "      <th>yr_renovated</th>\n",
              "      <th>street</th>\n",
              "      <th>city</th>\n",
              "      <th>statezip</th>\n",
              "      <th>country</th>\n",
              "    </tr>\n",
              "  </thead>\n",
              "  <tbody>\n",
              "    <tr>\n",
              "      <th>2286</th>\n",
              "      <td>2014-06-11</td>\n",
              "      <td>7062500.0</td>\n",
              "      <td>5.0</td>\n",
              "      <td>4.5</td>\n",
              "      <td>10040</td>\n",
              "      <td>37325</td>\n",
              "      <td>2.0</td>\n",
              "      <td>1</td>\n",
              "      <td>2</td>\n",
              "      <td>3</td>\n",
              "      <td>7680</td>\n",
              "      <td>2360</td>\n",
              "      <td>1940</td>\n",
              "      <td>2001</td>\n",
              "      <td>4442 95th Ave NE</td>\n",
              "      <td>Bellevue</td>\n",
              "      <td>WA 98004</td>\n",
              "      <td>USA</td>\n",
              "    </tr>\n",
              "    <tr>\n",
              "      <th>4346</th>\n",
              "      <td>2014-06-23</td>\n",
              "      <td>12899000.0</td>\n",
              "      <td>3.0</td>\n",
              "      <td>2.5</td>\n",
              "      <td>2190</td>\n",
              "      <td>11394</td>\n",
              "      <td>1.0</td>\n",
              "      <td>0</td>\n",
              "      <td>0</td>\n",
              "      <td>3</td>\n",
              "      <td>1550</td>\n",
              "      <td>640</td>\n",
              "      <td>1956</td>\n",
              "      <td>2001</td>\n",
              "      <td>5426 40th Ave W</td>\n",
              "      <td>Seattle</td>\n",
              "      <td>WA 98199</td>\n",
              "      <td>USA</td>\n",
              "    </tr>\n",
              "    <tr>\n",
              "      <th>4350</th>\n",
              "      <td>2014-07-03</td>\n",
              "      <td>26590000.0</td>\n",
              "      <td>3.0</td>\n",
              "      <td>2.0</td>\n",
              "      <td>1180</td>\n",
              "      <td>7793</td>\n",
              "      <td>1.0</td>\n",
              "      <td>0</td>\n",
              "      <td>0</td>\n",
              "      <td>4</td>\n",
              "      <td>1180</td>\n",
              "      <td>0</td>\n",
              "      <td>1992</td>\n",
              "      <td>0</td>\n",
              "      <td>12005 SE 219th Ct</td>\n",
              "      <td>Kent</td>\n",
              "      <td>WA 98031</td>\n",
              "      <td>USA</td>\n",
              "    </tr>\n",
              "  </tbody>\n",
              "</table>\n",
              "</div>\n",
              "      <button class=\"colab-df-convert\" onclick=\"convertToInteractive('df-0b4fb538-bdb4-40f3-a912-99a187bf3855')\"\n",
              "              title=\"Convert this dataframe to an interactive table.\"\n",
              "              style=\"display:none;\">\n",
              "        \n",
              "  <svg xmlns=\"http://www.w3.org/2000/svg\" height=\"24px\"viewBox=\"0 0 24 24\"\n",
              "       width=\"24px\">\n",
              "    <path d=\"M0 0h24v24H0V0z\" fill=\"none\"/>\n",
              "    <path d=\"M18.56 5.44l.94 2.06.94-2.06 2.06-.94-2.06-.94-.94-2.06-.94 2.06-2.06.94zm-11 1L8.5 8.5l.94-2.06 2.06-.94-2.06-.94L8.5 2.5l-.94 2.06-2.06.94zm10 10l.94 2.06.94-2.06 2.06-.94-2.06-.94-.94-2.06-.94 2.06-2.06.94z\"/><path d=\"M17.41 7.96l-1.37-1.37c-.4-.4-.92-.59-1.43-.59-.52 0-1.04.2-1.43.59L10.3 9.45l-7.72 7.72c-.78.78-.78 2.05 0 2.83L4 21.41c.39.39.9.59 1.41.59.51 0 1.02-.2 1.41-.59l7.78-7.78 2.81-2.81c.8-.78.8-2.07 0-2.86zM5.41 20L4 18.59l7.72-7.72 1.47 1.35L5.41 20z\"/>\n",
              "  </svg>\n",
              "      </button>\n",
              "      \n",
              "  <style>\n",
              "    .colab-df-container {\n",
              "      display:flex;\n",
              "      flex-wrap:wrap;\n",
              "      gap: 12px;\n",
              "    }\n",
              "\n",
              "    .colab-df-convert {\n",
              "      background-color: #E8F0FE;\n",
              "      border: none;\n",
              "      border-radius: 50%;\n",
              "      cursor: pointer;\n",
              "      display: none;\n",
              "      fill: #1967D2;\n",
              "      height: 32px;\n",
              "      padding: 0 0 0 0;\n",
              "      width: 32px;\n",
              "    }\n",
              "\n",
              "    .colab-df-convert:hover {\n",
              "      background-color: #E2EBFA;\n",
              "      box-shadow: 0px 1px 2px rgba(60, 64, 67, 0.3), 0px 1px 3px 1px rgba(60, 64, 67, 0.15);\n",
              "      fill: #174EA6;\n",
              "    }\n",
              "\n",
              "    [theme=dark] .colab-df-convert {\n",
              "      background-color: #3B4455;\n",
              "      fill: #D2E3FC;\n",
              "    }\n",
              "\n",
              "    [theme=dark] .colab-df-convert:hover {\n",
              "      background-color: #434B5C;\n",
              "      box-shadow: 0px 1px 3px 1px rgba(0, 0, 0, 0.15);\n",
              "      filter: drop-shadow(0px 1px 2px rgba(0, 0, 0, 0.3));\n",
              "      fill: #FFFFFF;\n",
              "    }\n",
              "  </style>\n",
              "\n",
              "      <script>\n",
              "        const buttonEl =\n",
              "          document.querySelector('#df-0b4fb538-bdb4-40f3-a912-99a187bf3855 button.colab-df-convert');\n",
              "        buttonEl.style.display =\n",
              "          google.colab.kernel.accessAllowed ? 'block' : 'none';\n",
              "\n",
              "        async function convertToInteractive(key) {\n",
              "          const element = document.querySelector('#df-0b4fb538-bdb4-40f3-a912-99a187bf3855');\n",
              "          const dataTable =\n",
              "            await google.colab.kernel.invokeFunction('convertToInteractive',\n",
              "                                                     [key], {});\n",
              "          if (!dataTable) return;\n",
              "\n",
              "          const docLinkHtml = 'Like what you see? Visit the ' +\n",
              "            '<a target=\"_blank\" href=https://colab.research.google.com/notebooks/data_table.ipynb>data table notebook</a>'\n",
              "            + ' to learn more about interactive tables.';\n",
              "          element.innerHTML = '';\n",
              "          dataTable['output_type'] = 'display_data';\n",
              "          await google.colab.output.renderOutput(dataTable, element);\n",
              "          const docLink = document.createElement('div');\n",
              "          docLink.innerHTML = docLinkHtml;\n",
              "          element.appendChild(docLink);\n",
              "        }\n",
              "      </script>\n",
              "    </div>\n",
              "  </div>\n",
              "  "
            ]
          },
          "metadata": {},
          "execution_count": 105
        }
      ]
    },
    {
      "cell_type": "code",
      "source": [
        "df.groupby('statezip').mean().loc[outliers['statezip']]"
      ],
      "metadata": {
        "colab": {
          "base_uri": "https://localhost:8080/",
          "height": 291
        },
        "id": "1L15_Q9pQMS2",
        "outputId": "22638254-09d1-4cd9-ea9d-0df9c087b77c"
      },
      "execution_count": 106,
      "outputs": [
        {
          "output_type": "execute_result",
          "data": {
            "text/plain": [
              "                 price  bedrooms  bathrooms  sqft_living      sqft_lot  \\\n",
              "statezip                                                                 \n",
              "WA 98004  1.372758e+06  3.830986   2.549296  3066.690141  14223.577465   \n",
              "WA 98199  9.572357e+05  3.388060   2.294776  2204.552239   5170.328358   \n",
              "WA 98031  6.826135e+05  3.439394   2.117424  1865.590909  10484.969697   \n",
              "\n",
              "            floors  waterfront      view  condition   sqft_above  \\\n",
              "statezip                                                           \n",
              "WA 98004  1.457746    0.014085  0.295775   3.450704  2520.070423   \n",
              "WA 98199  1.552239    0.000000  0.686567   3.597015  1630.223881   \n",
              "WA 98031  1.469697    0.000000  0.000000   3.575758  1631.348485   \n",
              "\n",
              "          sqft_basement     yr_built  yr_renovated  \n",
              "statezip                                            \n",
              "WA 98004     546.619718  1971.126761   1093.746479  \n",
              "WA 98199     574.328358  1955.477612   1071.850746  \n",
              "WA 98031     234.242424  1983.303030    394.500000  "
            ],
            "text/html": [
              "\n",
              "  <div id=\"df-7822d69d-83ff-4533-af40-201b2f230ef7\">\n",
              "    <div class=\"colab-df-container\">\n",
              "      <div>\n",
              "<style scoped>\n",
              "    .dataframe tbody tr th:only-of-type {\n",
              "        vertical-align: middle;\n",
              "    }\n",
              "\n",
              "    .dataframe tbody tr th {\n",
              "        vertical-align: top;\n",
              "    }\n",
              "\n",
              "    .dataframe thead th {\n",
              "        text-align: right;\n",
              "    }\n",
              "</style>\n",
              "<table border=\"1\" class=\"dataframe\">\n",
              "  <thead>\n",
              "    <tr style=\"text-align: right;\">\n",
              "      <th></th>\n",
              "      <th>price</th>\n",
              "      <th>bedrooms</th>\n",
              "      <th>bathrooms</th>\n",
              "      <th>sqft_living</th>\n",
              "      <th>sqft_lot</th>\n",
              "      <th>floors</th>\n",
              "      <th>waterfront</th>\n",
              "      <th>view</th>\n",
              "      <th>condition</th>\n",
              "      <th>sqft_above</th>\n",
              "      <th>sqft_basement</th>\n",
              "      <th>yr_built</th>\n",
              "      <th>yr_renovated</th>\n",
              "    </tr>\n",
              "    <tr>\n",
              "      <th>statezip</th>\n",
              "      <th></th>\n",
              "      <th></th>\n",
              "      <th></th>\n",
              "      <th></th>\n",
              "      <th></th>\n",
              "      <th></th>\n",
              "      <th></th>\n",
              "      <th></th>\n",
              "      <th></th>\n",
              "      <th></th>\n",
              "      <th></th>\n",
              "      <th></th>\n",
              "      <th></th>\n",
              "    </tr>\n",
              "  </thead>\n",
              "  <tbody>\n",
              "    <tr>\n",
              "      <th>WA 98004</th>\n",
              "      <td>1.372758e+06</td>\n",
              "      <td>3.830986</td>\n",
              "      <td>2.549296</td>\n",
              "      <td>3066.690141</td>\n",
              "      <td>14223.577465</td>\n",
              "      <td>1.457746</td>\n",
              "      <td>0.014085</td>\n",
              "      <td>0.295775</td>\n",
              "      <td>3.450704</td>\n",
              "      <td>2520.070423</td>\n",
              "      <td>546.619718</td>\n",
              "      <td>1971.126761</td>\n",
              "      <td>1093.746479</td>\n",
              "    </tr>\n",
              "    <tr>\n",
              "      <th>WA 98199</th>\n",
              "      <td>9.572357e+05</td>\n",
              "      <td>3.388060</td>\n",
              "      <td>2.294776</td>\n",
              "      <td>2204.552239</td>\n",
              "      <td>5170.328358</td>\n",
              "      <td>1.552239</td>\n",
              "      <td>0.000000</td>\n",
              "      <td>0.686567</td>\n",
              "      <td>3.597015</td>\n",
              "      <td>1630.223881</td>\n",
              "      <td>574.328358</td>\n",
              "      <td>1955.477612</td>\n",
              "      <td>1071.850746</td>\n",
              "    </tr>\n",
              "    <tr>\n",
              "      <th>WA 98031</th>\n",
              "      <td>6.826135e+05</td>\n",
              "      <td>3.439394</td>\n",
              "      <td>2.117424</td>\n",
              "      <td>1865.590909</td>\n",
              "      <td>10484.969697</td>\n",
              "      <td>1.469697</td>\n",
              "      <td>0.000000</td>\n",
              "      <td>0.000000</td>\n",
              "      <td>3.575758</td>\n",
              "      <td>1631.348485</td>\n",
              "      <td>234.242424</td>\n",
              "      <td>1983.303030</td>\n",
              "      <td>394.500000</td>\n",
              "    </tr>\n",
              "  </tbody>\n",
              "</table>\n",
              "</div>\n",
              "      <button class=\"colab-df-convert\" onclick=\"convertToInteractive('df-7822d69d-83ff-4533-af40-201b2f230ef7')\"\n",
              "              title=\"Convert this dataframe to an interactive table.\"\n",
              "              style=\"display:none;\">\n",
              "        \n",
              "  <svg xmlns=\"http://www.w3.org/2000/svg\" height=\"24px\"viewBox=\"0 0 24 24\"\n",
              "       width=\"24px\">\n",
              "    <path d=\"M0 0h24v24H0V0z\" fill=\"none\"/>\n",
              "    <path d=\"M18.56 5.44l.94 2.06.94-2.06 2.06-.94-2.06-.94-.94-2.06-.94 2.06-2.06.94zm-11 1L8.5 8.5l.94-2.06 2.06-.94-2.06-.94L8.5 2.5l-.94 2.06-2.06.94zm10 10l.94 2.06.94-2.06 2.06-.94-2.06-.94-.94-2.06-.94 2.06-2.06.94z\"/><path d=\"M17.41 7.96l-1.37-1.37c-.4-.4-.92-.59-1.43-.59-.52 0-1.04.2-1.43.59L10.3 9.45l-7.72 7.72c-.78.78-.78 2.05 0 2.83L4 21.41c.39.39.9.59 1.41.59.51 0 1.02-.2 1.41-.59l7.78-7.78 2.81-2.81c.8-.78.8-2.07 0-2.86zM5.41 20L4 18.59l7.72-7.72 1.47 1.35L5.41 20z\"/>\n",
              "  </svg>\n",
              "      </button>\n",
              "      \n",
              "  <style>\n",
              "    .colab-df-container {\n",
              "      display:flex;\n",
              "      flex-wrap:wrap;\n",
              "      gap: 12px;\n",
              "    }\n",
              "\n",
              "    .colab-df-convert {\n",
              "      background-color: #E8F0FE;\n",
              "      border: none;\n",
              "      border-radius: 50%;\n",
              "      cursor: pointer;\n",
              "      display: none;\n",
              "      fill: #1967D2;\n",
              "      height: 32px;\n",
              "      padding: 0 0 0 0;\n",
              "      width: 32px;\n",
              "    }\n",
              "\n",
              "    .colab-df-convert:hover {\n",
              "      background-color: #E2EBFA;\n",
              "      box-shadow: 0px 1px 2px rgba(60, 64, 67, 0.3), 0px 1px 3px 1px rgba(60, 64, 67, 0.15);\n",
              "      fill: #174EA6;\n",
              "    }\n",
              "\n",
              "    [theme=dark] .colab-df-convert {\n",
              "      background-color: #3B4455;\n",
              "      fill: #D2E3FC;\n",
              "    }\n",
              "\n",
              "    [theme=dark] .colab-df-convert:hover {\n",
              "      background-color: #434B5C;\n",
              "      box-shadow: 0px 1px 3px 1px rgba(0, 0, 0, 0.15);\n",
              "      filter: drop-shadow(0px 1px 2px rgba(0, 0, 0, 0.3));\n",
              "      fill: #FFFFFF;\n",
              "    }\n",
              "  </style>\n",
              "\n",
              "      <script>\n",
              "        const buttonEl =\n",
              "          document.querySelector('#df-7822d69d-83ff-4533-af40-201b2f230ef7 button.colab-df-convert');\n",
              "        buttonEl.style.display =\n",
              "          google.colab.kernel.accessAllowed ? 'block' : 'none';\n",
              "\n",
              "        async function convertToInteractive(key) {\n",
              "          const element = document.querySelector('#df-7822d69d-83ff-4533-af40-201b2f230ef7');\n",
              "          const dataTable =\n",
              "            await google.colab.kernel.invokeFunction('convertToInteractive',\n",
              "                                                     [key], {});\n",
              "          if (!dataTable) return;\n",
              "\n",
              "          const docLinkHtml = 'Like what you see? Visit the ' +\n",
              "            '<a target=\"_blank\" href=https://colab.research.google.com/notebooks/data_table.ipynb>data table notebook</a>'\n",
              "            + ' to learn more about interactive tables.';\n",
              "          element.innerHTML = '';\n",
              "          dataTable['output_type'] = 'display_data';\n",
              "          await google.colab.output.renderOutput(dataTable, element);\n",
              "          const docLink = document.createElement('div');\n",
              "          docLink.innerHTML = docLinkHtml;\n",
              "          element.appendChild(docLink);\n",
              "        }\n",
              "      </script>\n",
              "    </div>\n",
              "  </div>\n",
              "  "
            ]
          },
          "metadata": {},
          "execution_count": 106
        }
      ]
    },
    {
      "cell_type": "code",
      "source": [
        "df.drop(outliers.index[-2:], inplace=True)"
      ],
      "metadata": {
        "id": "cnFPXXn6RIye"
      },
      "execution_count": 111,
      "outputs": []
    },
    {
      "cell_type": "markdown",
      "source": [
        "Check null values:"
      ],
      "metadata": {
        "id": "GW4iUxKMaCcF"
      }
    },
    {
      "cell_type": "code",
      "source": [
        "df.isna().any().sum()"
      ],
      "metadata": {
        "colab": {
          "base_uri": "https://localhost:8080/"
        },
        "id": "aIemF0uKZ99D",
        "outputId": "ae2706b7-c62a-45a2-c3dc-ecb6eae343f9"
      },
      "execution_count": 113,
      "outputs": [
        {
          "output_type": "execute_result",
          "data": {
            "text/plain": [
              "0"
            ]
          },
          "metadata": {},
          "execution_count": 113
        }
      ]
    },
    {
      "cell_type": "markdown",
      "source": [
        "The percentage of the most frequent 5 values for each column with non-numerical type:"
      ],
      "metadata": {
        "id": "l6Cflb_CfC6M"
      }
    },
    {
      "cell_type": "code",
      "source": [
        "obj_cols = df.columns[-4:]\n",
        "{col: np.round(df[col].value_counts().iloc[:5].values / len(df) * 100, 1) for col in obj_cols}"
      ],
      "metadata": {
        "colab": {
          "base_uri": "https://localhost:8080/"
        },
        "id": "zjZ8GBF0VzRN",
        "outputId": "85cd01cb-6dfd-4650-ec14-f4db8aa8b5dc"
      },
      "execution_count": 115,
      "outputs": [
        {
          "output_type": "execute_result",
          "data": {
            "text/plain": [
              "{'street': array([0.1, 0.1, 0. , 0. , 0. ]),\n",
              " 'city': array([34.3,  6.4,  6.2,  5.2,  4.1]),\n",
              " 'statezip': array([3.3, 3. , 2.9, 2.8, 2.4]),\n",
              " 'country': array([100.])}"
            ]
          },
          "metadata": {},
          "execution_count": 115
        }
      ]
    },
    {
      "cell_type": "code",
      "source": [
        "df.drop(['street', 'country'], axis=1, inplace=True)"
      ],
      "metadata": {
        "id": "ahTkzKK5Vdxx"
      },
      "execution_count": 116,
      "outputs": []
    },
    {
      "cell_type": "code",
      "source": [
        "for col in ['city', 'statezip']:\n",
        "  df[col] = df[col].astype('category').cat.codes"
      ],
      "metadata": {
        "id": "3QnXbiBcYCSa"
      },
      "execution_count": 117,
      "outputs": []
    },
    {
      "cell_type": "code",
      "source": [
        "df.head(3)"
      ],
      "metadata": {
        "colab": {
          "base_uri": "https://localhost:8080/",
          "height": 259
        },
        "id": "8Gc99yAKYDSw",
        "outputId": "58865595-7c4d-410d-ff37-ce900842ecb4"
      },
      "execution_count": 118,
      "outputs": [
        {
          "output_type": "execute_result",
          "data": {
            "text/plain": [
              "        date      price  bedrooms  bathrooms  sqft_living  sqft_lot  floors  \\\n",
              "0 2014-05-02   313000.0       3.0        1.5         1340      7912     1.5   \n",
              "1 2014-05-02  2384000.0       5.0        2.5         3650      9050     2.0   \n",
              "2 2014-05-02   342000.0       3.0        2.0         1930     11947     1.0   \n",
              "\n",
              "   waterfront  view  condition  sqft_above  sqft_basement  yr_built  \\\n",
              "0           0     0          3        1340              0      1955   \n",
              "1           0     4          5        3370            280      1921   \n",
              "2           0     0          4        1930              0      1966   \n",
              "\n",
              "   yr_renovated  city  statezip  \n",
              "0          2005    36        62  \n",
              "1             0    35        58  \n",
              "2             0    18        26  "
            ],
            "text/html": [
              "\n",
              "  <div id=\"df-1322ead0-1a8a-420e-ae37-e025efa11bee\">\n",
              "    <div class=\"colab-df-container\">\n",
              "      <div>\n",
              "<style scoped>\n",
              "    .dataframe tbody tr th:only-of-type {\n",
              "        vertical-align: middle;\n",
              "    }\n",
              "\n",
              "    .dataframe tbody tr th {\n",
              "        vertical-align: top;\n",
              "    }\n",
              "\n",
              "    .dataframe thead th {\n",
              "        text-align: right;\n",
              "    }\n",
              "</style>\n",
              "<table border=\"1\" class=\"dataframe\">\n",
              "  <thead>\n",
              "    <tr style=\"text-align: right;\">\n",
              "      <th></th>\n",
              "      <th>date</th>\n",
              "      <th>price</th>\n",
              "      <th>bedrooms</th>\n",
              "      <th>bathrooms</th>\n",
              "      <th>sqft_living</th>\n",
              "      <th>sqft_lot</th>\n",
              "      <th>floors</th>\n",
              "      <th>waterfront</th>\n",
              "      <th>view</th>\n",
              "      <th>condition</th>\n",
              "      <th>sqft_above</th>\n",
              "      <th>sqft_basement</th>\n",
              "      <th>yr_built</th>\n",
              "      <th>yr_renovated</th>\n",
              "      <th>city</th>\n",
              "      <th>statezip</th>\n",
              "    </tr>\n",
              "  </thead>\n",
              "  <tbody>\n",
              "    <tr>\n",
              "      <th>0</th>\n",
              "      <td>2014-05-02</td>\n",
              "      <td>313000.0</td>\n",
              "      <td>3.0</td>\n",
              "      <td>1.5</td>\n",
              "      <td>1340</td>\n",
              "      <td>7912</td>\n",
              "      <td>1.5</td>\n",
              "      <td>0</td>\n",
              "      <td>0</td>\n",
              "      <td>3</td>\n",
              "      <td>1340</td>\n",
              "      <td>0</td>\n",
              "      <td>1955</td>\n",
              "      <td>2005</td>\n",
              "      <td>36</td>\n",
              "      <td>62</td>\n",
              "    </tr>\n",
              "    <tr>\n",
              "      <th>1</th>\n",
              "      <td>2014-05-02</td>\n",
              "      <td>2384000.0</td>\n",
              "      <td>5.0</td>\n",
              "      <td>2.5</td>\n",
              "      <td>3650</td>\n",
              "      <td>9050</td>\n",
              "      <td>2.0</td>\n",
              "      <td>0</td>\n",
              "      <td>4</td>\n",
              "      <td>5</td>\n",
              "      <td>3370</td>\n",
              "      <td>280</td>\n",
              "      <td>1921</td>\n",
              "      <td>0</td>\n",
              "      <td>35</td>\n",
              "      <td>58</td>\n",
              "    </tr>\n",
              "    <tr>\n",
              "      <th>2</th>\n",
              "      <td>2014-05-02</td>\n",
              "      <td>342000.0</td>\n",
              "      <td>3.0</td>\n",
              "      <td>2.0</td>\n",
              "      <td>1930</td>\n",
              "      <td>11947</td>\n",
              "      <td>1.0</td>\n",
              "      <td>0</td>\n",
              "      <td>0</td>\n",
              "      <td>4</td>\n",
              "      <td>1930</td>\n",
              "      <td>0</td>\n",
              "      <td>1966</td>\n",
              "      <td>0</td>\n",
              "      <td>18</td>\n",
              "      <td>26</td>\n",
              "    </tr>\n",
              "  </tbody>\n",
              "</table>\n",
              "</div>\n",
              "      <button class=\"colab-df-convert\" onclick=\"convertToInteractive('df-1322ead0-1a8a-420e-ae37-e025efa11bee')\"\n",
              "              title=\"Convert this dataframe to an interactive table.\"\n",
              "              style=\"display:none;\">\n",
              "        \n",
              "  <svg xmlns=\"http://www.w3.org/2000/svg\" height=\"24px\"viewBox=\"0 0 24 24\"\n",
              "       width=\"24px\">\n",
              "    <path d=\"M0 0h24v24H0V0z\" fill=\"none\"/>\n",
              "    <path d=\"M18.56 5.44l.94 2.06.94-2.06 2.06-.94-2.06-.94-.94-2.06-.94 2.06-2.06.94zm-11 1L8.5 8.5l.94-2.06 2.06-.94-2.06-.94L8.5 2.5l-.94 2.06-2.06.94zm10 10l.94 2.06.94-2.06 2.06-.94-2.06-.94-.94-2.06-.94 2.06-2.06.94z\"/><path d=\"M17.41 7.96l-1.37-1.37c-.4-.4-.92-.59-1.43-.59-.52 0-1.04.2-1.43.59L10.3 9.45l-7.72 7.72c-.78.78-.78 2.05 0 2.83L4 21.41c.39.39.9.59 1.41.59.51 0 1.02-.2 1.41-.59l7.78-7.78 2.81-2.81c.8-.78.8-2.07 0-2.86zM5.41 20L4 18.59l7.72-7.72 1.47 1.35L5.41 20z\"/>\n",
              "  </svg>\n",
              "      </button>\n",
              "      \n",
              "  <style>\n",
              "    .colab-df-container {\n",
              "      display:flex;\n",
              "      flex-wrap:wrap;\n",
              "      gap: 12px;\n",
              "    }\n",
              "\n",
              "    .colab-df-convert {\n",
              "      background-color: #E8F0FE;\n",
              "      border: none;\n",
              "      border-radius: 50%;\n",
              "      cursor: pointer;\n",
              "      display: none;\n",
              "      fill: #1967D2;\n",
              "      height: 32px;\n",
              "      padding: 0 0 0 0;\n",
              "      width: 32px;\n",
              "    }\n",
              "\n",
              "    .colab-df-convert:hover {\n",
              "      background-color: #E2EBFA;\n",
              "      box-shadow: 0px 1px 2px rgba(60, 64, 67, 0.3), 0px 1px 3px 1px rgba(60, 64, 67, 0.15);\n",
              "      fill: #174EA6;\n",
              "    }\n",
              "\n",
              "    [theme=dark] .colab-df-convert {\n",
              "      background-color: #3B4455;\n",
              "      fill: #D2E3FC;\n",
              "    }\n",
              "\n",
              "    [theme=dark] .colab-df-convert:hover {\n",
              "      background-color: #434B5C;\n",
              "      box-shadow: 0px 1px 3px 1px rgba(0, 0, 0, 0.15);\n",
              "      filter: drop-shadow(0px 1px 2px rgba(0, 0, 0, 0.3));\n",
              "      fill: #FFFFFF;\n",
              "    }\n",
              "  </style>\n",
              "\n",
              "      <script>\n",
              "        const buttonEl =\n",
              "          document.querySelector('#df-1322ead0-1a8a-420e-ae37-e025efa11bee button.colab-df-convert');\n",
              "        buttonEl.style.display =\n",
              "          google.colab.kernel.accessAllowed ? 'block' : 'none';\n",
              "\n",
              "        async function convertToInteractive(key) {\n",
              "          const element = document.querySelector('#df-1322ead0-1a8a-420e-ae37-e025efa11bee');\n",
              "          const dataTable =\n",
              "            await google.colab.kernel.invokeFunction('convertToInteractive',\n",
              "                                                     [key], {});\n",
              "          if (!dataTable) return;\n",
              "\n",
              "          const docLinkHtml = 'Like what you see? Visit the ' +\n",
              "            '<a target=\"_blank\" href=https://colab.research.google.com/notebooks/data_table.ipynb>data table notebook</a>'\n",
              "            + ' to learn more about interactive tables.';\n",
              "          element.innerHTML = '';\n",
              "          dataTable['output_type'] = 'display_data';\n",
              "          await google.colab.output.renderOutput(dataTable, element);\n",
              "          const docLink = document.createElement('div');\n",
              "          docLink.innerHTML = docLinkHtml;\n",
              "          element.appendChild(docLink);\n",
              "        }\n",
              "      </script>\n",
              "    </div>\n",
              "  </div>\n",
              "  "
            ]
          },
          "metadata": {},
          "execution_count": 118
        }
      ]
    },
    {
      "cell_type": "code",
      "source": [
        "corr = df.corr()['price'].sort_values(ascending=False, key=abs)\n",
        "corr"
      ],
      "metadata": {
        "colab": {
          "base_uri": "https://localhost:8080/"
        },
        "id": "gDrFDFCzhwmK",
        "outputId": "fc14f8c8-01c3-4af7-b9cd-c6a9ecc884ed"
      },
      "execution_count": 119,
      "outputs": [
        {
          "output_type": "execute_result",
          "data": {
            "text/plain": [
              "price            1.000000\n",
              "sqft_living      0.697525\n",
              "sqft_above       0.597172\n",
              "bathrooms        0.522377\n",
              "view             0.378629\n",
              "sqft_basement    0.338806\n",
              "bedrooms         0.332038\n",
              "floors           0.255843\n",
              "waterfront       0.231763\n",
              "sqft_lot         0.082404\n",
              "statezip        -0.066362\n",
              "condition        0.051808\n",
              "yr_renovated    -0.040625\n",
              "city             0.029000\n",
              "yr_built         0.025918\n",
              "Name: price, dtype: float64"
            ]
          },
          "metadata": {},
          "execution_count": 119
        }
      ]
    },
    {
      "cell_type": "markdown",
      "source": [
        "Take the columns with absolute correlation higher than 0.1 as features, and scale them after train-test split:"
      ],
      "metadata": {
        "id": "pdaNXOHj4gXr"
      }
    },
    {
      "cell_type": "code",
      "source": [
        "features = corr[abs(corr) > 0.1].index\n",
        "\n",
        "features = df.columns.drop('date')\n",
        "train_len = round(len(df) * 0.8)\n",
        "train, test = df.iloc[:train_len], df.iloc[train_len:]\n",
        "\n",
        "# we need the inverse scaler of price later on\n",
        "for feature in features[::-1]:\n",
        "  scaler = StandardScaler()\n",
        "  train[f'scaled_{feature}'] = scaler.fit_transform(train.loc[:, [feature]])\n",
        "  test[f'scaled_{feature}'] = scaler.transform(test.loc[:, [feature]])"
      ],
      "metadata": {
        "id": "5-1BQN6hwdzV"
      },
      "execution_count": 147,
      "outputs": []
    },
    {
      "cell_type": "code",
      "source": [
        "def lstm_dataset(data, lookback):\n",
        "  x_data = []\n",
        "  y_data = []\n",
        "\n",
        "  for i in range(len(data) - lookback):\n",
        "    x_data.append(data.iloc[i:i+lookback].values)\n",
        "    y_data.append(data.iloc[i].values)\n",
        "  \n",
        "  x_data = np.array(x_data)\n",
        "  y_data = np.array(y_data)\n",
        "\n",
        "  return x_data, y_data"
      ],
      "metadata": {
        "id": "SpTYxPOJYgV2"
      },
      "execution_count": 149,
      "outputs": []
    },
    {
      "cell_type": "code",
      "source": [
        "scaled_cols =  train.columns[train.columns.str.contains('scaled')]\n",
        "\n",
        "lookback = 10\n",
        "x_train, y_train = lstm_dataset(train[scaled_cols], lookback)"
      ],
      "metadata": {
        "id": "R71C9IKD4wRX"
      },
      "execution_count": 173,
      "outputs": []
    },
    {
      "cell_type": "code",
      "source": [
        "x_train.shape"
      ],
      "metadata": {
        "colab": {
          "base_uri": "https://localhost:8080/"
        },
        "id": "60HnqiKs5fAR",
        "outputId": "c4dad758-d214-452d-9e16-f47be5d1ae86"
      },
      "execution_count": 174,
      "outputs": [
        {
          "output_type": "execute_result",
          "data": {
            "text/plain": [
              "(3629, 10, 15)"
            ]
          },
          "metadata": {},
          "execution_count": 174
        }
      ]
    },
    {
      "cell_type": "code",
      "source": [
        "def build_model(lookback):\n",
        "\n",
        "  model = Sequential()\n",
        "  model.add(LSTM(128, input_shape=x_train.shape[1:], activation='relu', return_sequences=True))\n",
        "  model.add(LSTM(64, activation='relu'))\n",
        "  model.add(Dropout(0.2))\n",
        "  model.add(Dense(1,kernel_regularizer='l1'))\n",
        "\n",
        "  model.compile(optimizer='adam', loss='mse', metrics=['mae', 'RootMeanSquaredError'])\n",
        "  model.summary()\n",
        "\n",
        "  return model\n",
        "\n",
        "model = build_model(lookback)"
      ],
      "metadata": {
        "colab": {
          "base_uri": "https://localhost:8080/"
        },
        "id": "O9j2A2QefhCt",
        "outputId": "56739c28-4ff2-4c5c-9f93-aed75d8c8640"
      },
      "execution_count": 175,
      "outputs": [
        {
          "output_type": "stream",
          "name": "stdout",
          "text": [
            "Model: \"sequential_12\"\n",
            "_________________________________________________________________\n",
            " Layer (type)                Output Shape              Param #   \n",
            "=================================================================\n",
            " lstm_24 (LSTM)              (None, 10, 128)           73728     \n",
            "                                                                 \n",
            " lstm_25 (LSTM)              (None, 64)                49408     \n",
            "                                                                 \n",
            " dropout_12 (Dropout)        (None, 64)                0         \n",
            "                                                                 \n",
            " dense_12 (Dense)            (None, 1)                 65        \n",
            "                                                                 \n",
            "=================================================================\n",
            "Total params: 123,201\n",
            "Trainable params: 123,201\n",
            "Non-trainable params: 0\n",
            "_________________________________________________________________\n"
          ]
        }
      ]
    },
    {
      "cell_type": "code",
      "source": [
        "model.fit(x_train, y_train, validation_split=0.2, epochs=100, batch_size=64, verbose=True)"
      ],
      "metadata": {
        "colab": {
          "base_uri": "https://localhost:8080/"
        },
        "id": "6DUxQq5bkYaD",
        "outputId": "e548e29b-9cd7-4b2e-db23-c3bcb637bab6"
      },
      "execution_count": 176,
      "outputs": [
        {
          "output_type": "stream",
          "name": "stdout",
          "text": [
            "Epoch 1/100\n",
            "46/46 [==============================] - 4s 41ms/step - loss: 1.0565 - mae: 0.7275 - root_mean_squared_error: 0.9935 - val_loss: 1.0049 - val_mae: 0.7167 - val_root_mean_squared_error: 0.9726\n",
            "Epoch 2/100\n",
            "46/46 [==============================] - 2s 34ms/step - loss: 0.9799 - mae: 0.7033 - root_mean_squared_error: 0.9636 - val_loss: 0.9420 - val_mae: 0.7074 - val_root_mean_squared_error: 0.9476\n",
            "Epoch 3/100\n",
            "46/46 [==============================] - 2s 33ms/step - loss: 0.9768 - mae: 0.6918 - root_mean_squared_error: 0.9685 - val_loss: 0.9549 - val_mae: 0.6925 - val_root_mean_squared_error: 0.9596\n",
            "Epoch 4/100\n",
            "46/46 [==============================] - 2s 34ms/step - loss: 0.9274 - mae: 0.6865 - root_mean_squared_error: 0.9469 - val_loss: 0.8955 - val_mae: 0.6744 - val_root_mean_squared_error: 0.9316\n",
            "Epoch 5/100\n",
            "46/46 [==============================] - 2s 33ms/step - loss: 0.8846 - mae: 0.6766 - root_mean_squared_error: 0.9272 - val_loss: 0.8773 - val_mae: 0.6767 - val_root_mean_squared_error: 0.9247\n",
            "Epoch 6/100\n",
            "46/46 [==============================] - 2s 34ms/step - loss: 0.9094 - mae: 0.6830 - root_mean_squared_error: 0.9428 - val_loss: 0.8891 - val_mae: 0.6817 - val_root_mean_squared_error: 0.9328\n",
            "Epoch 7/100\n",
            "46/46 [==============================] - 2s 33ms/step - loss: 0.8833 - mae: 0.6741 - root_mean_squared_error: 0.9302 - val_loss: 0.8703 - val_mae: 0.6760 - val_root_mean_squared_error: 0.9239\n",
            "Epoch 8/100\n",
            "46/46 [==============================] - 2s 33ms/step - loss: 0.8682 - mae: 0.6738 - root_mean_squared_error: 0.9232 - val_loss: 0.8670 - val_mae: 0.6814 - val_root_mean_squared_error: 0.9229\n",
            "Epoch 9/100\n",
            "46/46 [==============================] - 2s 34ms/step - loss: 0.8624 - mae: 0.6732 - root_mean_squared_error: 0.9207 - val_loss: 0.8612 - val_mae: 0.6749 - val_root_mean_squared_error: 0.9204\n",
            "Epoch 10/100\n",
            "46/46 [==============================] - 2s 33ms/step - loss: 0.8593 - mae: 0.6725 - root_mean_squared_error: 0.9197 - val_loss: 0.8587 - val_mae: 0.6731 - val_root_mean_squared_error: 0.9198\n",
            "Epoch 11/100\n",
            "46/46 [==============================] - 2s 33ms/step - loss: 0.8564 - mae: 0.6730 - root_mean_squared_error: 0.9188 - val_loss: 0.8571 - val_mae: 0.6739 - val_root_mean_squared_error: 0.9195\n",
            "Epoch 12/100\n",
            "46/46 [==============================] - 2s 33ms/step - loss: 0.8544 - mae: 0.6725 - root_mean_squared_error: 0.9182 - val_loss: 0.8599 - val_mae: 0.6828 - val_root_mean_squared_error: 0.9215\n",
            "Epoch 13/100\n",
            "46/46 [==============================] - 2s 33ms/step - loss: 0.8549 - mae: 0.6723 - root_mean_squared_error: 0.9189 - val_loss: 0.8580 - val_mae: 0.6759 - val_root_mean_squared_error: 0.9208\n",
            "Epoch 14/100\n",
            "46/46 [==============================] - 2s 33ms/step - loss: 0.8553 - mae: 0.6721 - root_mean_squared_error: 0.9195 - val_loss: 0.8533 - val_mae: 0.6737 - val_root_mean_squared_error: 0.9184\n",
            "Epoch 15/100\n",
            "46/46 [==============================] - 2s 33ms/step - loss: 0.8505 - mae: 0.6717 - root_mean_squared_error: 0.9171 - val_loss: 0.8526 - val_mae: 0.6741 - val_root_mean_squared_error: 0.9183\n",
            "Epoch 16/100\n",
            "46/46 [==============================] - 2s 34ms/step - loss: 0.8528 - mae: 0.6722 - root_mean_squared_error: 0.9187 - val_loss: 0.8536 - val_mae: 0.6760 - val_root_mean_squared_error: 0.9192\n",
            "Epoch 17/100\n",
            "46/46 [==============================] - 2s 34ms/step - loss: 0.8515 - mae: 0.6719 - root_mean_squared_error: 0.9182 - val_loss: 0.8529 - val_mae: 0.6779 - val_root_mean_squared_error: 0.9190\n",
            "Epoch 18/100\n",
            "46/46 [==============================] - 2s 34ms/step - loss: 0.8533 - mae: 0.6722 - root_mean_squared_error: 0.9193 - val_loss: 0.8510 - val_mae: 0.6746 - val_root_mean_squared_error: 0.9181\n",
            "Epoch 19/100\n",
            "46/46 [==============================] - 2s 34ms/step - loss: 0.8497 - mae: 0.6721 - root_mean_squared_error: 0.9175 - val_loss: 0.8550 - val_mae: 0.6726 - val_root_mean_squared_error: 0.9205\n",
            "Epoch 20/100\n",
            "46/46 [==============================] - 2s 33ms/step - loss: 0.8525 - mae: 0.6720 - root_mean_squared_error: 0.9191 - val_loss: 0.8518 - val_mae: 0.6757 - val_root_mean_squared_error: 0.9187\n",
            "Epoch 21/100\n",
            "46/46 [==============================] - 2s 34ms/step - loss: 0.8485 - mae: 0.6723 - root_mean_squared_error: 0.9170 - val_loss: 0.8505 - val_mae: 0.6750 - val_root_mean_squared_error: 0.9182\n",
            "Epoch 22/100\n",
            "46/46 [==============================] - 2s 34ms/step - loss: 0.8480 - mae: 0.6713 - root_mean_squared_error: 0.9170 - val_loss: 0.8509 - val_mae: 0.6712 - val_root_mean_squared_error: 0.9186\n",
            "Epoch 23/100\n",
            "46/46 [==============================] - 2s 34ms/step - loss: 0.8474 - mae: 0.6718 - root_mean_squared_error: 0.9168 - val_loss: 0.8493 - val_mae: 0.6714 - val_root_mean_squared_error: 0.9179\n",
            "Epoch 24/100\n",
            "46/46 [==============================] - 2s 33ms/step - loss: 0.8489 - mae: 0.6719 - root_mean_squared_error: 0.9178 - val_loss: 0.8500 - val_mae: 0.6770 - val_root_mean_squared_error: 0.9185\n",
            "Epoch 25/100\n",
            "46/46 [==============================] - 2s 34ms/step - loss: 0.8464 - mae: 0.6713 - root_mean_squared_error: 0.9166 - val_loss: 0.8486 - val_mae: 0.6766 - val_root_mean_squared_error: 0.9178\n",
            "Epoch 26/100\n",
            "46/46 [==============================] - 2s 33ms/step - loss: 0.8467 - mae: 0.6722 - root_mean_squared_error: 0.9169 - val_loss: 0.8495 - val_mae: 0.6705 - val_root_mean_squared_error: 0.9184\n",
            "Epoch 27/100\n",
            "46/46 [==============================] - 2s 34ms/step - loss: 0.8461 - mae: 0.6718 - root_mean_squared_error: 0.9166 - val_loss: 0.8479 - val_mae: 0.6742 - val_root_mean_squared_error: 0.9176\n",
            "Epoch 28/100\n",
            "46/46 [==============================] - 2s 33ms/step - loss: 0.8471 - mae: 0.6719 - root_mean_squared_error: 0.9173 - val_loss: 0.8478 - val_mae: 0.6725 - val_root_mean_squared_error: 0.9176\n",
            "Epoch 29/100\n",
            "46/46 [==============================] - 2s 34ms/step - loss: 0.8475 - mae: 0.6721 - root_mean_squared_error: 0.9175 - val_loss: 0.8509 - val_mae: 0.6760 - val_root_mean_squared_error: 0.9195\n",
            "Epoch 30/100\n",
            "46/46 [==============================] - 2s 34ms/step - loss: 0.8479 - mae: 0.6714 - root_mean_squared_error: 0.9178 - val_loss: 0.8475 - val_mae: 0.6754 - val_root_mean_squared_error: 0.9177\n",
            "Epoch 31/100\n",
            "46/46 [==============================] - 2s 33ms/step - loss: 0.8463 - mae: 0.6719 - root_mean_squared_error: 0.9171 - val_loss: 0.8498 - val_mae: 0.6731 - val_root_mean_squared_error: 0.9191\n",
            "Epoch 32/100\n",
            "46/46 [==============================] - 2s 33ms/step - loss: 0.8476 - mae: 0.6720 - root_mean_squared_error: 0.9178 - val_loss: 0.8473 - val_mae: 0.6774 - val_root_mean_squared_error: 0.9177\n",
            "Epoch 33/100\n",
            "46/46 [==============================] - 2s 34ms/step - loss: 0.8447 - mae: 0.6717 - root_mean_squared_error: 0.9164 - val_loss: 0.8467 - val_mae: 0.6746 - val_root_mean_squared_error: 0.9176\n",
            "Epoch 34/100\n",
            "46/46 [==============================] - 2s 33ms/step - loss: 0.8476 - mae: 0.6709 - root_mean_squared_error: 0.9181 - val_loss: 0.8470 - val_mae: 0.6743 - val_root_mean_squared_error: 0.9178\n",
            "Epoch 35/100\n",
            "46/46 [==============================] - 2s 33ms/step - loss: 0.8463 - mae: 0.6726 - root_mean_squared_error: 0.9174 - val_loss: 0.8460 - val_mae: 0.6739 - val_root_mean_squared_error: 0.9173\n",
            "Epoch 36/100\n",
            "46/46 [==============================] - 2s 33ms/step - loss: 0.8440 - mae: 0.6717 - root_mean_squared_error: 0.9163 - val_loss: 0.8464 - val_mae: 0.6751 - val_root_mean_squared_error: 0.9177\n",
            "Epoch 37/100\n",
            "46/46 [==============================] - 2s 34ms/step - loss: 0.8446 - mae: 0.6720 - root_mean_squared_error: 0.9167 - val_loss: 0.8465 - val_mae: 0.6712 - val_root_mean_squared_error: 0.9178\n",
            "Epoch 38/100\n",
            "46/46 [==============================] - 2s 33ms/step - loss: 0.8440 - mae: 0.6716 - root_mean_squared_error: 0.9165 - val_loss: 0.8471 - val_mae: 0.6723 - val_root_mean_squared_error: 0.9183\n",
            "Epoch 39/100\n",
            "46/46 [==============================] - 2s 34ms/step - loss: 0.8480 - mae: 0.6724 - root_mean_squared_error: 0.9188 - val_loss: 0.8472 - val_mae: 0.6746 - val_root_mean_squared_error: 0.9182\n",
            "Epoch 40/100\n",
            "46/46 [==============================] - 2s 33ms/step - loss: 0.8459 - mae: 0.6718 - root_mean_squared_error: 0.9176 - val_loss: 0.8463 - val_mae: 0.6766 - val_root_mean_squared_error: 0.9179\n",
            "Epoch 41/100\n",
            "46/46 [==============================] - 2s 33ms/step - loss: 0.8449 - mae: 0.6720 - root_mean_squared_error: 0.9171 - val_loss: 0.8468 - val_mae: 0.6786 - val_root_mean_squared_error: 0.9181\n",
            "Epoch 42/100\n",
            "46/46 [==============================] - 2s 34ms/step - loss: 0.8451 - mae: 0.6714 - root_mean_squared_error: 0.9173 - val_loss: 0.8449 - val_mae: 0.6739 - val_root_mean_squared_error: 0.9172\n",
            "Epoch 43/100\n",
            "46/46 [==============================] - 2s 35ms/step - loss: 0.8459 - mae: 0.6716 - root_mean_squared_error: 0.9178 - val_loss: 0.8461 - val_mae: 0.6706 - val_root_mean_squared_error: 0.9179\n",
            "Epoch 44/100\n",
            "46/46 [==============================] - 2s 34ms/step - loss: 0.8443 - mae: 0.6720 - root_mean_squared_error: 0.9169 - val_loss: 0.8457 - val_mae: 0.6746 - val_root_mean_squared_error: 0.9178\n",
            "Epoch 45/100\n",
            "46/46 [==============================] - 2s 34ms/step - loss: 0.8444 - mae: 0.6716 - root_mean_squared_error: 0.9171 - val_loss: 0.8455 - val_mae: 0.6721 - val_root_mean_squared_error: 0.9176\n",
            "Epoch 46/100\n",
            "46/46 [==============================] - 2s 33ms/step - loss: 0.8443 - mae: 0.6716 - root_mean_squared_error: 0.9171 - val_loss: 0.8457 - val_mae: 0.6734 - val_root_mean_squared_error: 0.9180\n",
            "Epoch 47/100\n",
            "46/46 [==============================] - 2s 34ms/step - loss: 0.8434 - mae: 0.6719 - root_mean_squared_error: 0.9167 - val_loss: 0.8445 - val_mae: 0.6760 - val_root_mean_squared_error: 0.9174\n",
            "Epoch 48/100\n",
            "46/46 [==============================] - 2s 34ms/step - loss: 0.8432 - mae: 0.6716 - root_mean_squared_error: 0.9167 - val_loss: 0.8446 - val_mae: 0.6755 - val_root_mean_squared_error: 0.9176\n",
            "Epoch 49/100\n",
            "46/46 [==============================] - 2s 34ms/step - loss: 0.8488 - mae: 0.6720 - root_mean_squared_error: 0.9198 - val_loss: 0.8448 - val_mae: 0.6762 - val_root_mean_squared_error: 0.9175\n",
            "Epoch 50/100\n",
            "46/46 [==============================] - 2s 34ms/step - loss: 0.8445 - mae: 0.6718 - root_mean_squared_error: 0.9173 - val_loss: 0.8458 - val_mae: 0.6774 - val_root_mean_squared_error: 0.9181\n",
            "Epoch 51/100\n",
            "46/46 [==============================] - 2s 33ms/step - loss: 0.8438 - mae: 0.6720 - root_mean_squared_error: 0.9171 - val_loss: 0.8466 - val_mae: 0.6804 - val_root_mean_squared_error: 0.9186\n",
            "Epoch 52/100\n",
            "46/46 [==============================] - 2s 34ms/step - loss: 0.8434 - mae: 0.6720 - root_mean_squared_error: 0.9168 - val_loss: 0.8445 - val_mae: 0.6733 - val_root_mean_squared_error: 0.9175\n",
            "Epoch 53/100\n",
            "46/46 [==============================] - 2s 34ms/step - loss: 0.8457 - mae: 0.6723 - root_mean_squared_error: 0.9182 - val_loss: 0.8457 - val_mae: 0.6706 - val_root_mean_squared_error: 0.9181\n",
            "Epoch 54/100\n",
            "46/46 [==============================] - 2s 34ms/step - loss: 0.8440 - mae: 0.6716 - root_mean_squared_error: 0.9172 - val_loss: 0.8441 - val_mae: 0.6726 - val_root_mean_squared_error: 0.9174\n",
            "Epoch 55/100\n",
            "46/46 [==============================] - 2s 34ms/step - loss: 0.8449 - mae: 0.6717 - root_mean_squared_error: 0.9179 - val_loss: 0.8502 - val_mae: 0.6756 - val_root_mean_squared_error: 0.9207\n",
            "Epoch 56/100\n",
            "46/46 [==============================] - 2s 34ms/step - loss: 0.8454 - mae: 0.6726 - root_mean_squared_error: 0.9180 - val_loss: 0.8470 - val_mae: 0.6800 - val_root_mean_squared_error: 0.9188\n",
            "Epoch 57/100\n",
            "46/46 [==============================] - 2s 35ms/step - loss: 0.8453 - mae: 0.6721 - root_mean_squared_error: 0.9180 - val_loss: 0.8445 - val_mae: 0.6780 - val_root_mean_squared_error: 0.9176\n",
            "Epoch 58/100\n",
            "46/46 [==============================] - 2s 34ms/step - loss: 0.8417 - mae: 0.6715 - root_mean_squared_error: 0.9161 - val_loss: 0.8434 - val_mae: 0.6744 - val_root_mean_squared_error: 0.9171\n",
            "Epoch 59/100\n",
            "46/46 [==============================] - 2s 34ms/step - loss: 0.8423 - mae: 0.6718 - root_mean_squared_error: 0.9165 - val_loss: 0.8453 - val_mae: 0.6711 - val_root_mean_squared_error: 0.9182\n",
            "Epoch 60/100\n",
            "46/46 [==============================] - 2s 33ms/step - loss: 0.8431 - mae: 0.6720 - root_mean_squared_error: 0.9171 - val_loss: 0.8496 - val_mae: 0.6732 - val_root_mean_squared_error: 0.9207\n",
            "Epoch 61/100\n",
            "46/46 [==============================] - 2s 34ms/step - loss: 0.8453 - mae: 0.6718 - root_mean_squared_error: 0.9182 - val_loss: 0.8447 - val_mae: 0.6717 - val_root_mean_squared_error: 0.9178\n",
            "Epoch 62/100\n",
            "46/46 [==============================] - 2s 34ms/step - loss: 0.8438 - mae: 0.6715 - root_mean_squared_error: 0.9173 - val_loss: 0.8438 - val_mae: 0.6750 - val_root_mean_squared_error: 0.9173\n",
            "Epoch 63/100\n",
            "46/46 [==============================] - 2s 34ms/step - loss: 0.8434 - mae: 0.6721 - root_mean_squared_error: 0.9171 - val_loss: 0.8441 - val_mae: 0.6713 - val_root_mean_squared_error: 0.9175\n",
            "Epoch 64/100\n",
            "46/46 [==============================] - 2s 34ms/step - loss: 0.8420 - mae: 0.6714 - root_mean_squared_error: 0.9164 - val_loss: 0.8441 - val_mae: 0.6779 - val_root_mean_squared_error: 0.9176\n",
            "Epoch 65/100\n",
            "46/46 [==============================] - 2s 33ms/step - loss: 0.8432 - mae: 0.6721 - root_mean_squared_error: 0.9171 - val_loss: 0.8435 - val_mae: 0.6738 - val_root_mean_squared_error: 0.9172\n",
            "Epoch 66/100\n",
            "46/46 [==============================] - 2s 34ms/step - loss: 0.8419 - mae: 0.6716 - root_mean_squared_error: 0.9163 - val_loss: 0.8471 - val_mae: 0.6766 - val_root_mean_squared_error: 0.9193\n",
            "Epoch 67/100\n",
            "46/46 [==============================] - 2s 33ms/step - loss: 0.8429 - mae: 0.6717 - root_mean_squared_error: 0.9169 - val_loss: 0.8438 - val_mae: 0.6737 - val_root_mean_squared_error: 0.9173\n",
            "Epoch 68/100\n",
            "46/46 [==============================] - 2s 34ms/step - loss: 0.8420 - mae: 0.6714 - root_mean_squared_error: 0.9165 - val_loss: 0.8438 - val_mae: 0.6728 - val_root_mean_squared_error: 0.9175\n",
            "Epoch 69/100\n",
            "46/46 [==============================] - 2s 33ms/step - loss: 0.8446 - mae: 0.6724 - root_mean_squared_error: 0.9180 - val_loss: 0.8486 - val_mae: 0.6761 - val_root_mean_squared_error: 0.9199\n",
            "Epoch 70/100\n",
            "46/46 [==============================] - 2s 34ms/step - loss: 0.8440 - mae: 0.6716 - root_mean_squared_error: 0.9174 - val_loss: 0.8465 - val_mae: 0.6711 - val_root_mean_squared_error: 0.9188\n",
            "Epoch 71/100\n",
            "46/46 [==============================] - 2s 34ms/step - loss: 0.8434 - mae: 0.6716 - root_mean_squared_error: 0.9171 - val_loss: 0.8444 - val_mae: 0.6759 - val_root_mean_squared_error: 0.9178\n",
            "Epoch 72/100\n",
            "46/46 [==============================] - 2s 34ms/step - loss: 0.8473 - mae: 0.6725 - root_mean_squared_error: 0.9192 - val_loss: 0.8443 - val_mae: 0.6730 - val_root_mean_squared_error: 0.9175\n",
            "Epoch 73/100\n",
            "46/46 [==============================] - 2s 34ms/step - loss: 0.8428 - mae: 0.6713 - root_mean_squared_error: 0.9167 - val_loss: 0.8439 - val_mae: 0.6754 - val_root_mean_squared_error: 0.9173\n",
            "Epoch 74/100\n",
            "46/46 [==============================] - 2s 33ms/step - loss: 0.8437 - mae: 0.6718 - root_mean_squared_error: 0.9173 - val_loss: 0.8447 - val_mae: 0.6774 - val_root_mean_squared_error: 0.9179\n",
            "Epoch 75/100\n",
            "46/46 [==============================] - 2s 34ms/step - loss: 0.8428 - mae: 0.6726 - root_mean_squared_error: 0.9169 - val_loss: 0.8431 - val_mae: 0.6730 - val_root_mean_squared_error: 0.9170\n",
            "Epoch 76/100\n",
            "46/46 [==============================] - 2s 34ms/step - loss: 0.8429 - mae: 0.6716 - root_mean_squared_error: 0.9169 - val_loss: 0.8437 - val_mae: 0.6744 - val_root_mean_squared_error: 0.9173\n",
            "Epoch 77/100\n",
            "46/46 [==============================] - 2s 35ms/step - loss: 0.8425 - mae: 0.6714 - root_mean_squared_error: 0.9167 - val_loss: 0.8436 - val_mae: 0.6756 - val_root_mean_squared_error: 0.9173\n",
            "Epoch 78/100\n",
            "46/46 [==============================] - 2s 34ms/step - loss: 0.8426 - mae: 0.6714 - root_mean_squared_error: 0.9168 - val_loss: 0.8431 - val_mae: 0.6732 - val_root_mean_squared_error: 0.9170\n",
            "Epoch 79/100\n",
            "46/46 [==============================] - 2s 43ms/step - loss: 0.8429 - mae: 0.6717 - root_mean_squared_error: 0.9170 - val_loss: 0.8448 - val_mae: 0.6755 - val_root_mean_squared_error: 0.9181\n",
            "Epoch 80/100\n",
            "46/46 [==============================] - 2s 52ms/step - loss: 0.8441 - mae: 0.6727 - root_mean_squared_error: 0.9176 - val_loss: 0.8441 - val_mae: 0.6764 - val_root_mean_squared_error: 0.9176\n",
            "Epoch 81/100\n",
            "46/46 [==============================] - 2s 34ms/step - loss: 0.8444 - mae: 0.6720 - root_mean_squared_error: 0.9177 - val_loss: 0.8438 - val_mae: 0.6729 - val_root_mean_squared_error: 0.9174\n",
            "Epoch 82/100\n",
            "46/46 [==============================] - 2s 34ms/step - loss: 0.8421 - mae: 0.6718 - root_mean_squared_error: 0.9165 - val_loss: 0.8439 - val_mae: 0.6783 - val_root_mean_squared_error: 0.9175\n",
            "Epoch 83/100\n",
            "46/46 [==============================] - 2s 34ms/step - loss: 0.8439 - mae: 0.6719 - root_mean_squared_error: 0.9175 - val_loss: 0.8432 - val_mae: 0.6765 - val_root_mean_squared_error: 0.9171\n",
            "Epoch 84/100\n",
            "46/46 [==============================] - 2s 34ms/step - loss: 0.8463 - mae: 0.6714 - root_mean_squared_error: 0.9188 - val_loss: 0.8501 - val_mae: 0.6801 - val_root_mean_squared_error: 0.9208\n",
            "Epoch 85/100\n",
            "46/46 [==============================] - 2s 34ms/step - loss: 0.8442 - mae: 0.6731 - root_mean_squared_error: 0.9174 - val_loss: 0.8456 - val_mae: 0.6753 - val_root_mean_squared_error: 0.9182\n",
            "Epoch 86/100\n",
            "46/46 [==============================] - 2s 34ms/step - loss: 0.8450 - mae: 0.6717 - root_mean_squared_error: 0.9178 - val_loss: 0.8437 - val_mae: 0.6747 - val_root_mean_squared_error: 0.9171\n",
            "Epoch 87/100\n",
            "46/46 [==============================] - 2s 34ms/step - loss: 0.8420 - mae: 0.6721 - root_mean_squared_error: 0.9163 - val_loss: 0.8430 - val_mae: 0.6741 - val_root_mean_squared_error: 0.9169\n",
            "Epoch 88/100\n",
            "46/46 [==============================] - 2s 34ms/step - loss: 0.8424 - mae: 0.6714 - root_mean_squared_error: 0.9166 - val_loss: 0.8437 - val_mae: 0.6736 - val_root_mean_squared_error: 0.9173\n",
            "Epoch 89/100\n",
            "46/46 [==============================] - 2s 34ms/step - loss: 0.8429 - mae: 0.6719 - root_mean_squared_error: 0.9169 - val_loss: 0.8431 - val_mae: 0.6727 - val_root_mean_squared_error: 0.9170\n",
            "Epoch 90/100\n",
            "46/46 [==============================] - 2s 34ms/step - loss: 0.8550 - mae: 0.6734 - root_mean_squared_error: 0.9233 - val_loss: 0.8454 - val_mae: 0.6749 - val_root_mean_squared_error: 0.9178\n",
            "Epoch 91/100\n",
            "46/46 [==============================] - 2s 34ms/step - loss: 0.8440 - mae: 0.6719 - root_mean_squared_error: 0.9172 - val_loss: 0.8434 - val_mae: 0.6728 - val_root_mean_squared_error: 0.9170\n",
            "Epoch 92/100\n",
            "46/46 [==============================] - 2s 34ms/step - loss: 0.8424 - mae: 0.6717 - root_mean_squared_error: 0.9165 - val_loss: 0.8439 - val_mae: 0.6746 - val_root_mean_squared_error: 0.9173\n",
            "Epoch 93/100\n",
            "46/46 [==============================] - 2s 34ms/step - loss: 0.8425 - mae: 0.6722 - root_mean_squared_error: 0.9166 - val_loss: 0.8434 - val_mae: 0.6736 - val_root_mean_squared_error: 0.9171\n",
            "Epoch 94/100\n",
            "46/46 [==============================] - 2s 34ms/step - loss: 0.8445 - mae: 0.6718 - root_mean_squared_error: 0.9177 - val_loss: 0.8434 - val_mae: 0.6758 - val_root_mean_squared_error: 0.9171\n",
            "Epoch 95/100\n",
            "46/46 [==============================] - 2s 34ms/step - loss: 0.8433 - mae: 0.6720 - root_mean_squared_error: 0.9171 - val_loss: 0.8445 - val_mae: 0.6745 - val_root_mean_squared_error: 0.9178\n",
            "Epoch 96/100\n",
            "46/46 [==============================] - 2s 34ms/step - loss: 0.8435 - mae: 0.6710 - root_mean_squared_error: 0.9172 - val_loss: 0.8447 - val_mae: 0.6730 - val_root_mean_squared_error: 0.9179\n",
            "Epoch 97/100\n",
            "46/46 [==============================] - 2s 34ms/step - loss: 0.8426 - mae: 0.6719 - root_mean_squared_error: 0.9167 - val_loss: 0.8434 - val_mae: 0.6765 - val_root_mean_squared_error: 0.9172\n",
            "Epoch 98/100\n",
            "46/46 [==============================] - 2s 34ms/step - loss: 0.8420 - mae: 0.6716 - root_mean_squared_error: 0.9165 - val_loss: 0.8431 - val_mae: 0.6748 - val_root_mean_squared_error: 0.9171\n",
            "Epoch 99/100\n",
            "46/46 [==============================] - 2s 35ms/step - loss: 0.8422 - mae: 0.6721 - root_mean_squared_error: 0.9166 - val_loss: 0.8434 - val_mae: 0.6755 - val_root_mean_squared_error: 0.9172\n",
            "Epoch 100/100\n",
            "46/46 [==============================] - 2s 34ms/step - loss: 0.8466 - mae: 0.6720 - root_mean_squared_error: 0.9190 - val_loss: 0.8439 - val_mae: 0.6734 - val_root_mean_squared_error: 0.9174\n"
          ]
        },
        {
          "output_type": "execute_result",
          "data": {
            "text/plain": [
              "<keras.callbacks.History at 0x7f779e810050>"
            ]
          },
          "metadata": {},
          "execution_count": 176
        }
      ]
    },
    {
      "cell_type": "code",
      "source": [
        "pd.DataFrame(model.history.history)[['loss', 'mae', 'val_loss', 'val_mae']].plot()"
      ],
      "metadata": {
        "colab": {
          "base_uri": "https://localhost:8080/",
          "height": 282
        },
        "id": "KavPKlPQmNS5",
        "outputId": "07c80360-9a2a-4297-e7f5-05593d60206c"
      },
      "execution_count": 177,
      "outputs": [
        {
          "output_type": "execute_result",
          "data": {
            "text/plain": [
              "<matplotlib.axes._subplots.AxesSubplot at 0x7f77905d38d0>"
            ]
          },
          "metadata": {},
          "execution_count": 177
        },
        {
          "output_type": "display_data",
          "data": {
            "text/plain": [
              "<Figure size 432x288 with 1 Axes>"
            ],
            "image/png": "[encoded data removed]"
          },
          "metadata": {
            "needs_background": "light"
          }
        }
      ]
    },
    {
      "cell_type": "code",
      "source": [
        "x_train[-lookback:].shape, y_train.shape"
      ],
      "metadata": {
        "colab": {
          "base_uri": "https://localhost:8080/"
        },
        "id": "PLhXiP3q7D1B",
        "outputId": "8e670937-6e47-406d-9dcb-a4609149d1d2"
      },
      "execution_count": 178,
      "outputs": [
        {
          "output_type": "execute_result",
          "data": {
            "text/plain": [
              "((10, 10, 15), (3629, 15))"
            ]
          },
          "metadata": {},
          "execution_count": 178
        }
      ]
    },
    {
      "cell_type": "code",
      "source": [
        "test_concat = pd.concat([train.iloc[-lookback:][scaled_cols], test[scaled_cols]])\n",
        "x_test, y_test = lstm_dataset(test_concat, lookback)"
      ],
      "metadata": {
        "id": "0Kjem5Fzfig7"
      },
      "execution_count": 179,
      "outputs": []
    },
    {
      "cell_type": "code",
      "source": [
        "pred = model.predict(x_test)\n",
        "actual_pred = scaler.inverse_transform(pred)\n",
        "test['prediction'] = actual_pred\n",
        "test[['price', 'prediction']].plot()"
      ],
      "metadata": {
        "colab": {
          "base_uri": "https://localhost:8080/",
          "height": 293
        },
        "id": "5vO34GDpfk8H",
        "outputId": "a7cdcf48-86ac-4755-dab1-90ab5f42f922"
      },
      "execution_count": 180,
      "outputs": [
        {
          "output_type": "execute_result",
          "data": {
            "text/plain": [
              "<matplotlib.axes._subplots.AxesSubplot at 0x7f77949f6390>"
            ]
          },
          "metadata": {},
          "execution_count": 180
        },
        {
          "output_type": "display_data",
          "data": {
            "text/plain": [
              "<Figure size 432x288 with 1 Axes>"
            ],
            "image/png": "[encoded data removed]"
          },
          "metadata": {
            "needs_background": "light"
          }
        }
      ]
    },
    {
      "cell_type": "code",
      "source": [
        "mean_absolute_error(test['price'], test['prediction'])"
      ],
      "metadata": {
        "colab": {
          "base_uri": "https://localhost:8080/"
        },
        "id": "sJmGdRPcj72j",
        "outputId": "a00d3b60-47ca-4b50-e8a5-6fc23dcdace5"
      },
      "execution_count": 181,
      "outputs": [
        {
          "output_type": "execute_result",
          "data": {
            "text/plain": [
              "274288.8126113033"
            ]
          },
          "metadata": {},
          "execution_count": 181
        }
      ]
    },
    {
      "cell_type": "code",
      "source": [
        "mean_absolute_percentage_error(test['price'], test['prediction'])"
      ],
      "metadata": {
        "colab": {
          "base_uri": "https://localhost:8080/"
        },
        "id": "OQZVt5zAkBhD",
        "outputId": "2313bc55-ff67-4ab3-9a0b-f72d919d5473"
      },
      "execution_count": 182,
      "outputs": [
        {
          "output_type": "execute_result",
          "data": {
            "text/plain": [
              "0.723886013557248"
            ]
          },
          "metadata": {},
          "execution_count": 182
        }
      ]
    },
    {
      "cell_type": "code",
      "source": [
        "test[['price', 'prediction']].plot()"
      ],
      "metadata": {
        "id": "XtFpA8FXliNz",
        "colab": {
          "base_uri": "https://localhost:8080/",
          "height": 293
        },
        "outputId": "60b35b7a-012b-4626-c1ed-6186ff6432c9"
      },
      "execution_count": 183,
      "outputs": [
        {
          "output_type": "execute_result",
          "data": {
            "text/plain": [
              "<matplotlib.axes._subplots.AxesSubplot at 0x7f77949c1e10>"
            ]
          },
          "metadata": {},
          "execution_count": 183
        },
        {
          "output_type": "display_data",
          "data": {
            "text/plain": [
              "<Figure size 432x288 with 1 Axes>"
            ],
            "image/png": "[encoded data removed]"
          },
          "metadata": {
            "needs_background": "light"
          }
        }
      ]
    },
    {
      "cell_type": "code",
      "source": [],
      "metadata": {
        "id": "3L0MlefTDcLc"
      },
      "execution_count": 183,
      "outputs": []
    }
  ]
}