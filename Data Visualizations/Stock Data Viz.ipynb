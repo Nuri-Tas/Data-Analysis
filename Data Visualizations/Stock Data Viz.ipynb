{
 "cells": [
  {
   "cell_type": "code",
   "execution_count": 1,
   "id": "0fa1320d",
   "metadata": {},
   "outputs": [],
   "source": [
    "import pandas as pd\n",
    "import numpy as np\n",
    "import matplotlib.pyplot as plt \n",
    "import seaborn as sns\n",
    "\n",
    "%matplotlib inline"
   ]
  },
  {
   "cell_type": "markdown",
   "id": "2b53d231",
   "metadata": {},
   "source": [
    "Choose a background style."
   ]
  },
  {
   "cell_type": "code",
   "execution_count": 2,
   "id": "15625e81",
   "metadata": {},
   "outputs": [
    {
     "data": {
      "text/plain": [
       "['Solarize_Light2',\n",
       " '_classic_test_patch',\n",
       " 'bmh',\n",
       " 'classic',\n",
       " 'dark_background',\n",
       " 'fast',\n",
       " 'fivethirtyeight',\n",
       " 'ggplot',\n",
       " 'grayscale',\n",
       " 'seaborn',\n",
       " 'seaborn-bright',\n",
       " 'seaborn-colorblind',\n",
       " 'seaborn-dark',\n",
       " 'seaborn-dark-palette',\n",
       " 'seaborn-darkgrid',\n",
       " 'seaborn-deep',\n",
       " 'seaborn-muted',\n",
       " 'seaborn-notebook',\n",
       " 'seaborn-paper',\n",
       " 'seaborn-pastel',\n",
       " 'seaborn-poster',\n",
       " 'seaborn-talk',\n",
       " 'seaborn-ticks',\n",
       " 'seaborn-white',\n",
       " 'seaborn-whitegrid',\n",
       " 'tableau-colorblind10']"
      ]
     },
     "execution_count": 2,
     "metadata": {},
     "output_type": "execute_result"
    }
   ],
   "source": [
    "plt.style.available"
   ]
  },
  {
   "cell_type": "code",
   "execution_count": 3,
   "id": "ee61b70a",
   "metadata": {},
   "outputs": [],
   "source": [
    "plt.style.use('seaborn-darkgrid')"
   ]
  },
  {
   "cell_type": "markdown",
   "id": "54e07004",
   "metadata": {},
   "source": [
    "Plot the normalized sinus for the evenly-spaced ten values from -10 to 10."
   ]
  },
  {
   "cell_type": "code",
   "execution_count": 4,
   "id": "c19c5c36",
   "metadata": {},
   "outputs": [
    {
     "data": {
      "text/plain": [
       "[<matplotlib.lines.Line2D at 0x2c993d6d490>]"
      ]
     },
     "execution_count": 4,
     "metadata": {},
     "output_type": "execute_result"
    },
    {
     "data": {
      "image/png": "[encoded data removed]",
      "text/plain": [
       "<Figure size 432x288 with 1 Axes>"
      ]
     },
     "metadata": {},
     "output_type": "display_data"
    }
   ],
   "source": [
    "a = np.linspace(-10, 10, 100)\n",
    "b = np.sinc(a)\n",
    "plt.plot(a, b)"
   ]
  },
  {
   "cell_type": "markdown",
   "id": "3e819475",
   "metadata": {},
   "source": [
    "Load built-in iris dataset and paint the cells based on its strength. Then, plot how the features vary over the dataset."
   ]
  },
  {
   "cell_type": "code",
   "execution_count": 5,
   "id": "9486a715",
   "metadata": {},
   "outputs": [],
   "source": [
    "from sklearn.datasets import load_iris\n",
    "\n",
    "data = load_iris(as_frame=True)\n",
    "\n",
    "df = data['data']"
   ]
  },
  {
   "cell_type": "code",
   "execution_count": 6,
   "id": "b302472c",
   "metadata": {},
   "outputs": [
    {
     "data": {
      "text/html": [
       "<style type=\"text/css\">\n",
       "#T_a0491_row0_col0, #T_a0491_row3_col2, #T_a0491_row4_col1 {\n",
       "  background-color: #023858;\n",
       "  color: #f1f1f1;\n",
       "}\n",
       "#T_a0491_row0_col1 {\n",
       "  background-color: #046198;\n",
       "  color: #f1f1f1;\n",
       "}\n",
       "#T_a0491_row0_col2, #T_a0491_row1_col2, #T_a0491_row4_col2 {\n",
       "  background-color: #75a9cf;\n",
       "  color: #f1f1f1;\n",
       "}\n",
       "#T_a0491_row0_col3, #T_a0491_row1_col1, #T_a0491_row1_col3, #T_a0491_row2_col2, #T_a0491_row2_col3, #T_a0491_row3_col0, #T_a0491_row3_col3, #T_a0491_row4_col3 {\n",
       "  background-color: #fff7fb;\n",
       "  color: #000000;\n",
       "}\n",
       "#T_a0491_row1_col0 {\n",
       "  background-color: #4295c3;\n",
       "  color: #f1f1f1;\n",
       "}\n",
       "#T_a0491_row2_col0 {\n",
       "  background-color: #dbdaeb;\n",
       "  color: #000000;\n",
       "}\n",
       "#T_a0491_row2_col1 {\n",
       "  background-color: #b4c4df;\n",
       "  color: #000000;\n",
       "}\n",
       "#T_a0491_row3_col1 {\n",
       "  background-color: #e3e0ee;\n",
       "  color: #000000;\n",
       "}\n",
       "#T_a0491_row4_col0 {\n",
       "  background-color: #0567a2;\n",
       "  color: #f1f1f1;\n",
       "}\n",
       "</style>\n",
       "<table id=\"T_a0491\">\n",
       "  <thead>\n",
       "    <tr>\n",
       "      <th class=\"blank level0\" >&nbsp;</th>\n",
       "      <th id=\"T_a0491_level0_col0\" class=\"col_heading level0 col0\" >sepal length (cm)</th>\n",
       "      <th id=\"T_a0491_level0_col1\" class=\"col_heading level0 col1\" >sepal width (cm)</th>\n",
       "      <th id=\"T_a0491_level0_col2\" class=\"col_heading level0 col2\" >petal length (cm)</th>\n",
       "      <th id=\"T_a0491_level0_col3\" class=\"col_heading level0 col3\" >petal width (cm)</th>\n",
       "    </tr>\n",
       "  </thead>\n",
       "  <tbody>\n",
       "    <tr>\n",
       "      <th id=\"T_a0491_level0_row0\" class=\"row_heading level0 row0\" >0</th>\n",
       "      <td id=\"T_a0491_row0_col0\" class=\"data row0 col0\" >5.100000</td>\n",
       "      <td id=\"T_a0491_row0_col1\" class=\"data row0 col1\" >3.500000</td>\n",
       "      <td id=\"T_a0491_row0_col2\" class=\"data row0 col2\" >1.400000</td>\n",
       "      <td id=\"T_a0491_row0_col3\" class=\"data row0 col3\" >0.200000</td>\n",
       "    </tr>\n",
       "    <tr>\n",
       "      <th id=\"T_a0491_level0_row1\" class=\"row_heading level0 row1\" >1</th>\n",
       "      <td id=\"T_a0491_row1_col0\" class=\"data row1 col0\" >4.900000</td>\n",
       "      <td id=\"T_a0491_row1_col1\" class=\"data row1 col1\" >3.000000</td>\n",
       "      <td id=\"T_a0491_row1_col2\" class=\"data row1 col2\" >1.400000</td>\n",
       "      <td id=\"T_a0491_row1_col3\" class=\"data row1 col3\" >0.200000</td>\n",
       "    </tr>\n",
       "    <tr>\n",
       "      <th id=\"T_a0491_level0_row2\" class=\"row_heading level0 row2\" >2</th>\n",
       "      <td id=\"T_a0491_row2_col0\" class=\"data row2 col0\" >4.700000</td>\n",
       "      <td id=\"T_a0491_row2_col1\" class=\"data row2 col1\" >3.200000</td>\n",
       "      <td id=\"T_a0491_row2_col2\" class=\"data row2 col2\" >1.300000</td>\n",
       "      <td id=\"T_a0491_row2_col3\" class=\"data row2 col3\" >0.200000</td>\n",
       "    </tr>\n",
       "    <tr>\n",
       "      <th id=\"T_a0491_level0_row3\" class=\"row_heading level0 row3\" >3</th>\n",
       "      <td id=\"T_a0491_row3_col0\" class=\"data row3 col0\" >4.600000</td>\n",
       "      <td id=\"T_a0491_row3_col1\" class=\"data row3 col1\" >3.100000</td>\n",
       "      <td id=\"T_a0491_row3_col2\" class=\"data row3 col2\" >1.500000</td>\n",
       "      <td id=\"T_a0491_row3_col3\" class=\"data row3 col3\" >0.200000</td>\n",
       "    </tr>\n",
       "    <tr>\n",
       "      <th id=\"T_a0491_level0_row4\" class=\"row_heading level0 row4\" >4</th>\n",
       "      <td id=\"T_a0491_row4_col0\" class=\"data row4 col0\" >5.000000</td>\n",
       "      <td id=\"T_a0491_row4_col1\" class=\"data row4 col1\" >3.600000</td>\n",
       "      <td id=\"T_a0491_row4_col2\" class=\"data row4 col2\" >1.400000</td>\n",
       "      <td id=\"T_a0491_row4_col3\" class=\"data row4 col3\" >0.200000</td>\n",
       "    </tr>\n",
       "  </tbody>\n",
       "</table>\n"
      ],
      "text/plain": [
       "<pandas.io.formats.style.Styler at 0x2c99444e310>"
      ]
     },
     "execution_count": 6,
     "metadata": {},
     "output_type": "execute_result"
    }
   ],
   "source": [
    "df = df.head().style.background_gradient()\n",
    "df"
   ]
  },
  {
   "cell_type": "code",
   "execution_count": 10,
   "id": "60571b7c",
   "metadata": {},
   "outputs": [
    {
     "data": {
      "image/png": "[encoded data removed]",
      "text/plain": [
       "<Figure size 864x432 with 1 Axes>"
      ]
     },
     "metadata": {},
     "output_type": "display_data"
    }
   ],
   "source": [
    "fig, ax = plt.subplots(figsize=(12, 6))\n",
    "\n",
    "df = data['data']\n",
    "for i in df.columns:\n",
    "    ax.plot(df.index, df[i], label=i)\n",
    "    ax.legend()"
   ]
  },
  {
   "cell_type": "markdown",
   "id": "aea4d4dc",
   "metadata": {},
   "source": [
    "Import GOOG, MSFT, and ORCL stock data in 2020."
   ]
  },
  {
   "cell_type": "code",
   "execution_count": 27,
   "id": "ccd5b11f",
   "metadata": {},
   "outputs": [
    {
     "name": "stdout",
     "output_type": "stream",
     "text": [
      "downloading GOOG\n",
      "downloading MSFT\n",
      "downloading ORCL\n"
     ]
    }
   ],
   "source": [
    "from pathlib import Path\n",
    "from urllib.request import urlopen\n",
    "import pandas as pd\n",
    "\n",
    "here = Path('C:/Users/Lenovo/Desktop/datasets').absolute().parent\n",
    "csv_file = here / 'stocks.csv'\n",
    "\n",
    "dfs = []\n",
    "symbols = [\n",
    "    'GOOG',\n",
    "    'MSFT',\n",
    "    'ORCL',\n",
    "]\n",
    "\n",
    "for sym in symbols:\n",
    "    print(f'downloading {sym}')\n",
    "    url = f'https://query1.finance.yahoo.com/v7/finance/download/{sym}'\n",
    "    url += '?period1=1577836800&period2=1609372800&interval=1d&events=history'\n",
    "    with urlopen(url) as resp:\n",
    "        df = pd.read_csv(resp, parse_dates=['Date'])\n",
    "        df['Symbol'] = sym\n",
    "        df.insert(1, 'Symbol', df.pop('Symbol'))\n",
    "        dfs.append(df)\n",
    "df = pd.concat(dfs)\n",
    "df.sort_values('Date', inplace=True)\n",
    "df.to_csv(csv_file, index=False)"
   ]
  },
  {
   "cell_type": "code",
   "execution_count": 28,
   "id": "1f1b2de6",
   "metadata": {},
   "outputs": [
    {
     "data": {
      "text/html": [
       "<div>\n",
       "<style scoped>\n",
       "    .dataframe tbody tr th:only-of-type {\n",
       "        vertical-align: middle;\n",
       "    }\n",
       "\n",
       "    .dataframe tbody tr th {\n",
       "        vertical-align: top;\n",
       "    }\n",
       "\n",
       "    .dataframe thead th {\n",
       "        text-align: right;\n",
       "    }\n",
       "</style>\n",
       "<table border=\"1\" class=\"dataframe\">\n",
       "  <thead>\n",
       "    <tr style=\"text-align: right;\">\n",
       "      <th></th>\n",
       "      <th>Symbol</th>\n",
       "      <th>Open</th>\n",
       "      <th>High</th>\n",
       "      <th>Low</th>\n",
       "      <th>Close</th>\n",
       "      <th>Adj Close</th>\n",
       "      <th>Volume</th>\n",
       "    </tr>\n",
       "    <tr>\n",
       "      <th>Date</th>\n",
       "      <th></th>\n",
       "      <th></th>\n",
       "      <th></th>\n",
       "      <th></th>\n",
       "      <th></th>\n",
       "      <th></th>\n",
       "      <th></th>\n",
       "    </tr>\n",
       "  </thead>\n",
       "  <tbody>\n",
       "    <tr>\n",
       "      <th>2020-01-02</th>\n",
       "      <td>GOOG</td>\n",
       "      <td>67.077499</td>\n",
       "      <td>68.406998</td>\n",
       "      <td>67.077499</td>\n",
       "      <td>68.368500</td>\n",
       "      <td>68.368500</td>\n",
       "      <td>28134620</td>\n",
       "    </tr>\n",
       "    <tr>\n",
       "      <th>2020-01-02</th>\n",
       "      <td>MSFT</td>\n",
       "      <td>158.779999</td>\n",
       "      <td>160.729996</td>\n",
       "      <td>158.330002</td>\n",
       "      <td>160.619995</td>\n",
       "      <td>156.924377</td>\n",
       "      <td>22622100</td>\n",
       "    </tr>\n",
       "    <tr>\n",
       "      <th>2020-01-02</th>\n",
       "      <td>ORCL</td>\n",
       "      <td>53.270000</td>\n",
       "      <td>53.959999</td>\n",
       "      <td>53.230000</td>\n",
       "      <td>53.950001</td>\n",
       "      <td>51.586056</td>\n",
       "      <td>13899600</td>\n",
       "    </tr>\n",
       "    <tr>\n",
       "      <th>2020-01-03</th>\n",
       "      <td>GOOG</td>\n",
       "      <td>67.392998</td>\n",
       "      <td>68.625000</td>\n",
       "      <td>67.277184</td>\n",
       "      <td>68.032997</td>\n",
       "      <td>68.032997</td>\n",
       "      <td>23740120</td>\n",
       "    </tr>\n",
       "    <tr>\n",
       "      <th>2020-01-03</th>\n",
       "      <td>MSFT</td>\n",
       "      <td>158.320007</td>\n",
       "      <td>159.949997</td>\n",
       "      <td>158.059998</td>\n",
       "      <td>158.619995</td>\n",
       "      <td>154.970413</td>\n",
       "      <td>21116200</td>\n",
       "    </tr>\n",
       "  </tbody>\n",
       "</table>\n",
       "</div>"
      ],
      "text/plain": [
       "           Symbol        Open        High         Low       Close   Adj Close  \\\n",
       "Date                                                                            \n",
       "2020-01-02   GOOG   67.077499   68.406998   67.077499   68.368500   68.368500   \n",
       "2020-01-02   MSFT  158.779999  160.729996  158.330002  160.619995  156.924377   \n",
       "2020-01-02   ORCL   53.270000   53.959999   53.230000   53.950001   51.586056   \n",
       "2020-01-03   GOOG   67.392998   68.625000   67.277184   68.032997   68.032997   \n",
       "2020-01-03   MSFT  158.320007  159.949997  158.059998  158.619995  154.970413   \n",
       "\n",
       "              Volume  \n",
       "Date                  \n",
       "2020-01-02  28134620  \n",
       "2020-01-02  22622100  \n",
       "2020-01-02  13899600  \n",
       "2020-01-03  23740120  \n",
       "2020-01-03  21116200  "
      ]
     },
     "execution_count": 28,
     "metadata": {},
     "output_type": "execute_result"
    }
   ],
   "source": [
    "df.set_index('Date', inplace=True)\n",
    "df.head()"
   ]
  },
  {
   "cell_type": "markdown",
   "id": "f151c3cc",
   "metadata": {},
   "source": [
    "Plot the closing prices for MSFT."
   ]
  },
  {
   "cell_type": "code",
   "execution_count": 13,
   "id": "466fb90e",
   "metadata": {},
   "outputs": [
    {
     "data": {
      "image/png": "[encoded data removed]",
      "text/plain": [
       "<Figure size 864x432 with 1 Axes>"
      ]
     },
     "metadata": {},
     "output_type": "display_data"
    }
   ],
   "source": [
    "MSFT = df.query('Symbol == \"MSFT\"')\n",
    "ax = MSFT['Close'].plot(figsize=(12, 6))\n",
    "ax.set_ylabel('Price')\n",
    "ax.set_title('MSFT Closing Prices in 2020');"
   ]
  },
  {
   "cell_type": "markdown",
   "id": "7336ac64",
   "metadata": {},
   "source": [
    "In what range are the most price values of MSFT clustered ?"
   ]
  },
  {
   "cell_type": "code",
   "execution_count": 14,
   "id": "37cffe9e",
   "metadata": {},
   "outputs": [
    {
     "data": {
      "text/plain": [
       "<AxesSubplot:ylabel='Density'>"
      ]
     },
     "execution_count": 14,
     "metadata": {},
     "output_type": "execute_result"
    },
    {
     "data": {
      "image/png": "[encoded data removed]",
      "text/plain": [
       "<Figure size 432x288 with 1 Axes>"
      ]
     },
     "metadata": {},
     "output_type": "display_data"
    }
   ],
   "source": [
    "MSFT['Close'].plot.kde()"
   ]
  },
  {
   "cell_type": "code",
   "execution_count": 29,
   "id": "0e74a38b",
   "metadata": {},
   "outputs": [
    {
     "data": {
      "text/html": [
       "<div>\n",
       "<style scoped>\n",
       "    .dataframe tbody tr th:only-of-type {\n",
       "        vertical-align: middle;\n",
       "    }\n",
       "\n",
       "    .dataframe tbody tr th {\n",
       "        vertical-align: top;\n",
       "    }\n",
       "\n",
       "    .dataframe thead th {\n",
       "        text-align: right;\n",
       "    }\n",
       "</style>\n",
       "<table border=\"1\" class=\"dataframe\">\n",
       "  <thead>\n",
       "    <tr style=\"text-align: right;\">\n",
       "      <th></th>\n",
       "      <th>Symbol</th>\n",
       "      <th>Open</th>\n",
       "      <th>High</th>\n",
       "      <th>Low</th>\n",
       "      <th>Close</th>\n",
       "      <th>Adj Close</th>\n",
       "      <th>Volume</th>\n",
       "    </tr>\n",
       "    <tr>\n",
       "      <th>Date</th>\n",
       "      <th></th>\n",
       "      <th></th>\n",
       "      <th></th>\n",
       "      <th></th>\n",
       "      <th></th>\n",
       "      <th></th>\n",
       "      <th></th>\n",
       "    </tr>\n",
       "  </thead>\n",
       "  <tbody>\n",
       "    <tr>\n",
       "      <th>2020-01-02</th>\n",
       "      <td>GOOG</td>\n",
       "      <td>67.077499</td>\n",
       "      <td>68.406998</td>\n",
       "      <td>67.077499</td>\n",
       "      <td>68.368500</td>\n",
       "      <td>68.368500</td>\n",
       "      <td>28134620</td>\n",
       "    </tr>\n",
       "    <tr>\n",
       "      <th>2020-01-02</th>\n",
       "      <td>MSFT</td>\n",
       "      <td>158.779999</td>\n",
       "      <td>160.729996</td>\n",
       "      <td>158.330002</td>\n",
       "      <td>160.619995</td>\n",
       "      <td>156.924377</td>\n",
       "      <td>22622100</td>\n",
       "    </tr>\n",
       "    <tr>\n",
       "      <th>2020-01-02</th>\n",
       "      <td>ORCL</td>\n",
       "      <td>53.270000</td>\n",
       "      <td>53.959999</td>\n",
       "      <td>53.230000</td>\n",
       "      <td>53.950001</td>\n",
       "      <td>51.586056</td>\n",
       "      <td>13899600</td>\n",
       "    </tr>\n",
       "    <tr>\n",
       "      <th>2020-01-03</th>\n",
       "      <td>GOOG</td>\n",
       "      <td>67.392998</td>\n",
       "      <td>68.625000</td>\n",
       "      <td>67.277184</td>\n",
       "      <td>68.032997</td>\n",
       "      <td>68.032997</td>\n",
       "      <td>23740120</td>\n",
       "    </tr>\n",
       "    <tr>\n",
       "      <th>2020-01-03</th>\n",
       "      <td>MSFT</td>\n",
       "      <td>158.320007</td>\n",
       "      <td>159.949997</td>\n",
       "      <td>158.059998</td>\n",
       "      <td>158.619995</td>\n",
       "      <td>154.970413</td>\n",
       "      <td>21116200</td>\n",
       "    </tr>\n",
       "    <tr>\n",
       "      <th>...</th>\n",
       "      <td>...</td>\n",
       "      <td>...</td>\n",
       "      <td>...</td>\n",
       "      <td>...</td>\n",
       "      <td>...</td>\n",
       "      <td>...</td>\n",
       "      <td>...</td>\n",
       "    </tr>\n",
       "    <tr>\n",
       "      <th>2020-12-29</th>\n",
       "      <td>GOOG</td>\n",
       "      <td>89.389503</td>\n",
       "      <td>89.622002</td>\n",
       "      <td>87.804497</td>\n",
       "      <td>87.935997</td>\n",
       "      <td>87.935997</td>\n",
       "      <td>25987900</td>\n",
       "    </tr>\n",
       "    <tr>\n",
       "      <th>2020-12-29</th>\n",
       "      <td>MSFT</td>\n",
       "      <td>226.309998</td>\n",
       "      <td>227.179993</td>\n",
       "      <td>223.580002</td>\n",
       "      <td>224.149994</td>\n",
       "      <td>221.312576</td>\n",
       "      <td>17403200</td>\n",
       "    </tr>\n",
       "    <tr>\n",
       "      <th>2020-12-30</th>\n",
       "      <td>MSFT</td>\n",
       "      <td>225.229996</td>\n",
       "      <td>225.630005</td>\n",
       "      <td>221.470001</td>\n",
       "      <td>221.679993</td>\n",
       "      <td>218.873856</td>\n",
       "      <td>20272300</td>\n",
       "    </tr>\n",
       "    <tr>\n",
       "      <th>2020-12-30</th>\n",
       "      <td>GOOG</td>\n",
       "      <td>88.100502</td>\n",
       "      <td>88.254753</td>\n",
       "      <td>86.279999</td>\n",
       "      <td>86.975998</td>\n",
       "      <td>86.975998</td>\n",
       "      <td>26122600</td>\n",
       "    </tr>\n",
       "    <tr>\n",
       "      <th>2020-12-30</th>\n",
       "      <td>ORCL</td>\n",
       "      <td>64.800003</td>\n",
       "      <td>64.910004</td>\n",
       "      <td>64.349998</td>\n",
       "      <td>64.400002</td>\n",
       "      <td>62.661530</td>\n",
       "      <td>6192000</td>\n",
       "    </tr>\n",
       "  </tbody>\n",
       "</table>\n",
       "<p>756 rows × 7 columns</p>\n",
       "</div>"
      ],
      "text/plain": [
       "           Symbol        Open        High         Low       Close   Adj Close  \\\n",
       "Date                                                                            \n",
       "2020-01-02   GOOG   67.077499   68.406998   67.077499   68.368500   68.368500   \n",
       "2020-01-02   MSFT  158.779999  160.729996  158.330002  160.619995  156.924377   \n",
       "2020-01-02   ORCL   53.270000   53.959999   53.230000   53.950001   51.586056   \n",
       "2020-01-03   GOOG   67.392998   68.625000   67.277184   68.032997   68.032997   \n",
       "2020-01-03   MSFT  158.320007  159.949997  158.059998  158.619995  154.970413   \n",
       "...           ...         ...         ...         ...         ...         ...   \n",
       "2020-12-29   GOOG   89.389503   89.622002   87.804497   87.935997   87.935997   \n",
       "2020-12-29   MSFT  226.309998  227.179993  223.580002  224.149994  221.312576   \n",
       "2020-12-30   MSFT  225.229996  225.630005  221.470001  221.679993  218.873856   \n",
       "2020-12-30   GOOG   88.100502   88.254753   86.279999   86.975998   86.975998   \n",
       "2020-12-30   ORCL   64.800003   64.910004   64.349998   64.400002   62.661530   \n",
       "\n",
       "              Volume  \n",
       "Date                  \n",
       "2020-01-02  28134620  \n",
       "2020-01-02  22622100  \n",
       "2020-01-02  13899600  \n",
       "2020-01-03  23740120  \n",
       "2020-01-03  21116200  \n",
       "...              ...  \n",
       "2020-12-29  25987900  \n",
       "2020-12-29  17403200  \n",
       "2020-12-30  20272300  \n",
       "2020-12-30  26122600  \n",
       "2020-12-30   6192000  \n",
       "\n",
       "[756 rows x 7 columns]"
      ]
     },
     "execution_count": 29,
     "metadata": {},
     "output_type": "execute_result"
    }
   ],
   "source": [
    "df"
   ]
  },
  {
   "cell_type": "markdown",
   "id": "351ff6fc",
   "metadata": {},
   "source": [
    "What are the monthly total volume per company?"
   ]
  },
  {
   "cell_type": "code",
   "execution_count": 47,
   "id": "138c58bd",
   "metadata": {},
   "outputs": [
    {
     "data": {
      "image/png": "[encoded data removed]",
      "text/plain": [
       "<Figure size 864x432 with 1 Axes>"
      ]
     },
     "metadata": {},
     "output_type": "display_data"
    }
   ],
   "source": [
    "from calendar import month_abbr\n",
    "\n",
    "df.index.name = 'Months in 2020'\n",
    "ax = df.pivot(columns='Symbol', values='Volume').resample('M').sum().plot.bar(figsize=(12, 6))\n",
    "ax.set_xticklabels([month_abbr[i+1] for i in ax.get_xticks()])\n",
    "ax.set_ylabel('Total Volume');"
   ]
  },
  {
   "cell_type": "code",
   "execution_count": 48,
   "id": "5af96883",
   "metadata": {},
   "outputs": [],
   "source": [
    "df.drop(['Month'], axis=1, inplace=True)"
   ]
  },
  {
   "cell_type": "code",
   "execution_count": 49,
   "id": "e057b700",
   "metadata": {},
   "outputs": [
    {
     "data": {
      "text/html": [
       "<div>\n",
       "<style scoped>\n",
       "    .dataframe tbody tr th:only-of-type {\n",
       "        vertical-align: middle;\n",
       "    }\n",
       "\n",
       "    .dataframe tbody tr th {\n",
       "        vertical-align: top;\n",
       "    }\n",
       "\n",
       "    .dataframe thead th {\n",
       "        text-align: right;\n",
       "    }\n",
       "</style>\n",
       "<table border=\"1\" class=\"dataframe\">\n",
       "  <thead>\n",
       "    <tr style=\"text-align: right;\">\n",
       "      <th></th>\n",
       "      <th>Symbol</th>\n",
       "      <th>Open</th>\n",
       "      <th>High</th>\n",
       "      <th>Low</th>\n",
       "      <th>Close</th>\n",
       "      <th>Adj Close</th>\n",
       "      <th>Volume</th>\n",
       "    </tr>\n",
       "    <tr>\n",
       "      <th>Months in 2020</th>\n",
       "      <th></th>\n",
       "      <th></th>\n",
       "      <th></th>\n",
       "      <th></th>\n",
       "      <th></th>\n",
       "      <th></th>\n",
       "      <th></th>\n",
       "    </tr>\n",
       "  </thead>\n",
       "  <tbody>\n",
       "    <tr>\n",
       "      <th>2020-01-02</th>\n",
       "      <td>GOOG</td>\n",
       "      <td>67.077499</td>\n",
       "      <td>68.406998</td>\n",
       "      <td>67.077499</td>\n",
       "      <td>68.368500</td>\n",
       "      <td>68.368500</td>\n",
       "      <td>28134620</td>\n",
       "    </tr>\n",
       "    <tr>\n",
       "      <th>2020-01-02</th>\n",
       "      <td>MSFT</td>\n",
       "      <td>158.779999</td>\n",
       "      <td>160.729996</td>\n",
       "      <td>158.330002</td>\n",
       "      <td>160.619995</td>\n",
       "      <td>156.924377</td>\n",
       "      <td>22622100</td>\n",
       "    </tr>\n",
       "    <tr>\n",
       "      <th>2020-01-02</th>\n",
       "      <td>ORCL</td>\n",
       "      <td>53.270000</td>\n",
       "      <td>53.959999</td>\n",
       "      <td>53.230000</td>\n",
       "      <td>53.950001</td>\n",
       "      <td>51.586056</td>\n",
       "      <td>13899600</td>\n",
       "    </tr>\n",
       "    <tr>\n",
       "      <th>2020-01-03</th>\n",
       "      <td>GOOG</td>\n",
       "      <td>67.392998</td>\n",
       "      <td>68.625000</td>\n",
       "      <td>67.277184</td>\n",
       "      <td>68.032997</td>\n",
       "      <td>68.032997</td>\n",
       "      <td>23740120</td>\n",
       "    </tr>\n",
       "    <tr>\n",
       "      <th>2020-01-03</th>\n",
       "      <td>MSFT</td>\n",
       "      <td>158.320007</td>\n",
       "      <td>159.949997</td>\n",
       "      <td>158.059998</td>\n",
       "      <td>158.619995</td>\n",
       "      <td>154.970413</td>\n",
       "      <td>21116200</td>\n",
       "    </tr>\n",
       "    <tr>\n",
       "      <th>...</th>\n",
       "      <td>...</td>\n",
       "      <td>...</td>\n",
       "      <td>...</td>\n",
       "      <td>...</td>\n",
       "      <td>...</td>\n",
       "      <td>...</td>\n",
       "      <td>...</td>\n",
       "    </tr>\n",
       "    <tr>\n",
       "      <th>2020-12-29</th>\n",
       "      <td>GOOG</td>\n",
       "      <td>89.389503</td>\n",
       "      <td>89.622002</td>\n",
       "      <td>87.804497</td>\n",
       "      <td>87.935997</td>\n",
       "      <td>87.935997</td>\n",
       "      <td>25987900</td>\n",
       "    </tr>\n",
       "    <tr>\n",
       "      <th>2020-12-29</th>\n",
       "      <td>MSFT</td>\n",
       "      <td>226.309998</td>\n",
       "      <td>227.179993</td>\n",
       "      <td>223.580002</td>\n",
       "      <td>224.149994</td>\n",
       "      <td>221.312576</td>\n",
       "      <td>17403200</td>\n",
       "    </tr>\n",
       "    <tr>\n",
       "      <th>2020-12-30</th>\n",
       "      <td>MSFT</td>\n",
       "      <td>225.229996</td>\n",
       "      <td>225.630005</td>\n",
       "      <td>221.470001</td>\n",
       "      <td>221.679993</td>\n",
       "      <td>218.873856</td>\n",
       "      <td>20272300</td>\n",
       "    </tr>\n",
       "    <tr>\n",
       "      <th>2020-12-30</th>\n",
       "      <td>GOOG</td>\n",
       "      <td>88.100502</td>\n",
       "      <td>88.254753</td>\n",
       "      <td>86.279999</td>\n",
       "      <td>86.975998</td>\n",
       "      <td>86.975998</td>\n",
       "      <td>26122600</td>\n",
       "    </tr>\n",
       "    <tr>\n",
       "      <th>2020-12-30</th>\n",
       "      <td>ORCL</td>\n",
       "      <td>64.800003</td>\n",
       "      <td>64.910004</td>\n",
       "      <td>64.349998</td>\n",
       "      <td>64.400002</td>\n",
       "      <td>62.661530</td>\n",
       "      <td>6192000</td>\n",
       "    </tr>\n",
       "  </tbody>\n",
       "</table>\n",
       "<p>756 rows × 7 columns</p>\n",
       "</div>"
      ],
      "text/plain": [
       "               Symbol        Open        High         Low       Close  \\\n",
       "Months in 2020                                                          \n",
       "2020-01-02       GOOG   67.077499   68.406998   67.077499   68.368500   \n",
       "2020-01-02       MSFT  158.779999  160.729996  158.330002  160.619995   \n",
       "2020-01-02       ORCL   53.270000   53.959999   53.230000   53.950001   \n",
       "2020-01-03       GOOG   67.392998   68.625000   67.277184   68.032997   \n",
       "2020-01-03       MSFT  158.320007  159.949997  158.059998  158.619995   \n",
       "...               ...         ...         ...         ...         ...   \n",
       "2020-12-29       GOOG   89.389503   89.622002   87.804497   87.935997   \n",
       "2020-12-29       MSFT  226.309998  227.179993  223.580002  224.149994   \n",
       "2020-12-30       MSFT  225.229996  225.630005  221.470001  221.679993   \n",
       "2020-12-30       GOOG   88.100502   88.254753   86.279999   86.975998   \n",
       "2020-12-30       ORCL   64.800003   64.910004   64.349998   64.400002   \n",
       "\n",
       "                 Adj Close    Volume  \n",
       "Months in 2020                        \n",
       "2020-01-02       68.368500  28134620  \n",
       "2020-01-02      156.924377  22622100  \n",
       "2020-01-02       51.586056  13899600  \n",
       "2020-01-03       68.032997  23740120  \n",
       "2020-01-03      154.970413  21116200  \n",
       "...                    ...       ...  \n",
       "2020-12-29       87.935997  25987900  \n",
       "2020-12-29      221.312576  17403200  \n",
       "2020-12-30      218.873856  20272300  \n",
       "2020-12-30       86.975998  26122600  \n",
       "2020-12-30       62.661530   6192000  \n",
       "\n",
       "[756 rows x 7 columns]"
      ]
     },
     "execution_count": 49,
     "metadata": {},
     "output_type": "execute_result"
    }
   ],
   "source": [
    "df"
   ]
  },
  {
   "cell_type": "markdown",
   "id": "80cd0eee",
   "metadata": {},
   "source": [
    "Plot the monthly median closing price with each company has its own chart. "
   ]
  },
  {
   "cell_type": "code",
   "execution_count": 50,
   "id": "2ab0e0cc",
   "metadata": {},
   "outputs": [
    {
     "data": {
      "text/html": [
       "<div>\n",
       "<style scoped>\n",
       "    .dataframe tbody tr th:only-of-type {\n",
       "        vertical-align: middle;\n",
       "    }\n",
       "\n",
       "    .dataframe tbody tr th {\n",
       "        vertical-align: top;\n",
       "    }\n",
       "\n",
       "    .dataframe thead th {\n",
       "        text-align: right;\n",
       "    }\n",
       "</style>\n",
       "<table border=\"1\" class=\"dataframe\">\n",
       "  <thead>\n",
       "    <tr style=\"text-align: right;\">\n",
       "      <th>Symbol</th>\n",
       "      <th>GOOG</th>\n",
       "      <th>MSFT</th>\n",
       "      <th>ORCL</th>\n",
       "    </tr>\n",
       "    <tr>\n",
       "      <th>Month</th>\n",
       "      <th></th>\n",
       "      <th></th>\n",
       "      <th></th>\n",
       "    </tr>\n",
       "  </thead>\n",
       "  <tbody>\n",
       "    <tr>\n",
       "      <th>1</th>\n",
       "      <td>71.959999</td>\n",
       "      <td>163.279999</td>\n",
       "      <td>54.160000</td>\n",
       "    </tr>\n",
       "    <tr>\n",
       "      <th>2</th>\n",
       "      <td>74.255501</td>\n",
       "      <td>183.630005</td>\n",
       "      <td>54.720001</td>\n",
       "    </tr>\n",
       "    <tr>\n",
       "      <th>3</th>\n",
       "      <td>57.714251</td>\n",
       "      <td>152.125000</td>\n",
       "      <td>47.605000</td>\n",
       "    </tr>\n",
       "    <tr>\n",
       "      <th>4</th>\n",
       "      <td>63.123501</td>\n",
       "      <td>171.419998</td>\n",
       "      <td>52.970001</td>\n",
       "    </tr>\n",
       "    <tr>\n",
       "      <th>5</th>\n",
       "      <td>68.992001</td>\n",
       "      <td>182.849998</td>\n",
       "      <td>52.699999</td>\n",
       "    </tr>\n",
       "    <tr>\n",
       "      <th>6</th>\n",
       "      <td>71.808498</td>\n",
       "      <td>193.905006</td>\n",
       "      <td>54.145000</td>\n",
       "    </tr>\n",
       "    <tr>\n",
       "      <th>7</th>\n",
       "      <td>75.729748</td>\n",
       "      <td>206.665001</td>\n",
       "      <td>55.865000</td>\n",
       "    </tr>\n",
       "    <tr>\n",
       "      <th>8</th>\n",
       "      <td>75.922501</td>\n",
       "      <td>213.020004</td>\n",
       "      <td>55.279999</td>\n",
       "    </tr>\n",
       "    <tr>\n",
       "      <th>9</th>\n",
       "      <td>75.963997</td>\n",
       "      <td>207.259995</td>\n",
       "      <td>59.459999</td>\n",
       "    </tr>\n",
       "    <tr>\n",
       "      <th>10</th>\n",
       "      <td>78.159248</td>\n",
       "      <td>213.735001</td>\n",
       "      <td>59.685000</td>\n",
       "    </tr>\n",
       "    <tr>\n",
       "      <th>11</th>\n",
       "      <td>88.062252</td>\n",
       "      <td>214.265007</td>\n",
       "      <td>56.799999</td>\n",
       "    </tr>\n",
       "    <tr>\n",
       "      <th>12</th>\n",
       "      <td>88.388496</td>\n",
       "      <td>216.210007</td>\n",
       "      <td>61.860001</td>\n",
       "    </tr>\n",
       "  </tbody>\n",
       "</table>\n",
       "</div>"
      ],
      "text/plain": [
       "Symbol       GOOG        MSFT       ORCL\n",
       "Month                                   \n",
       "1       71.959999  163.279999  54.160000\n",
       "2       74.255501  183.630005  54.720001\n",
       "3       57.714251  152.125000  47.605000\n",
       "4       63.123501  171.419998  52.970001\n",
       "5       68.992001  182.849998  52.699999\n",
       "6       71.808498  193.905006  54.145000\n",
       "7       75.729748  206.665001  55.865000\n",
       "8       75.922501  213.020004  55.279999\n",
       "9       75.963997  207.259995  59.459999\n",
       "10      78.159248  213.735001  59.685000\n",
       "11      88.062252  214.265007  56.799999\n",
       "12      88.388496  216.210007  61.860001"
      ]
     },
     "execution_count": 50,
     "metadata": {},
     "output_type": "execute_result"
    }
   ],
   "source": [
    "df['Month'] = df.index.month\n",
    "\n",
    "close_median = df.pivot_table(index='Month', columns='Symbol', values='Close', aggfunc='median')\n",
    "close_median"
   ]
  },
  {
   "cell_type": "code",
   "execution_count": 51,
   "id": "54890cf0",
   "metadata": {},
   "outputs": [
    {
     "data": {
      "image/png": "[encoded data removed]",
      "text/plain": [
       "<Figure size 864x432 with 1 Axes>"
      ]
     },
     "metadata": {},
     "output_type": "display_data"
    }
   ],
   "source": [
    "from calendar import month_abbr\n",
    "\n",
    "ax = close_median.plot.bar(figsize=(12, 6))\n",
    "\n",
    "ax.set_xticklabels([month_abbr[i+1] for i in ax.get_xticks()])\n",
    "ax.set_title('Median Close for Each Company')\n",
    "ax.set_ylabel('Median Close');"
   ]
  },
  {
   "cell_type": "markdown",
   "id": "ad6fc210",
   "metadata": {},
   "source": [
    "How are the median volume varies across the weekdays?"
   ]
  },
  {
   "cell_type": "code",
   "execution_count": 52,
   "id": "69ae5eae",
   "metadata": {},
   "outputs": [
    {
     "data": {
      "image/png": "[encoded data removed]",
      "text/plain": [
       "<Figure size 432x288 with 1 Axes>"
      ]
     },
     "metadata": {},
     "output_type": "display_data"
    }
   ],
   "source": [
    "daily = MSFT['Volume'].groupby(MSFT.index.weekday).median()\n",
    "ax = daily.plot.bar(title='MSFT Median Volume', rot=0)\n",
    "\n",
    "ax.set_xticklabels(['Mon', 'Tue', 'Wed', 'Thu', 'Fri'])\n",
    "ax.set_xlabel('Weekday')\n",
    "ax.set_ylabel('Volume');"
   ]
  },
  {
   "cell_type": "markdown",
   "id": "de6ec1af",
   "metadata": {},
   "source": [
    "### Interactive Charts <br>\n",
    "Create a normalized sinus plot again we did previously but with an interactive range option this time."
   ]
  },
  {
   "cell_type": "code",
   "execution_count": 53,
   "id": "b27ca144",
   "metadata": {},
   "outputs": [
    {
     "data": {
      "application/vnd.jupyter.widget-view+json": {
       "model_id": "1e8d6b43e6dd48edacfe31511da39f20",
       "version_major": 2,
       "version_minor": 0
      },
      "text/plain": [
       "interactive(children=(IntSlider(value=6, description='limit', max=18, min=-6), Output()), _dom_classes=('widge…"
      ]
     },
     "metadata": {},
     "output_type": "display_data"
    }
   ],
   "source": [
    "from ipywidgets import interact\n",
    "\n",
    "@interact(limit=6)\n",
    "def plot_sin(limit):\n",
    "    a = np.linspace(-limit, limit, 100)\n",
    "    b = np.sinc(a)\n",
    "    plt.plot(a, b)\n",
    "    plt.show()\n",
    "    "
   ]
  },
  {
   "cell_type": "markdown",
   "id": "f84ca7fc",
   "metadata": {},
   "source": [
    "We can adjust min and max value of limit with IntSlider."
   ]
  },
  {
   "cell_type": "code",
   "execution_count": 54,
   "id": "9e8b7bce",
   "metadata": {},
   "outputs": [
    {
     "data": {
      "application/vnd.jupyter.widget-view+json": {
       "model_id": "6a70b777d2b14abfbc5f37913b8db975",
       "version_major": 2,
       "version_minor": 0
      },
      "text/plain": [
       "interactive(children=(IntSlider(value=0, description='limit', max=20), Output()), _dom_classes=('widget-intera…"
      ]
     },
     "metadata": {},
     "output_type": "display_data"
    }
   ],
   "source": [
    "from ipywidgets import IntSlider\n",
    "\n",
    "@interact(limit=IntSlider(min=0, max=20))\n",
    "def plot_sin(limit):\n",
    "    a = np.linspace(-limit, limit, 100)\n",
    "    b = np.sinc(a)\n",
    "    plt.plot(a, b)"
   ]
  },
  {
   "cell_type": "markdown",
   "id": "8696905d",
   "metadata": {},
   "source": [
    "## Plotly"
   ]
  },
  {
   "cell_type": "markdown",
   "id": "0c42fa89",
   "metadata": {},
   "source": [
    "Import a track coordinations dataset from https://raw.githubusercontent.com/LinkedInLearning/python-scientific-stack-3006561/main/Ch08/08_07/track.csv."
   ]
  },
  {
   "cell_type": "code",
   "execution_count": 55,
   "id": "0de32cad",
   "metadata": {},
   "outputs": [
    {
     "data": {
      "text/html": [
       "<div>\n",
       "<style scoped>\n",
       "    .dataframe tbody tr th:only-of-type {\n",
       "        vertical-align: middle;\n",
       "    }\n",
       "\n",
       "    .dataframe tbody tr th {\n",
       "        vertical-align: top;\n",
       "    }\n",
       "\n",
       "    .dataframe thead th {\n",
       "        text-align: right;\n",
       "    }\n",
       "</style>\n",
       "<table border=\"1\" class=\"dataframe\">\n",
       "  <thead>\n",
       "    <tr style=\"text-align: right;\">\n",
       "      <th></th>\n",
       "      <th>lat</th>\n",
       "      <th>lng</th>\n",
       "      <th>height</th>\n",
       "    </tr>\n",
       "    <tr>\n",
       "      <th>time</th>\n",
       "      <th></th>\n",
       "      <th></th>\n",
       "      <th></th>\n",
       "    </tr>\n",
       "  </thead>\n",
       "  <tbody>\n",
       "    <tr>\n",
       "      <th>2015-08-20 03:48:07.235</th>\n",
       "      <td>32.519585</td>\n",
       "      <td>35.015021</td>\n",
       "      <td>136.199997</td>\n",
       "    </tr>\n",
       "    <tr>\n",
       "      <th>2015-08-20 03:48:24.734</th>\n",
       "      <td>32.519606</td>\n",
       "      <td>35.014954</td>\n",
       "      <td>126.599998</td>\n",
       "    </tr>\n",
       "    <tr>\n",
       "      <th>2015-08-20 03:48:25.660</th>\n",
       "      <td>32.519612</td>\n",
       "      <td>35.014871</td>\n",
       "      <td>123.000000</td>\n",
       "    </tr>\n",
       "    <tr>\n",
       "      <th>2015-08-20 03:48:26.819</th>\n",
       "      <td>32.519654</td>\n",
       "      <td>35.014824</td>\n",
       "      <td>120.500000</td>\n",
       "    </tr>\n",
       "    <tr>\n",
       "      <th>2015-08-20 03:48:27.828</th>\n",
       "      <td>32.519689</td>\n",
       "      <td>35.014776</td>\n",
       "      <td>118.900002</td>\n",
       "    </tr>\n",
       "  </tbody>\n",
       "</table>\n",
       "</div>"
      ],
      "text/plain": [
       "                               lat        lng      height\n",
       "time                                                     \n",
       "2015-08-20 03:48:07.235  32.519585  35.015021  136.199997\n",
       "2015-08-20 03:48:24.734  32.519606  35.014954  126.599998\n",
       "2015-08-20 03:48:25.660  32.519612  35.014871  123.000000\n",
       "2015-08-20 03:48:26.819  32.519654  35.014824  120.500000\n",
       "2015-08-20 03:48:27.828  32.519689  35.014776  118.900002"
      ]
     },
     "execution_count": 55,
     "metadata": {},
     "output_type": "execute_result"
    }
   ],
   "source": [
    "df = pd.read_csv('https://raw.githubusercontent.com/LinkedInLearning/python-scientific-stack-3006561/main/Ch08/08_07/track.csv', parse_dates=['time'], index_col='time')\n",
    "df.head()"
   ]
  },
  {
   "cell_type": "markdown",
   "id": "6ddca1d8",
   "metadata": {},
   "source": [
    "Set the average value of the features for each 3 minutes as the new data frame."
   ]
  },
  {
   "cell_type": "code",
   "execution_count": 56,
   "id": "aa7acbe7",
   "metadata": {},
   "outputs": [
    {
     "data": {
      "text/html": [
       "<div>\n",
       "<style scoped>\n",
       "    .dataframe tbody tr th:only-of-type {\n",
       "        vertical-align: middle;\n",
       "    }\n",
       "\n",
       "    .dataframe tbody tr th {\n",
       "        vertical-align: top;\n",
       "    }\n",
       "\n",
       "    .dataframe thead th {\n",
       "        text-align: right;\n",
       "    }\n",
       "</style>\n",
       "<table border=\"1\" class=\"dataframe\">\n",
       "  <thead>\n",
       "    <tr style=\"text-align: right;\">\n",
       "      <th></th>\n",
       "      <th>time</th>\n",
       "      <th>lat</th>\n",
       "      <th>lng</th>\n",
       "      <th>height</th>\n",
       "    </tr>\n",
       "  </thead>\n",
       "  <tbody>\n",
       "    <tr>\n",
       "      <th>0</th>\n",
       "      <td>2015-08-20 03:48:00</td>\n",
       "      <td>32.518362</td>\n",
       "      <td>35.014302</td>\n",
       "      <td>118.770212</td>\n",
       "    </tr>\n",
       "    <tr>\n",
       "      <th>1</th>\n",
       "      <td>2015-08-20 03:51:00</td>\n",
       "      <td>32.515354</td>\n",
       "      <td>35.013291</td>\n",
       "      <td>102.634210</td>\n",
       "    </tr>\n",
       "    <tr>\n",
       "      <th>2</th>\n",
       "      <td>2015-08-20 03:54:00</td>\n",
       "      <td>32.512950</td>\n",
       "      <td>35.011211</td>\n",
       "      <td>90.783562</td>\n",
       "    </tr>\n",
       "    <tr>\n",
       "      <th>3</th>\n",
       "      <td>2015-08-20 03:57:00</td>\n",
       "      <td>32.510759</td>\n",
       "      <td>35.010519</td>\n",
       "      <td>95.747170</td>\n",
       "    </tr>\n",
       "    <tr>\n",
       "      <th>4</th>\n",
       "      <td>2015-08-20 04:00:00</td>\n",
       "      <td>32.508786</td>\n",
       "      <td>35.012569</td>\n",
       "      <td>94.824242</td>\n",
       "    </tr>\n",
       "  </tbody>\n",
       "</table>\n",
       "</div>"
      ],
      "text/plain": [
       "                 time        lat        lng      height\n",
       "0 2015-08-20 03:48:00  32.518362  35.014302  118.770212\n",
       "1 2015-08-20 03:51:00  32.515354  35.013291  102.634210\n",
       "2 2015-08-20 03:54:00  32.512950  35.011211   90.783562\n",
       "3 2015-08-20 03:57:00  32.510759  35.010519   95.747170\n",
       "4 2015-08-20 04:00:00  32.508786  35.012569   94.824242"
      ]
     },
     "execution_count": 56,
     "metadata": {},
     "output_type": "execute_result"
    }
   ],
   "source": [
    "df = df.resample('3min').mean().reset_index()\n",
    "df.head()"
   ]
  },
  {
   "cell_type": "markdown",
   "id": "2a96ec86",
   "metadata": {},
   "source": [
    "How is the height change over time?"
   ]
  },
  {
   "cell_type": "code",
   "execution_count": 57,
   "id": "0581bfa3",
   "metadata": {},
   "outputs": [
    {
     "data": {
      "application/vnd.plotly.v1+json": {
       "config": {
        "plotlyServerURL": "https://plot.ly"
       },
       "data": [
        {
         "alignmentgroup": "True",
         "hovertemplate": "time=%{x}<br>height=%{y}<extra></extra>",
         "legendgroup": "",
         "marker": {
          "color": "#636efa",
          "pattern": {
           "shape": ""
          }
         },
         "name": "",
         "offsetgroup": "",
         "orientation": "v",
         "showlegend": false,
         "textposition": "auto",
         "type": "bar",
         "x": [
          "2015-08-20T03:48:00",
          "2015-08-20T03:51:00",
          "2015-08-20T03:54:00",
          "2015-08-20T03:57:00",
          "2015-08-20T04:00:00",
          "2015-08-20T04:03:00",
          "2015-08-20T04:06:00",
          "2015-08-20T04:09:00",
          "2015-08-20T04:12:00",
          "2015-08-20T04:15:00",
          "2015-08-20T04:18:00"
         ],
         "xaxis": "x",
         "y": [
          118.77021237637135,
          102.63421048616108,
          90.78356170654297,
          95.74717007043226,
          94.82424221616803,
          82.24210478130139,
          85.65774665080326,
          100.62835807230935,
          92.85,
          106.27205893572639,
          113.50821905266749
         ],
         "yaxis": "y"
        }
       ],
       "layout": {
        "barmode": "relative",
        "legend": {
         "tracegroupgap": 0
        },
        "margin": {
         "t": 60
        },
        "template": {
         "data": {
          "bar": [
           {
            "error_x": {
             "color": "#2a3f5f"
            },
            "error_y": {
             "color": "#2a3f5f"
            },
            "marker": {
             "line": {
              "color": "#E5ECF6",
              "width": 0.5
             },
             "pattern": {
              "fillmode": "overlay",
              "size": 10,
              "solidity": 0.2
             }
            },
            "type": "bar"
           }
          ],
          "barpolar": [
           {
            "marker": {
             "line": {
              "color": "#E5ECF6",
              "width": 0.5
             },
             "pattern": {
              "fillmode": "overlay",
              "size": 10,
              "solidity": 0.2
             }
            },
            "type": "barpolar"
           }
          ],
          "carpet": [
           {
            "aaxis": {
             "endlinecolor": "#2a3f5f",
             "gridcolor": "white",
             "linecolor": "white",
             "minorgridcolor": "white",
             "startlinecolor": "#2a3f5f"
            },
            "baxis": {
             "endlinecolor": "#2a3f5f",
             "gridcolor": "white",
             "linecolor": "white",
             "minorgridcolor": "white",
             "startlinecolor": "#2a3f5f"
            },
            "type": "carpet"
           }
          ],
          "choropleth": [
           {
            "colorbar": {
             "outlinewidth": 0,
             "ticks": ""
            },
            "type": "choropleth"
           }
          ],
          "contour": [
           {
            "colorbar": {
             "outlinewidth": 0,
             "ticks": ""
            },
            "colorscale": [
             [
              0,
              "#0d0887"
             ],
             [
              0.1111111111111111,
              "#46039f"
             ],
             [
              0.2222222222222222,
              "#7201a8"
             ],
             [
              0.3333333333333333,
              "#9c179e"
             ],
             [
              0.4444444444444444,
              "#bd3786"
             ],
             [
              0.5555555555555556,
              "#d8576b"
             ],
             [
              0.6666666666666666,
              "#ed7953"
             ],
             [
              0.7777777777777778,
              "#fb9f3a"
             ],
             [
              0.8888888888888888,
              "#fdca26"
             ],
             [
              1,
              "#f0f921"
             ]
            ],
            "type": "contour"
           }
          ],
          "contourcarpet": [
           {
            "colorbar": {
             "outlinewidth": 0,
             "ticks": ""
            },
            "type": "contourcarpet"
           }
          ],
          "heatmap": [
           {
            "colorbar": {
             "outlinewidth": 0,
             "ticks": ""
            },
            "colorscale": [
             [
              0,
              "#0d0887"
             ],
             [
              0.1111111111111111,
              "#46039f"
             ],
             [
              0.2222222222222222,
              "#7201a8"
             ],
             [
              0.3333333333333333,
              "#9c179e"
             ],
             [
              0.4444444444444444,
              "#bd3786"
             ],
             [
              0.5555555555555556,
              "#d8576b"
             ],
             [
              0.6666666666666666,
              "#ed7953"
             ],
             [
              0.7777777777777778,
              "#fb9f3a"
             ],
             [
              0.8888888888888888,
              "#fdca26"
             ],
             [
              1,
              "#f0f921"
             ]
            ],
            "type": "heatmap"
           }
          ],
          "heatmapgl": [
           {
            "colorbar": {
             "outlinewidth": 0,
             "ticks": ""
            },
            "colorscale": [
             [
              0,
              "#0d0887"
             ],
             [
              0.1111111111111111,
              "#46039f"
             ],
             [
              0.2222222222222222,
              "#7201a8"
             ],
             [
              0.3333333333333333,
              "#9c179e"
             ],
             [
              0.4444444444444444,
              "#bd3786"
             ],
             [
              0.5555555555555556,
              "#d8576b"
             ],
             [
              0.6666666666666666,
              "#ed7953"
             ],
             [
              0.7777777777777778,
              "#fb9f3a"
             ],
             [
              0.8888888888888888,
              "#fdca26"
             ],
             [
              1,
              "#f0f921"
             ]
            ],
            "type": "heatmapgl"
           }
          ],
          "histogram": [
           {
            "marker": {
             "pattern": {
              "fillmode": "overlay",
              "size": 10,
              "solidity": 0.2
             }
            },
            "type": "histogram"
           }
          ],
          "histogram2d": [
           {
            "colorbar": {
             "outlinewidth": 0,
             "ticks": ""
            },
            "colorscale": [
             [
              0,
              "#0d0887"
             ],
             [
              0.1111111111111111,
              "#46039f"
             ],
             [
              0.2222222222222222,
              "#7201a8"
             ],
             [
              0.3333333333333333,
              "#9c179e"
             ],
             [
              0.4444444444444444,
              "#bd3786"
             ],
             [
              0.5555555555555556,
              "#d8576b"
             ],
             [
              0.6666666666666666,
              "#ed7953"
             ],
             [
              0.7777777777777778,
              "#fb9f3a"
             ],
             [
              0.8888888888888888,
              "#fdca26"
             ],
             [
              1,
              "#f0f921"
             ]
            ],
            "type": "histogram2d"
           }
          ],
          "histogram2dcontour": [
           {
            "colorbar": {
             "outlinewidth": 0,
             "ticks": ""
            },
            "colorscale": [
             [
              0,
              "#0d0887"
             ],
             [
              0.1111111111111111,
              "#46039f"
             ],
             [
              0.2222222222222222,
              "#7201a8"
             ],
             [
              0.3333333333333333,
              "#9c179e"
             ],
             [
              0.4444444444444444,
              "#bd3786"
             ],
             [
              0.5555555555555556,
              "#d8576b"
             ],
             [
              0.6666666666666666,
              "#ed7953"
             ],
             [
              0.7777777777777778,
              "#fb9f3a"
             ],
             [
              0.8888888888888888,
              "#fdca26"
             ],
             [
              1,
              "#f0f921"
             ]
            ],
            "type": "histogram2dcontour"
           }
          ],
          "mesh3d": [
           {
            "colorbar": {
             "outlinewidth": 0,
             "ticks": ""
            },
            "type": "mesh3d"
           }
          ],
          "parcoords": [
           {
            "line": {
             "colorbar": {
              "outlinewidth": 0,
              "ticks": ""
             }
            },
            "type": "parcoords"
           }
          ],
          "pie": [
           {
            "automargin": true,
            "type": "pie"
           }
          ],
          "scatter": [
           {
            "marker": {
             "colorbar": {
              "outlinewidth": 0,
              "ticks": ""
             }
            },
            "type": "scatter"
           }
          ],
          "scatter3d": [
           {
            "line": {
             "colorbar": {
              "outlinewidth": 0,
              "ticks": ""
             }
            },
            "marker": {
             "colorbar": {
              "outlinewidth": 0,
              "ticks": ""
             }
            },
            "type": "scatter3d"
           }
          ],
          "scattercarpet": [
           {
            "marker": {
             "colorbar": {
              "outlinewidth": 0,
              "ticks": ""
             }
            },
            "type": "scattercarpet"
           }
          ],
          "scattergeo": [
           {
            "marker": {
             "colorbar": {
              "outlinewidth": 0,
              "ticks": ""
             }
            },
            "type": "scattergeo"
           }
          ],
          "scattergl": [
           {
            "marker": {
             "colorbar": {
              "outlinewidth": 0,
              "ticks": ""
             }
            },
            "type": "scattergl"
           }
          ],
          "scattermapbox": [
           {
            "marker": {
             "colorbar": {
              "outlinewidth": 0,
              "ticks": ""
             }
            },
            "type": "scattermapbox"
           }
          ],
          "scatterpolar": [
           {
            "marker": {
             "colorbar": {
              "outlinewidth": 0,
              "ticks": ""
             }
            },
            "type": "scatterpolar"
           }
          ],
          "scatterpolargl": [
           {
            "marker": {
             "colorbar": {
              "outlinewidth": 0,
              "ticks": ""
             }
            },
            "type": "scatterpolargl"
           }
          ],
          "scatterternary": [
           {
            "marker": {
             "colorbar": {
              "outlinewidth": 0,
              "ticks": ""
             }
            },
            "type": "scatterternary"
           }
          ],
          "surface": [
           {
            "colorbar": {
             "outlinewidth": 0,
             "ticks": ""
            },
            "colorscale": [
             [
              0,
              "#0d0887"
             ],
             [
              0.1111111111111111,
              "#46039f"
             ],
             [
              0.2222222222222222,
              "#7201a8"
             ],
             [
              0.3333333333333333,
              "#9c179e"
             ],
             [
              0.4444444444444444,
              "#bd3786"
             ],
             [
              0.5555555555555556,
              "#d8576b"
             ],
             [
              0.6666666666666666,
              "#ed7953"
             ],
             [
              0.7777777777777778,
              "#fb9f3a"
             ],
             [
              0.8888888888888888,
              "#fdca26"
             ],
             [
              1,
              "#f0f921"
             ]
            ],
            "type": "surface"
           }
          ],
          "table": [
           {
            "cells": {
             "fill": {
              "color": "#EBF0F8"
             },
             "line": {
              "color": "white"
             }
            },
            "header": {
             "fill": {
              "color": "#C8D4E3"
             },
             "line": {
              "color": "white"
             }
            },
            "type": "table"
           }
          ]
         },
         "layout": {
          "annotationdefaults": {
           "arrowcolor": "#2a3f5f",
           "arrowhead": 0,
           "arrowwidth": 1
          },
          "autotypenumbers": "strict",
          "coloraxis": {
           "colorbar": {
            "outlinewidth": 0,
            "ticks": ""
           }
          },
          "colorscale": {
           "diverging": [
            [
             0,
             "#8e0152"
            ],
            [
             0.1,
             "#c51b7d"
            ],
            [
             0.2,
             "#de77ae"
            ],
            [
             0.3,
             "#f1b6da"
            ],
            [
             0.4,
             "#fde0ef"
            ],
            [
             0.5,
             "#f7f7f7"
            ],
            [
             0.6,
             "#e6f5d0"
            ],
            [
             0.7,
             "#b8e186"
            ],
            [
             0.8,
             "#7fbc41"
            ],
            [
             0.9,
             "#4d9221"
            ],
            [
             1,
             "#276419"
            ]
           ],
           "sequential": [
            [
             0,
             "#0d0887"
            ],
            [
             0.1111111111111111,
             "#46039f"
            ],
            [
             0.2222222222222222,
             "#7201a8"
            ],
            [
             0.3333333333333333,
             "#9c179e"
            ],
            [
             0.4444444444444444,
             "#bd3786"
            ],
            [
             0.5555555555555556,
             "#d8576b"
            ],
            [
             0.6666666666666666,
             "#ed7953"
            ],
            [
             0.7777777777777778,
             "#fb9f3a"
            ],
            [
             0.8888888888888888,
             "#fdca26"
            ],
            [
             1,
             "#f0f921"
            ]
           ],
           "sequentialminus": [
            [
             0,
             "#0d0887"
            ],
            [
             0.1111111111111111,
             "#46039f"
            ],
            [
             0.2222222222222222,
             "#7201a8"
            ],
            [
             0.3333333333333333,
             "#9c179e"
            ],
            [
             0.4444444444444444,
             "#bd3786"
            ],
            [
             0.5555555555555556,
             "#d8576b"
            ],
            [
             0.6666666666666666,
             "#ed7953"
            ],
            [
             0.7777777777777778,
             "#fb9f3a"
            ],
            [
             0.8888888888888888,
             "#fdca26"
            ],
            [
             1,
             "#f0f921"
            ]
           ]
          },
          "colorway": [
           "#636efa",
           "#EF553B",
           "#00cc96",
           "#ab63fa",
           "#FFA15A",
           "#19d3f3",
           "#FF6692",
           "#B6E880",
           "#FF97FF",
           "#FECB52"
          ],
          "font": {
           "color": "#2a3f5f"
          },
          "geo": {
           "bgcolor": "white",
           "lakecolor": "white",
           "landcolor": "#E5ECF6",
           "showlakes": true,
           "showland": true,
           "subunitcolor": "white"
          },
          "hoverlabel": {
           "align": "left"
          },
          "hovermode": "closest",
          "mapbox": {
           "style": "light"
          },
          "paper_bgcolor": "white",
          "plot_bgcolor": "#E5ECF6",
          "polar": {
           "angularaxis": {
            "gridcolor": "white",
            "linecolor": "white",
            "ticks": ""
           },
           "bgcolor": "#E5ECF6",
           "radialaxis": {
            "gridcolor": "white",
            "linecolor": "white",
            "ticks": ""
           }
          },
          "scene": {
           "xaxis": {
            "backgroundcolor": "#E5ECF6",
            "gridcolor": "white",
            "gridwidth": 2,
            "linecolor": "white",
            "showbackground": true,
            "ticks": "",
            "zerolinecolor": "white"
           },
           "yaxis": {
            "backgroundcolor": "#E5ECF6",
            "gridcolor": "white",
            "gridwidth": 2,
            "linecolor": "white",
            "showbackground": true,
            "ticks": "",
            "zerolinecolor": "white"
           },
           "zaxis": {
            "backgroundcolor": "#E5ECF6",
            "gridcolor": "white",
            "gridwidth": 2,
            "linecolor": "white",
            "showbackground": true,
            "ticks": "",
            "zerolinecolor": "white"
           }
          },
          "shapedefaults": {
           "line": {
            "color": "#2a3f5f"
           }
          },
          "ternary": {
           "aaxis": {
            "gridcolor": "white",
            "linecolor": "white",
            "ticks": ""
           },
           "baxis": {
            "gridcolor": "white",
            "linecolor": "white",
            "ticks": ""
           },
           "bgcolor": "#E5ECF6",
           "caxis": {
            "gridcolor": "white",
            "linecolor": "white",
            "ticks": ""
           }
          },
          "title": {
           "x": 0.05
          },
          "xaxis": {
           "automargin": true,
           "gridcolor": "white",
           "linecolor": "white",
           "ticks": "",
           "title": {
            "standoff": 15
           },
           "zerolinecolor": "white",
           "zerolinewidth": 2
          },
          "yaxis": {
           "automargin": true,
           "gridcolor": "white",
           "linecolor": "white",
           "ticks": "",
           "title": {
            "standoff": 15
           },
           "zerolinecolor": "white",
           "zerolinewidth": 2
          }
         }
        },
        "xaxis": {
         "anchor": "y",
         "domain": [
          0,
          1
         ],
         "title": {
          "text": "time"
         }
        },
        "yaxis": {
         "anchor": "x",
         "domain": [
          0,
          1
         ],
         "title": {
          "text": "height"
         }
        }
       }
      },
      "text/html": [
       "<div>                            <div id=\"6f19e048-580b-49dd-8f78-6fce6c5c2682\" class=\"plotly-graph-div\" style=\"height:525px; width:100%;\"></div>            <script type=\"text/javascript\">                require([\"plotly\"], function(Plotly) {                    window.PLOTLYENV=window.PLOTLYENV || {};                                    if (document.getElementById(\"6f19e048-580b-49dd-8f78-6fce6c5c2682\")) {                    Plotly.newPlot(                        \"6f19e048-580b-49dd-8f78-6fce6c5c2682\",                        [{\"alignmentgroup\":\"True\",\"hovertemplate\":\"time=%{x}<br>height=%{y}<extra></extra>\",\"legendgroup\":\"\",\"marker\":{\"color\":\"#636efa\",\"pattern\":{\"shape\":\"\"}},\"name\":\"\",\"offsetgroup\":\"\",\"orientation\":\"v\",\"showlegend\":false,\"textposition\":\"auto\",\"type\":\"bar\",\"x\":[\"2015-08-20T03:48:00\",\"2015-08-20T03:51:00\",\"2015-08-20T03:54:00\",\"2015-08-20T03:57:00\",\"2015-08-20T04:00:00\",\"2015-08-20T04:03:00\",\"2015-08-20T04:06:00\",\"2015-08-20T04:09:00\",\"2015-08-20T04:12:00\",\"2015-08-20T04:15:00\",\"2015-08-20T04:18:00\"],\"xaxis\":\"x\",\"y\":[118.77021237637135,102.63421048616108,90.78356170654297,95.74717007043226,94.82424221616803,82.24210478130139,85.65774665080326,100.62835807230935,92.85,106.27205893572639,113.50821905266749],\"yaxis\":\"y\"}],                        {\"barmode\":\"relative\",\"legend\":{\"tracegroupgap\":0},\"margin\":{\"t\":60},\"template\":{\"data\":{\"bar\":[{\"error_x\":{\"color\":\"#2a3f5f\"},\"error_y\":{\"color\":\"#2a3f5f\"},\"marker\":{\"line\":{\"color\":\"#E5ECF6\",\"width\":0.5},\"pattern\":{\"fillmode\":\"overlay\",\"size\":10,\"solidity\":0.2}},\"type\":\"bar\"}],\"barpolar\":[{\"marker\":{\"line\":{\"color\":\"#E5ECF6\",\"width\":0.5},\"pattern\":{\"fillmode\":\"overlay\",\"size\":10,\"solidity\":0.2}},\"type\":\"barpolar\"}],\"carpet\":[{\"aaxis\":{\"endlinecolor\":\"#2a3f5f\",\"gridcolor\":\"white\",\"linecolor\":\"white\",\"minorgridcolor\":\"white\",\"startlinecolor\":\"#2a3f5f\"},\"baxis\":{\"endlinecolor\":\"#2a3f5f\",\"gridcolor\":\"white\",\"linecolor\":\"white\",\"minorgridcolor\":\"white\",\"startlinecolor\":\"#2a3f5f\"},\"type\":\"carpet\"}],\"choropleth\":[{\"colorbar\":{\"outlinewidth\":0,\"ticks\":\"\"},\"type\":\"choropleth\"}],\"contour\":[{\"colorbar\":{\"outlinewidth\":0,\"ticks\":\"\"},\"colorscale\":[[0.0,\"#0d0887\"],[0.1111111111111111,\"#46039f\"],[0.2222222222222222,\"#7201a8\"],[0.3333333333333333,\"#9c179e\"],[0.4444444444444444,\"#bd3786\"],[0.5555555555555556,\"#d8576b\"],[0.6666666666666666,\"#ed7953\"],[0.7777777777777778,\"#fb9f3a\"],[0.8888888888888888,\"#fdca26\"],[1.0,\"#f0f921\"]],\"type\":\"contour\"}],\"contourcarpet\":[{\"colorbar\":{\"outlinewidth\":0,\"ticks\":\"\"},\"type\":\"contourcarpet\"}],\"heatmap\":[{\"colorbar\":{\"outlinewidth\":0,\"ticks\":\"\"},\"colorscale\":[[0.0,\"#0d0887\"],[0.1111111111111111,\"#46039f\"],[0.2222222222222222,\"#7201a8\"],[0.3333333333333333,\"#9c179e\"],[0.4444444444444444,\"#bd3786\"],[0.5555555555555556,\"#d8576b\"],[0.6666666666666666,\"#ed7953\"],[0.7777777777777778,\"#fb9f3a\"],[0.8888888888888888,\"#fdca26\"],[1.0,\"#f0f921\"]],\"type\":\"heatmap\"}],\"heatmapgl\":[{\"colorbar\":{\"outlinewidth\":0,\"ticks\":\"\"},\"colorscale\":[[0.0,\"#0d0887\"],[0.1111111111111111,\"#46039f\"],[0.2222222222222222,\"#7201a8\"],[0.3333333333333333,\"#9c179e\"],[0.4444444444444444,\"#bd3786\"],[0.5555555555555556,\"#d8576b\"],[0.6666666666666666,\"#ed7953\"],[0.7777777777777778,\"#fb9f3a\"],[0.8888888888888888,\"#fdca26\"],[1.0,\"#f0f921\"]],\"type\":\"heatmapgl\"}],\"histogram\":[{\"marker\":{\"pattern\":{\"fillmode\":\"overlay\",\"size\":10,\"solidity\":0.2}},\"type\":\"histogram\"}],\"histogram2d\":[{\"colorbar\":{\"outlinewidth\":0,\"ticks\":\"\"},\"colorscale\":[[0.0,\"#0d0887\"],[0.1111111111111111,\"#46039f\"],[0.2222222222222222,\"#7201a8\"],[0.3333333333333333,\"#9c179e\"],[0.4444444444444444,\"#bd3786\"],[0.5555555555555556,\"#d8576b\"],[0.6666666666666666,\"#ed7953\"],[0.7777777777777778,\"#fb9f3a\"],[0.8888888888888888,\"#fdca26\"],[1.0,\"#f0f921\"]],\"type\":\"histogram2d\"}],\"histogram2dcontour\":[{\"colorbar\":{\"outlinewidth\":0,\"ticks\":\"\"},\"colorscale\":[[0.0,\"#0d0887\"],[0.1111111111111111,\"#46039f\"],[0.2222222222222222,\"#7201a8\"],[0.3333333333333333,\"#9c179e\"],[0.4444444444444444,\"#bd3786\"],[0.5555555555555556,\"#d8576b\"],[0.6666666666666666,\"#ed7953\"],[0.7777777777777778,\"#fb9f3a\"],[0.8888888888888888,\"#fdca26\"],[1.0,\"#f0f921\"]],\"type\":\"histogram2dcontour\"}],\"mesh3d\":[{\"colorbar\":{\"outlinewidth\":0,\"ticks\":\"\"},\"type\":\"mesh3d\"}],\"parcoords\":[{\"line\":{\"colorbar\":{\"outlinewidth\":0,\"ticks\":\"\"}},\"type\":\"parcoords\"}],\"pie\":[{\"automargin\":true,\"type\":\"pie\"}],\"scatter\":[{\"marker\":{\"colorbar\":{\"outlinewidth\":0,\"ticks\":\"\"}},\"type\":\"scatter\"}],\"scatter3d\":[{\"line\":{\"colorbar\":{\"outlinewidth\":0,\"ticks\":\"\"}},\"marker\":{\"colorbar\":{\"outlinewidth\":0,\"ticks\":\"\"}},\"type\":\"scatter3d\"}],\"scattercarpet\":[{\"marker\":{\"colorbar\":{\"outlinewidth\":0,\"ticks\":\"\"}},\"type\":\"scattercarpet\"}],\"scattergeo\":[{\"marker\":{\"colorbar\":{\"outlinewidth\":0,\"ticks\":\"\"}},\"type\":\"scattergeo\"}],\"scattergl\":[{\"marker\":{\"colorbar\":{\"outlinewidth\":0,\"ticks\":\"\"}},\"type\":\"scattergl\"}],\"scattermapbox\":[{\"marker\":{\"colorbar\":{\"outlinewidth\":0,\"ticks\":\"\"}},\"type\":\"scattermapbox\"}],\"scatterpolar\":[{\"marker\":{\"colorbar\":{\"outlinewidth\":0,\"ticks\":\"\"}},\"type\":\"scatterpolar\"}],\"scatterpolargl\":[{\"marker\":{\"colorbar\":{\"outlinewidth\":0,\"ticks\":\"\"}},\"type\":\"scatterpolargl\"}],\"scatterternary\":[{\"marker\":{\"colorbar\":{\"outlinewidth\":0,\"ticks\":\"\"}},\"type\":\"scatterternary\"}],\"surface\":[{\"colorbar\":{\"outlinewidth\":0,\"ticks\":\"\"},\"colorscale\":[[0.0,\"#0d0887\"],[0.1111111111111111,\"#46039f\"],[0.2222222222222222,\"#7201a8\"],[0.3333333333333333,\"#9c179e\"],[0.4444444444444444,\"#bd3786\"],[0.5555555555555556,\"#d8576b\"],[0.6666666666666666,\"#ed7953\"],[0.7777777777777778,\"#fb9f3a\"],[0.8888888888888888,\"#fdca26\"],[1.0,\"#f0f921\"]],\"type\":\"surface\"}],\"table\":[{\"cells\":{\"fill\":{\"color\":\"#EBF0F8\"},\"line\":{\"color\":\"white\"}},\"header\":{\"fill\":{\"color\":\"#C8D4E3\"},\"line\":{\"color\":\"white\"}},\"type\":\"table\"}]},\"layout\":{\"annotationdefaults\":{\"arrowcolor\":\"#2a3f5f\",\"arrowhead\":0,\"arrowwidth\":1},\"autotypenumbers\":\"strict\",\"coloraxis\":{\"colorbar\":{\"outlinewidth\":0,\"ticks\":\"\"}},\"colorscale\":{\"diverging\":[[0,\"#8e0152\"],[0.1,\"#c51b7d\"],[0.2,\"#de77ae\"],[0.3,\"#f1b6da\"],[0.4,\"#fde0ef\"],[0.5,\"#f7f7f7\"],[0.6,\"#e6f5d0\"],[0.7,\"#b8e186\"],[0.8,\"#7fbc41\"],[0.9,\"#4d9221\"],[1,\"#276419\"]],\"sequential\":[[0.0,\"#0d0887\"],[0.1111111111111111,\"#46039f\"],[0.2222222222222222,\"#7201a8\"],[0.3333333333333333,\"#9c179e\"],[0.4444444444444444,\"#bd3786\"],[0.5555555555555556,\"#d8576b\"],[0.6666666666666666,\"#ed7953\"],[0.7777777777777778,\"#fb9f3a\"],[0.8888888888888888,\"#fdca26\"],[1.0,\"#f0f921\"]],\"sequentialminus\":[[0.0,\"#0d0887\"],[0.1111111111111111,\"#46039f\"],[0.2222222222222222,\"#7201a8\"],[0.3333333333333333,\"#9c179e\"],[0.4444444444444444,\"#bd3786\"],[0.5555555555555556,\"#d8576b\"],[0.6666666666666666,\"#ed7953\"],[0.7777777777777778,\"#fb9f3a\"],[0.8888888888888888,\"#fdca26\"],[1.0,\"#f0f921\"]]},\"colorway\":[\"#636efa\",\"#EF553B\",\"#00cc96\",\"#ab63fa\",\"#FFA15A\",\"#19d3f3\",\"#FF6692\",\"#B6E880\",\"#FF97FF\",\"#FECB52\"],\"font\":{\"color\":\"#2a3f5f\"},\"geo\":{\"bgcolor\":\"white\",\"lakecolor\":\"white\",\"landcolor\":\"#E5ECF6\",\"showlakes\":true,\"showland\":true,\"subunitcolor\":\"white\"},\"hoverlabel\":{\"align\":\"left\"},\"hovermode\":\"closest\",\"mapbox\":{\"style\":\"light\"},\"paper_bgcolor\":\"white\",\"plot_bgcolor\":\"#E5ECF6\",\"polar\":{\"angularaxis\":{\"gridcolor\":\"white\",\"linecolor\":\"white\",\"ticks\":\"\"},\"bgcolor\":\"#E5ECF6\",\"radialaxis\":{\"gridcolor\":\"white\",\"linecolor\":\"white\",\"ticks\":\"\"}},\"scene\":{\"xaxis\":{\"backgroundcolor\":\"#E5ECF6\",\"gridcolor\":\"white\",\"gridwidth\":2,\"linecolor\":\"white\",\"showbackground\":true,\"ticks\":\"\",\"zerolinecolor\":\"white\"},\"yaxis\":{\"backgroundcolor\":\"#E5ECF6\",\"gridcolor\":\"white\",\"gridwidth\":2,\"linecolor\":\"white\",\"showbackground\":true,\"ticks\":\"\",\"zerolinecolor\":\"white\"},\"zaxis\":{\"backgroundcolor\":\"#E5ECF6\",\"gridcolor\":\"white\",\"gridwidth\":2,\"linecolor\":\"white\",\"showbackground\":true,\"ticks\":\"\",\"zerolinecolor\":\"white\"}},\"shapedefaults\":{\"line\":{\"color\":\"#2a3f5f\"}},\"ternary\":{\"aaxis\":{\"gridcolor\":\"white\",\"linecolor\":\"white\",\"ticks\":\"\"},\"baxis\":{\"gridcolor\":\"white\",\"linecolor\":\"white\",\"ticks\":\"\"},\"bgcolor\":\"#E5ECF6\",\"caxis\":{\"gridcolor\":\"white\",\"linecolor\":\"white\",\"ticks\":\"\"}},\"title\":{\"x\":0.05},\"xaxis\":{\"automargin\":true,\"gridcolor\":\"white\",\"linecolor\":\"white\",\"ticks\":\"\",\"title\":{\"standoff\":15},\"zerolinecolor\":\"white\",\"zerolinewidth\":2},\"yaxis\":{\"automargin\":true,\"gridcolor\":\"white\",\"linecolor\":\"white\",\"ticks\":\"\",\"title\":{\"standoff\":15},\"zerolinecolor\":\"white\",\"zerolinewidth\":2}}},\"xaxis\":{\"anchor\":\"y\",\"domain\":[0.0,1.0],\"title\":{\"text\":\"time\"}},\"yaxis\":{\"anchor\":\"x\",\"domain\":[0.0,1.0],\"title\":{\"text\":\"height\"}}},                        {\"responsive\": true}                    ).then(function(){\n",
       "                            \n",
       "var gd = document.getElementById('6f19e048-580b-49dd-8f78-6fce6c5c2682');\n",
       "var x = new MutationObserver(function (mutations, observer) {{\n",
       "        var display = window.getComputedStyle(gd).display;\n",
       "        if (!display || display === 'none') {{\n",
       "            console.log([gd, 'removed!']);\n",
       "            Plotly.purge(gd);\n",
       "            observer.disconnect();\n",
       "        }}\n",
       "}});\n",
       "\n",
       "// Listen for the removal of the full notebook cells\n",
       "var notebookContainer = gd.closest('#notebook-container');\n",
       "if (notebookContainer) {{\n",
       "    x.observe(notebookContainer, {childList: true});\n",
       "}}\n",
       "\n",
       "// Listen for the clearing of the current output cell\n",
       "var outputEl = gd.closest('.output');\n",
       "if (outputEl) {{\n",
       "    x.observe(outputEl, {childList: true});\n",
       "}}\n",
       "\n",
       "                        })                };                });            </script>        </div>"
      ]
     },
     "metadata": {},
     "output_type": "display_data"
    }
   ],
   "source": [
    "import plotly.express as px\n",
    "\n",
    "fig = px.bar(df, x='time', y='height')\n",
    "fig"
   ]
  },
  {
   "cell_type": "markdown",
   "id": "e0e4b7f2",
   "metadata": {},
   "source": [
    "You can also save the figure as an html file and send it to your friends."
   ]
  },
  {
   "cell_type": "code",
   "execution_count": 58,
   "id": "6c4b2781",
   "metadata": {},
   "outputs": [],
   "source": [
    "fig.write_html('track_height.html')"
   ]
  },
  {
   "cell_type": "code",
   "execution_count": null,
   "id": "80aeffee",
   "metadata": {},
   "outputs": [],
   "source": []
  }
 ],
 "metadata": {
  "kernelspec": {
   "display_name": "Python 3",
   "language": "python",
   "name": "python3"
  },
  "language_info": {
   "codemirror_mode": {
    "name": "ipython",
    "version": 3
   },
   "file_extension": ".py",
   "mimetype": "text/x-python",
   "name": "python",
   "nbconvert_exporter": "python",
   "pygments_lexer": "ipython3",
   "version": "3.8.8"
  }
 },
 "nbformat": 4,
 "nbformat_minor": 5
}
