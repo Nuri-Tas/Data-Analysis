{
 "cells": [
  {
   "cell_type": "code",
   "execution_count": 212,
   "id": "4a64538c",
   "metadata": {},
   "outputs": [],
   "source": [
    "import numpy as np \n",
    "import pandas as pd\n",
    "import seaborn as sns \n",
    "import matplotlib.pyplot as plt \n",
    "\n",
    "plt.rcParams['figure.figsize'] = (12, 6) # set the figure size for plots\n",
    "\n",
    "%matplotlib inline"
   ]
  },
  {
   "cell_type": "markdown",
   "id": "3b5650a6",
   "metadata": {},
   "source": [
    "We will go over basic statistics in this notebook, and apply common exploratory data analysis methods into various datasets."
   ]
  },
  {
   "cell_type": "markdown",
   "id": "4d03f582",
   "metadata": {},
   "source": [
    "The most basic estimation of values of a dataset is the mean, where the sum of all values are divided by the number of elements."
   ]
  },
  {
   "cell_type": "markdown",
   "id": "286d65c9",
   "metadata": {},
   "source": [
    "Mean = $\\large\\hat{x} = \\frac{\\sum_{i=1}^n x_i}{n}$"
   ]
  },
  {
   "cell_type": "markdown",
   "id": "b89fe4a1",
   "metadata": {},
   "source": [
    "A slight variation of the mean is the trimmed mean, which is the mean of the values after dropping a certain number of smallest and largest on both sides of the values. "
   ]
  },
  {
   "cell_type": "markdown",
   "id": "a89fa53c",
   "metadata": {},
   "source": [
    "Trimmed mean = $\\large \\hat{x} = \\frac{\\sum_{i=p+1}^{n-p} x_i}{n-2p}$"
   ]
  },
  {
   "cell_type": "markdown",
   "id": "b1495d09",
   "metadata": {},
   "source": [
    "The trimmed mean diminished the effects of extreme values, and it becomes harder for the remaining elements to affect the score. <br>\n",
    "Another variation of the mean is the weighted mean. To calculate weighted mean, multiply each element by a user-specified 'weights' and divide their sum by the sum of the weights. <br>\n",
    "Weighted mean = $\\large \\hat{x}_w = \\frac{\\sum_{i=1}^{n} x_iw_i}{\\sum_{i=1}^nw_i}$"
   ]
  },
  {
   "cell_type": "markdown",
   "id": "12cd30e9",
   "metadata": {},
   "source": [
    "One of the benefits of the weighted mean is that it allows us to upweight or downweight some datas. For instance, if we want to forecast a stock price based on the historical data, the prices near to the end have more meaning and impact than the prices, say, 10 years before. Another benefit is that we can offset the underrepresented groups by giving them more weights."
   ]
  },
  {
   "cell_type": "markdown",
   "id": "d59970da",
   "metadata": {},
   "source": [
    "Another metric we will frequently use is the median. The median is the middle element of the values. If there is an even number of elements, then the median is the average of the two middle points. Similar to the mean, the weighted median assigns a weight to each element, and then the value such that the sum of weights for the upper and lower parts are equal is the weighted median."
   ]
  },
  {
   "cell_type": "markdown",
   "id": "71a2335f",
   "metadata": {},
   "source": [
    "The following dataframe shows the number of deaths and the death rates for different crimes per 100,000 population for each US state. Calculate the mean, the trimmed mean, and the median for the population in 2019 for each state. "
   ]
  },
  {
   "cell_type": "code",
   "execution_count": 159,
   "id": "d57edcaf",
   "metadata": {},
   "outputs": [
    {
     "data": {
      "text/html": [
       "<div>\n",
       "<style scoped>\n",
       "    .dataframe tbody tr th:only-of-type {\n",
       "        vertical-align: middle;\n",
       "    }\n",
       "\n",
       "    .dataframe tbody tr th {\n",
       "        vertical-align: top;\n",
       "    }\n",
       "\n",
       "    .dataframe thead th {\n",
       "        text-align: right;\n",
       "    }\n",
       "</style>\n",
       "<table border=\"1\" class=\"dataframe\">\n",
       "  <thead>\n",
       "    <tr style=\"text-align: right;\">\n",
       "      <th></th>\n",
       "      <th>State</th>\n",
       "      <th>Year</th>\n",
       "      <th>Data.Population</th>\n",
       "      <th>Data.Rates.Property.All</th>\n",
       "      <th>Data.Rates.Property.Burglary</th>\n",
       "      <th>Data.Rates.Property.Larceny</th>\n",
       "      <th>Data.Rates.Property.Motor</th>\n",
       "      <th>Data.Rates.Violent.All</th>\n",
       "      <th>Data.Rates.Violent.Assault</th>\n",
       "      <th>Data.Rates.Violent.Murder</th>\n",
       "      <th>...</th>\n",
       "      <th>Data.Rates.Violent.Robbery</th>\n",
       "      <th>Data.Totals.Property.All</th>\n",
       "      <th>Data.Totals.Property.Burglary</th>\n",
       "      <th>Data.Totals.Property.Larceny</th>\n",
       "      <th>Data.Totals.Property.Motor</th>\n",
       "      <th>Data.Totals.Violent.All</th>\n",
       "      <th>Data.Totals.Violent.Assault</th>\n",
       "      <th>Data.Totals.Violent.Murder</th>\n",
       "      <th>Data.Totals.Violent.Rape</th>\n",
       "      <th>Data.Totals.Violent.Robbery</th>\n",
       "    </tr>\n",
       "  </thead>\n",
       "  <tbody>\n",
       "    <tr>\n",
       "      <th>0</th>\n",
       "      <td>Alabama</td>\n",
       "      <td>1960</td>\n",
       "      <td>3266740</td>\n",
       "      <td>1035.4</td>\n",
       "      <td>355.9</td>\n",
       "      <td>592.1</td>\n",
       "      <td>87.3</td>\n",
       "      <td>186.6</td>\n",
       "      <td>138.1</td>\n",
       "      <td>12.4</td>\n",
       "      <td>...</td>\n",
       "      <td>27.5</td>\n",
       "      <td>33823</td>\n",
       "      <td>11626</td>\n",
       "      <td>19344</td>\n",
       "      <td>2853</td>\n",
       "      <td>6097</td>\n",
       "      <td>4512</td>\n",
       "      <td>406</td>\n",
       "      <td>281</td>\n",
       "      <td>898</td>\n",
       "    </tr>\n",
       "    <tr>\n",
       "      <th>1</th>\n",
       "      <td>Alabama</td>\n",
       "      <td>1961</td>\n",
       "      <td>3302000</td>\n",
       "      <td>985.5</td>\n",
       "      <td>339.3</td>\n",
       "      <td>569.4</td>\n",
       "      <td>76.8</td>\n",
       "      <td>168.5</td>\n",
       "      <td>128.9</td>\n",
       "      <td>12.9</td>\n",
       "      <td>...</td>\n",
       "      <td>19.1</td>\n",
       "      <td>32541</td>\n",
       "      <td>11205</td>\n",
       "      <td>18801</td>\n",
       "      <td>2535</td>\n",
       "      <td>5564</td>\n",
       "      <td>4255</td>\n",
       "      <td>427</td>\n",
       "      <td>252</td>\n",
       "      <td>630</td>\n",
       "    </tr>\n",
       "    <tr>\n",
       "      <th>2</th>\n",
       "      <td>Alabama</td>\n",
       "      <td>1962</td>\n",
       "      <td>3358000</td>\n",
       "      <td>1067.0</td>\n",
       "      <td>349.1</td>\n",
       "      <td>634.5</td>\n",
       "      <td>83.4</td>\n",
       "      <td>157.3</td>\n",
       "      <td>119.0</td>\n",
       "      <td>9.4</td>\n",
       "      <td>...</td>\n",
       "      <td>22.5</td>\n",
       "      <td>35829</td>\n",
       "      <td>11722</td>\n",
       "      <td>21306</td>\n",
       "      <td>2801</td>\n",
       "      <td>5283</td>\n",
       "      <td>3995</td>\n",
       "      <td>316</td>\n",
       "      <td>218</td>\n",
       "      <td>754</td>\n",
       "    </tr>\n",
       "    <tr>\n",
       "      <th>3</th>\n",
       "      <td>Alabama</td>\n",
       "      <td>1963</td>\n",
       "      <td>3347000</td>\n",
       "      <td>1150.9</td>\n",
       "      <td>376.9</td>\n",
       "      <td>683.4</td>\n",
       "      <td>90.6</td>\n",
       "      <td>182.7</td>\n",
       "      <td>142.1</td>\n",
       "      <td>10.2</td>\n",
       "      <td>...</td>\n",
       "      <td>24.7</td>\n",
       "      <td>38521</td>\n",
       "      <td>12614</td>\n",
       "      <td>22874</td>\n",
       "      <td>3033</td>\n",
       "      <td>6115</td>\n",
       "      <td>4755</td>\n",
       "      <td>340</td>\n",
       "      <td>192</td>\n",
       "      <td>828</td>\n",
       "    </tr>\n",
       "    <tr>\n",
       "      <th>4</th>\n",
       "      <td>Alabama</td>\n",
       "      <td>1964</td>\n",
       "      <td>3407000</td>\n",
       "      <td>1358.7</td>\n",
       "      <td>466.6</td>\n",
       "      <td>784.1</td>\n",
       "      <td>108.0</td>\n",
       "      <td>213.1</td>\n",
       "      <td>163.0</td>\n",
       "      <td>9.3</td>\n",
       "      <td>...</td>\n",
       "      <td>29.1</td>\n",
       "      <td>46290</td>\n",
       "      <td>15898</td>\n",
       "      <td>26713</td>\n",
       "      <td>3679</td>\n",
       "      <td>7260</td>\n",
       "      <td>5555</td>\n",
       "      <td>316</td>\n",
       "      <td>397</td>\n",
       "      <td>992</td>\n",
       "    </tr>\n",
       "    <tr>\n",
       "      <th>...</th>\n",
       "      <td>...</td>\n",
       "      <td>...</td>\n",
       "      <td>...</td>\n",
       "      <td>...</td>\n",
       "      <td>...</td>\n",
       "      <td>...</td>\n",
       "      <td>...</td>\n",
       "      <td>...</td>\n",
       "      <td>...</td>\n",
       "      <td>...</td>\n",
       "      <td>...</td>\n",
       "      <td>...</td>\n",
       "      <td>...</td>\n",
       "      <td>...</td>\n",
       "      <td>...</td>\n",
       "      <td>...</td>\n",
       "      <td>...</td>\n",
       "      <td>...</td>\n",
       "      <td>...</td>\n",
       "      <td>...</td>\n",
       "      <td>...</td>\n",
       "    </tr>\n",
       "    <tr>\n",
       "      <th>3110</th>\n",
       "      <td>Wyoming</td>\n",
       "      <td>2015</td>\n",
       "      <td>586107</td>\n",
       "      <td>179.8</td>\n",
       "      <td>1902.6</td>\n",
       "      <td>300.6</td>\n",
       "      <td>1500.9</td>\n",
       "      <td>222.1</td>\n",
       "      <td>10.1</td>\n",
       "      <td>2.7</td>\n",
       "      <td>...</td>\n",
       "      <td>21.3</td>\n",
       "      <td>1054</td>\n",
       "      <td>11151</td>\n",
       "      <td>1762</td>\n",
       "      <td>8797</td>\n",
       "      <td>1302</td>\n",
       "      <td>59</td>\n",
       "      <td>16</td>\n",
       "      <td>173</td>\n",
       "      <td>125</td>\n",
       "    </tr>\n",
       "    <tr>\n",
       "      <th>3111</th>\n",
       "      <td>Wyoming</td>\n",
       "      <td>2016</td>\n",
       "      <td>585501</td>\n",
       "      <td>1957.3</td>\n",
       "      <td>302.5</td>\n",
       "      <td>1518.2</td>\n",
       "      <td>136.6</td>\n",
       "      <td>244.2</td>\n",
       "      <td>195.7</td>\n",
       "      <td>3.4</td>\n",
       "      <td>...</td>\n",
       "      <td>10.1</td>\n",
       "      <td>11460</td>\n",
       "      <td>1771</td>\n",
       "      <td>8889</td>\n",
       "      <td>800</td>\n",
       "      <td>1430</td>\n",
       "      <td>1146</td>\n",
       "      <td>20</td>\n",
       "      <td>205</td>\n",
       "      <td>59</td>\n",
       "    </tr>\n",
       "    <tr>\n",
       "      <th>3112</th>\n",
       "      <td>Wyoming</td>\n",
       "      <td>2017</td>\n",
       "      <td>579315</td>\n",
       "      <td>1830.4</td>\n",
       "      <td>275.0</td>\n",
       "      <td>1421.0</td>\n",
       "      <td>134.5</td>\n",
       "      <td>237.5</td>\n",
       "      <td>176.4</td>\n",
       "      <td>2.6</td>\n",
       "      <td>...</td>\n",
       "      <td>13.1</td>\n",
       "      <td>10604</td>\n",
       "      <td>1593</td>\n",
       "      <td>8232</td>\n",
       "      <td>779</td>\n",
       "      <td>1376</td>\n",
       "      <td>1022</td>\n",
       "      <td>15</td>\n",
       "      <td>263</td>\n",
       "      <td>76</td>\n",
       "    </tr>\n",
       "    <tr>\n",
       "      <th>3113</th>\n",
       "      <td>Wyoming</td>\n",
       "      <td>2018</td>\n",
       "      <td>577737</td>\n",
       "      <td>1785.1</td>\n",
       "      <td>264.0</td>\n",
       "      <td>1375.9</td>\n",
       "      <td>145.2</td>\n",
       "      <td>212.2</td>\n",
       "      <td>150.6</td>\n",
       "      <td>2.3</td>\n",
       "      <td>...</td>\n",
       "      <td>17.3</td>\n",
       "      <td>10313</td>\n",
       "      <td>1525</td>\n",
       "      <td>7949</td>\n",
       "      <td>839</td>\n",
       "      <td>1226</td>\n",
       "      <td>870</td>\n",
       "      <td>13</td>\n",
       "      <td>243</td>\n",
       "      <td>100</td>\n",
       "    </tr>\n",
       "    <tr>\n",
       "      <th>3114</th>\n",
       "      <td>Wyoming</td>\n",
       "      <td>2019</td>\n",
       "      <td>578759</td>\n",
       "      <td>1571.1</td>\n",
       "      <td>241.2</td>\n",
       "      <td>1206.7</td>\n",
       "      <td>123.2</td>\n",
       "      <td>217.4</td>\n",
       "      <td>147.6</td>\n",
       "      <td>2.2</td>\n",
       "      <td>...</td>\n",
       "      <td>11.6</td>\n",
       "      <td>9093</td>\n",
       "      <td>1396</td>\n",
       "      <td>6984</td>\n",
       "      <td>713</td>\n",
       "      <td>1258</td>\n",
       "      <td>854</td>\n",
       "      <td>13</td>\n",
       "      <td>324</td>\n",
       "      <td>67</td>\n",
       "    </tr>\n",
       "  </tbody>\n",
       "</table>\n",
       "<p>3115 rows × 21 columns</p>\n",
       "</div>"
      ],
      "text/plain": [
       "        State  Year  Data.Population  Data.Rates.Property.All  \\\n",
       "0     Alabama  1960          3266740                   1035.4   \n",
       "1     Alabama  1961          3302000                    985.5   \n",
       "2     Alabama  1962          3358000                   1067.0   \n",
       "3     Alabama  1963          3347000                   1150.9   \n",
       "4     Alabama  1964          3407000                   1358.7   \n",
       "...       ...   ...              ...                      ...   \n",
       "3110  Wyoming  2015           586107                    179.8   \n",
       "3111  Wyoming  2016           585501                   1957.3   \n",
       "3112  Wyoming  2017           579315                   1830.4   \n",
       "3113  Wyoming  2018           577737                   1785.1   \n",
       "3114  Wyoming  2019           578759                   1571.1   \n",
       "\n",
       "      Data.Rates.Property.Burglary  Data.Rates.Property.Larceny  \\\n",
       "0                            355.9                        592.1   \n",
       "1                            339.3                        569.4   \n",
       "2                            349.1                        634.5   \n",
       "3                            376.9                        683.4   \n",
       "4                            466.6                        784.1   \n",
       "...                            ...                          ...   \n",
       "3110                        1902.6                        300.6   \n",
       "3111                         302.5                       1518.2   \n",
       "3112                         275.0                       1421.0   \n",
       "3113                         264.0                       1375.9   \n",
       "3114                         241.2                       1206.7   \n",
       "\n",
       "      Data.Rates.Property.Motor  Data.Rates.Violent.All  \\\n",
       "0                          87.3                   186.6   \n",
       "1                          76.8                   168.5   \n",
       "2                          83.4                   157.3   \n",
       "3                          90.6                   182.7   \n",
       "4                         108.0                   213.1   \n",
       "...                         ...                     ...   \n",
       "3110                     1500.9                   222.1   \n",
       "3111                      136.6                   244.2   \n",
       "3112                      134.5                   237.5   \n",
       "3113                      145.2                   212.2   \n",
       "3114                      123.2                   217.4   \n",
       "\n",
       "      Data.Rates.Violent.Assault  Data.Rates.Violent.Murder  ...  \\\n",
       "0                          138.1                       12.4  ...   \n",
       "1                          128.9                       12.9  ...   \n",
       "2                          119.0                        9.4  ...   \n",
       "3                          142.1                       10.2  ...   \n",
       "4                          163.0                        9.3  ...   \n",
       "...                          ...                        ...  ...   \n",
       "3110                        10.1                        2.7  ...   \n",
       "3111                       195.7                        3.4  ...   \n",
       "3112                       176.4                        2.6  ...   \n",
       "3113                       150.6                        2.3  ...   \n",
       "3114                       147.6                        2.2  ...   \n",
       "\n",
       "      Data.Rates.Violent.Robbery  Data.Totals.Property.All  \\\n",
       "0                           27.5                     33823   \n",
       "1                           19.1                     32541   \n",
       "2                           22.5                     35829   \n",
       "3                           24.7                     38521   \n",
       "4                           29.1                     46290   \n",
       "...                          ...                       ...   \n",
       "3110                        21.3                      1054   \n",
       "3111                        10.1                     11460   \n",
       "3112                        13.1                     10604   \n",
       "3113                        17.3                     10313   \n",
       "3114                        11.6                      9093   \n",
       "\n",
       "      Data.Totals.Property.Burglary  Data.Totals.Property.Larceny  \\\n",
       "0                             11626                         19344   \n",
       "1                             11205                         18801   \n",
       "2                             11722                         21306   \n",
       "3                             12614                         22874   \n",
       "4                             15898                         26713   \n",
       "...                             ...                           ...   \n",
       "3110                          11151                          1762   \n",
       "3111                           1771                          8889   \n",
       "3112                           1593                          8232   \n",
       "3113                           1525                          7949   \n",
       "3114                           1396                          6984   \n",
       "\n",
       "      Data.Totals.Property.Motor  Data.Totals.Violent.All  \\\n",
       "0                           2853                     6097   \n",
       "1                           2535                     5564   \n",
       "2                           2801                     5283   \n",
       "3                           3033                     6115   \n",
       "4                           3679                     7260   \n",
       "...                          ...                      ...   \n",
       "3110                        8797                     1302   \n",
       "3111                         800                     1430   \n",
       "3112                         779                     1376   \n",
       "3113                         839                     1226   \n",
       "3114                         713                     1258   \n",
       "\n",
       "      Data.Totals.Violent.Assault  Data.Totals.Violent.Murder  \\\n",
       "0                            4512                         406   \n",
       "1                            4255                         427   \n",
       "2                            3995                         316   \n",
       "3                            4755                         340   \n",
       "4                            5555                         316   \n",
       "...                           ...                         ...   \n",
       "3110                           59                          16   \n",
       "3111                         1146                          20   \n",
       "3112                         1022                          15   \n",
       "3113                          870                          13   \n",
       "3114                          854                          13   \n",
       "\n",
       "      Data.Totals.Violent.Rape  Data.Totals.Violent.Robbery  \n",
       "0                          281                          898  \n",
       "1                          252                          630  \n",
       "2                          218                          754  \n",
       "3                          192                          828  \n",
       "4                          397                          992  \n",
       "...                        ...                          ...  \n",
       "3110                       173                          125  \n",
       "3111                       205                           59  \n",
       "3112                       263                           76  \n",
       "3113                       243                          100  \n",
       "3114                       324                           67  \n",
       "\n",
       "[3115 rows x 21 columns]"
      ]
     },
     "execution_count": 159,
     "metadata": {},
     "output_type": "execute_result"
    }
   ],
   "source": [
    "df = pd.read_csv('state_crime.csv')\n",
    "df"
   ]
  },
  {
   "cell_type": "markdown",
   "id": "ec9df50b",
   "metadata": {},
   "source": [
    "Since we will deal with only with 2019 data, filter out the rest of the years."
   ]
  },
  {
   "cell_type": "code",
   "execution_count": 160,
   "id": "1e2f537b",
   "metadata": {},
   "outputs": [],
   "source": [
    "df = df[df.Year == 2019]"
   ]
  },
  {
   "cell_type": "markdown",
   "id": "3f156a47",
   "metadata": {},
   "source": [
    "Check for data types and null values."
   ]
  },
  {
   "cell_type": "code",
   "execution_count": 161,
   "id": "a4d6d632",
   "metadata": {},
   "outputs": [
    {
     "name": "stdout",
     "output_type": "stream",
     "text": [
      "<class 'pandas.core.frame.DataFrame'>\n",
      "Int64Index: 52 entries, 59 to 3114\n",
      "Data columns (total 21 columns):\n",
      " #   Column                         Non-Null Count  Dtype  \n",
      "---  ------                         --------------  -----  \n",
      " 0   State                          52 non-null     object \n",
      " 1   Year                           52 non-null     int64  \n",
      " 2   Data.Population                52 non-null     int64  \n",
      " 3   Data.Rates.Property.All        52 non-null     float64\n",
      " 4   Data.Rates.Property.Burglary   52 non-null     float64\n",
      " 5   Data.Rates.Property.Larceny    52 non-null     float64\n",
      " 6   Data.Rates.Property.Motor      52 non-null     float64\n",
      " 7   Data.Rates.Violent.All         52 non-null     float64\n",
      " 8   Data.Rates.Violent.Assault     52 non-null     float64\n",
      " 9   Data.Rates.Violent.Murder      52 non-null     float64\n",
      " 10  Data.Rates.Violent.Rape        52 non-null     float64\n",
      " 11  Data.Rates.Violent.Robbery     52 non-null     float64\n",
      " 12  Data.Totals.Property.All       52 non-null     int64  \n",
      " 13  Data.Totals.Property.Burglary  52 non-null     int64  \n",
      " 14  Data.Totals.Property.Larceny   52 non-null     int64  \n",
      " 15  Data.Totals.Property.Motor     52 non-null     int64  \n",
      " 16  Data.Totals.Violent.All        52 non-null     int64  \n",
      " 17  Data.Totals.Violent.Assault    52 non-null     int64  \n",
      " 18  Data.Totals.Violent.Murder     52 non-null     int64  \n",
      " 19  Data.Totals.Violent.Rape       52 non-null     int64  \n",
      " 20  Data.Totals.Violent.Robbery    52 non-null     int64  \n",
      "dtypes: float64(9), int64(11), object(1)\n",
      "memory usage: 8.9+ KB\n"
     ]
    }
   ],
   "source": [
    "df.info()"
   ]
  },
  {
   "cell_type": "markdown",
   "id": "0091d6e4",
   "metadata": {},
   "source": [
    "Check the basic statistics about the population and the murder rate columns."
   ]
  },
  {
   "cell_type": "code",
   "execution_count": 162,
   "id": "4691ed7b",
   "metadata": {},
   "outputs": [
    {
     "data": {
      "text/html": [
       "<div>\n",
       "<style scoped>\n",
       "    .dataframe tbody tr th:only-of-type {\n",
       "        vertical-align: middle;\n",
       "    }\n",
       "\n",
       "    .dataframe tbody tr th {\n",
       "        vertical-align: top;\n",
       "    }\n",
       "\n",
       "    .dataframe thead th {\n",
       "        text-align: right;\n",
       "    }\n",
       "</style>\n",
       "<table border=\"1\" class=\"dataframe\">\n",
       "  <thead>\n",
       "    <tr style=\"text-align: right;\">\n",
       "      <th></th>\n",
       "      <th>Data.Population</th>\n",
       "      <th>Data.Rates.Violent.Murder</th>\n",
       "    </tr>\n",
       "  </thead>\n",
       "  <tbody>\n",
       "    <tr>\n",
       "      <th>count</th>\n",
       "      <td>5.200000e+01</td>\n",
       "      <td>52.000000</td>\n",
       "    </tr>\n",
       "    <tr>\n",
       "      <th>mean</th>\n",
       "      <td>1.262460e+07</td>\n",
       "      <td>5.142308</td>\n",
       "    </tr>\n",
       "    <tr>\n",
       "      <th>std</th>\n",
       "      <td>4.521733e+07</td>\n",
       "      <td>3.661958</td>\n",
       "    </tr>\n",
       "    <tr>\n",
       "      <th>min</th>\n",
       "      <td>5.787590e+05</td>\n",
       "      <td>1.500000</td>\n",
       "    </tr>\n",
       "    <tr>\n",
       "      <th>25%</th>\n",
       "      <td>1.790876e+06</td>\n",
       "      <td>2.575000</td>\n",
       "    </tr>\n",
       "    <tr>\n",
       "      <th>50%</th>\n",
       "      <td>4.558234e+06</td>\n",
       "      <td>4.600000</td>\n",
       "    </tr>\n",
       "    <tr>\n",
       "      <th>75%</th>\n",
       "      <td>7.845050e+06</td>\n",
       "      <td>6.300000</td>\n",
       "    </tr>\n",
       "    <tr>\n",
       "      <th>max</th>\n",
       "      <td>3.282395e+08</td>\n",
       "      <td>23.500000</td>\n",
       "    </tr>\n",
       "  </tbody>\n",
       "</table>\n",
       "</div>"
      ],
      "text/plain": [
       "       Data.Population  Data.Rates.Violent.Murder\n",
       "count     5.200000e+01                  52.000000\n",
       "mean      1.262460e+07                   5.142308\n",
       "std       4.521733e+07                   3.661958\n",
       "min       5.787590e+05                   1.500000\n",
       "25%       1.790876e+06                   2.575000\n",
       "50%       4.558234e+06                   4.600000\n",
       "75%       7.845050e+06                   6.300000\n",
       "max       3.282395e+08                  23.500000"
      ]
     },
     "execution_count": 162,
     "metadata": {},
     "output_type": "execute_result"
    }
   ],
   "source": [
    "df[['Data.Population', 'Data.Rates.Violent.Murder']].describe()"
   ]
  },
  {
   "cell_type": "markdown",
   "id": "a02c3b79",
   "metadata": {},
   "source": [
    "The population column seems to have 328 million as the maximum value, which is probably the total population of the US. Drop this row as we need to focus each state seperately."
   ]
  },
  {
   "cell_type": "code",
   "execution_count": 163,
   "id": "853655e1",
   "metadata": {},
   "outputs": [
    {
     "data": {
      "text/html": [
       "<div>\n",
       "<style scoped>\n",
       "    .dataframe tbody tr th:only-of-type {\n",
       "        vertical-align: middle;\n",
       "    }\n",
       "\n",
       "    .dataframe tbody tr th {\n",
       "        vertical-align: top;\n",
       "    }\n",
       "\n",
       "    .dataframe thead th {\n",
       "        text-align: right;\n",
       "    }\n",
       "</style>\n",
       "<table border=\"1\" class=\"dataframe\">\n",
       "  <thead>\n",
       "    <tr style=\"text-align: right;\">\n",
       "      <th></th>\n",
       "      <th>State</th>\n",
       "      <th>Year</th>\n",
       "      <th>Data.Population</th>\n",
       "      <th>Data.Rates.Property.All</th>\n",
       "      <th>Data.Rates.Property.Burglary</th>\n",
       "      <th>Data.Rates.Property.Larceny</th>\n",
       "      <th>Data.Rates.Property.Motor</th>\n",
       "      <th>Data.Rates.Violent.All</th>\n",
       "      <th>Data.Rates.Violent.Assault</th>\n",
       "      <th>Data.Rates.Violent.Murder</th>\n",
       "      <th>...</th>\n",
       "      <th>Data.Rates.Violent.Robbery</th>\n",
       "      <th>Data.Totals.Property.All</th>\n",
       "      <th>Data.Totals.Property.Burglary</th>\n",
       "      <th>Data.Totals.Property.Larceny</th>\n",
       "      <th>Data.Totals.Property.Motor</th>\n",
       "      <th>Data.Totals.Violent.All</th>\n",
       "      <th>Data.Totals.Violent.Assault</th>\n",
       "      <th>Data.Totals.Violent.Murder</th>\n",
       "      <th>Data.Totals.Violent.Rape</th>\n",
       "      <th>Data.Totals.Violent.Robbery</th>\n",
       "    </tr>\n",
       "  </thead>\n",
       "  <tbody>\n",
       "    <tr>\n",
       "      <th>2694</th>\n",
       "      <td>United States</td>\n",
       "      <td>2019</td>\n",
       "      <td>328239523</td>\n",
       "      <td>2109.9</td>\n",
       "      <td>340.5</td>\n",
       "      <td>1549.5</td>\n",
       "      <td>219.9</td>\n",
       "      <td>379.4</td>\n",
       "      <td>250.2</td>\n",
       "      <td>5.0</td>\n",
       "      <td>...</td>\n",
       "      <td>81.6</td>\n",
       "      <td>6925677</td>\n",
       "      <td>1117696</td>\n",
       "      <td>5086096</td>\n",
       "      <td>721885</td>\n",
       "      <td>1245410</td>\n",
       "      <td>821182</td>\n",
       "      <td>16425</td>\n",
       "      <td>139815</td>\n",
       "      <td>267988</td>\n",
       "    </tr>\n",
       "  </tbody>\n",
       "</table>\n",
       "<p>1 rows × 21 columns</p>\n",
       "</div>"
      ],
      "text/plain": [
       "              State  Year  Data.Population  Data.Rates.Property.All  \\\n",
       "2694  United States  2019        328239523                   2109.9   \n",
       "\n",
       "      Data.Rates.Property.Burglary  Data.Rates.Property.Larceny  \\\n",
       "2694                         340.5                       1549.5   \n",
       "\n",
       "      Data.Rates.Property.Motor  Data.Rates.Violent.All  \\\n",
       "2694                      219.9                   379.4   \n",
       "\n",
       "      Data.Rates.Violent.Assault  Data.Rates.Violent.Murder  ...  \\\n",
       "2694                       250.2                        5.0  ...   \n",
       "\n",
       "      Data.Rates.Violent.Robbery  Data.Totals.Property.All  \\\n",
       "2694                        81.6                   6925677   \n",
       "\n",
       "      Data.Totals.Property.Burglary  Data.Totals.Property.Larceny  \\\n",
       "2694                        1117696                       5086096   \n",
       "\n",
       "      Data.Totals.Property.Motor  Data.Totals.Violent.All  \\\n",
       "2694                      721885                  1245410   \n",
       "\n",
       "      Data.Totals.Violent.Assault  Data.Totals.Violent.Murder  \\\n",
       "2694                       821182                       16425   \n",
       "\n",
       "      Data.Totals.Violent.Rape  Data.Totals.Violent.Robbery  \n",
       "2694                    139815                       267988  \n",
       "\n",
       "[1 rows x 21 columns]"
      ]
     },
     "execution_count": 163,
     "metadata": {},
     "output_type": "execute_result"
    }
   ],
   "source": [
    "df[df['Data.Population'] == max(df['Data.Population'])]"
   ]
  },
  {
   "cell_type": "code",
   "execution_count": 164,
   "id": "e9cd25f9",
   "metadata": {},
   "outputs": [],
   "source": [
    "df = df.drop(2694)"
   ]
  },
  {
   "cell_type": "code",
   "execution_count": 166,
   "id": "6f83df44",
   "metadata": {},
   "outputs": [
    {
     "data": {
      "text/plain": [
       "6436069.0784313725"
      ]
     },
     "execution_count": 166,
     "metadata": {},
     "output_type": "execute_result"
    }
   ],
   "source": [
    "pop_mean = df['Data.Population'].mean()\n",
    "pop_mean"
   ]
  },
  {
   "cell_type": "markdown",
   "id": "f2dfb6b6",
   "metadata": {},
   "source": [
    "To calculate trimmed mean, import trim_mean from scipy.stats."
   ]
  },
  {
   "cell_type": "code",
   "execution_count": 167,
   "id": "26b5a5c1",
   "metadata": {},
   "outputs": [
    {
     "data": {
      "text/plain": [
       "4941366.536585365"
      ]
     },
     "execution_count": 167,
     "metadata": {},
     "output_type": "execute_result"
    }
   ],
   "source": [
    "from scipy.stats import trim_mean\n",
    "\n",
    "trim_mean(df['Data.Population'], 0.1) # cut 10% for each end"
   ]
  },
  {
   "cell_type": "code",
   "execution_count": 168,
   "id": "313187fd",
   "metadata": {},
   "outputs": [
    {
     "data": {
      "text/plain": [
       "4467673.0"
      ]
     },
     "execution_count": 168,
     "metadata": {},
     "output_type": "execute_result"
    }
   ],
   "source": [
    "median = df['Data.Population'].median()\n",
    "median"
   ]
  },
  {
   "cell_type": "markdown",
   "id": "15ba41ba",
   "metadata": {},
   "source": [
    "The meadian is smaller than the trimmed mean which is smaller than the mean as expected. <br> \n",
    "If we need to find the average murder rate for the US in 2019, we need to take into account the different population of each states. This can be achieved by giving a weight for each state based on its population. <br>\n",
    "Now, calculate weighted mean and weighted median. Weighted mean can be found with numpy while we need wquantiles package for weighted median."
   ]
  },
  {
   "cell_type": "code",
   "execution_count": 169,
   "id": "0c38b51c",
   "metadata": {},
   "outputs": [
    {
     "data": {
      "text/plain": [
       "5.011413349208407"
      ]
     },
     "execution_count": 169,
     "metadata": {},
     "output_type": "execute_result"
    }
   ],
   "source": [
    "# the weighted mean of murder rate for the US in 2019\n",
    "np.average(df['Data.Rates.Violent.Murder'], weights=df['Data.Population'])"
   ]
  },
  {
   "cell_type": "code",
   "execution_count": 170,
   "id": "7b44e429",
   "metadata": {},
   "outputs": [
    {
     "data": {
      "text/plain": [
       "4.9"
      ]
     },
     "execution_count": 170,
     "metadata": {},
     "output_type": "execute_result"
    }
   ],
   "source": [
    "# the weighted median of murder rates\n",
    "import wquantiles\n",
    "\n",
    "wquantiles.median(df['Data.Rates.Violent.Murder'], weights=df['Data.Population'])"
   ]
  },
  {
   "cell_type": "markdown",
   "id": "8c68119e",
   "metadata": {},
   "source": [
    "### Variability"
   ]
  },
  {
   "cell_type": "markdown",
   "id": "300bbc53",
   "metadata": {},
   "source": [
    "The difference between each element and the mean of the all data is called deviation. One of the most common way to evaluate variability is to calculate the average of the absolute deviations from the mean. Note that simply taking the average values the deviations would always return zero."
   ]
  },
  {
   "cell_type": "markdown",
   "id": "29fe14dd",
   "metadata": {},
   "source": [
    "Mean absolute deviation = $\\large \\frac{\\sum_{i=1}^n |x_i - \\hat{x}|}{n}$ <br> \n",
    "where $\\hat{x}$ is the mean of the sample."
   ]
  },
  {
   "cell_type": "markdown",
   "id": "319099c7",
   "metadata": {},
   "source": [
    "The most famous metrics of variability are the variance and the standard deviation. <br> <br>\n",
    "Variance = $\\large \\frac{\\sum_{i=1}^n (x_i - \\hat{x})^2}{n-1}$ <br> <br>\n",
    "Standard deviation = $\\large \\sqrt{Variance}$"
   ]
  },
  {
   "cell_type": "markdown",
   "id": "6ac69239",
   "metadata": {},
   "source": [
    "Since the standard deviation has the same scale as the original data, it is more easy to interpret than variance. Neither the standard deviation, nor the variance is robust agains outliers. In fact, the standard deviation is additionally sensitive to the outliers as we take the squares of the deviations. <br>\n",
    "The last thing to note is although some sources defines the variance by the diving $n$ instead of $n-1$, since we will generally deal with large datasets, this will not make a huge difference."
   ]
  },
  {
   "cell_type": "markdown",
   "id": "dbc85ad5",
   "metadata": {},
   "source": [
    "Another method to interpret variability is percentiles. Pth percentile is the pth percent of the sorted data. So, the median is the same as 50% percent. The common evaluation of percentiles is the difference between the 75th percentile and the 25th percentile, which is called the interquartile range (IQR). <br><br>\n",
    "Now, find the standard deviation and the IQR for the US population in 2019."
   ]
  },
  {
   "cell_type": "code",
   "execution_count": 171,
   "id": "afb27699",
   "metadata": {},
   "outputs": [
    {
     "data": {
      "text/plain": [
       "7360660.467814472"
      ]
     },
     "execution_count": 171,
     "metadata": {},
     "output_type": "execute_result"
    }
   ],
   "source": [
    "std = df['Data.Population'].std()\n",
    "std"
   ]
  },
  {
   "cell_type": "code",
   "execution_count": 172,
   "id": "0705a4b7",
   "metadata": {},
   "outputs": [
    {
     "data": {
      "text/plain": [
       "5657199.0"
      ]
     },
     "execution_count": 172,
     "metadata": {},
     "output_type": "execute_result"
    }
   ],
   "source": [
    "IQR = df['Data.Population'].quantile(0.75) - df['Data.Population'].quantile(0.25)\n",
    "IQR"
   ]
  },
  {
   "cell_type": "markdown",
   "id": "aa73f84b",
   "metadata": {},
   "source": [
    "Plot the quarter percentiles of the murder rates."
   ]
  },
  {
   "cell_type": "code",
   "execution_count": 173,
   "id": "74cff90f",
   "metadata": {},
   "outputs": [
    {
     "data": {
      "text/plain": [
       "<AxesSubplot:>"
      ]
     },
     "execution_count": 173,
     "metadata": {},
     "output_type": "execute_result"
    },
    {
     "data": {
      "image/png": "[encoded data removed]",
      "text/plain": [
       "<Figure size 432x288 with 1 Axes>"
      ]
     },
     "metadata": {
      "needs_background": "light"
     },
     "output_type": "display_data"
    }
   ],
   "source": [
    "df['Data.Rates.Violent.Murder'].quantile([0.05, 0.25, 0.50, 0.75, 1]).plot(marker='o')"
   ]
  },
  {
   "cell_type": "markdown",
   "id": "2a9556a3",
   "metadata": {},
   "source": [
    "The median (the 50the percentile) is around 5 murders per 100,000 people, and about the 90% of the murder rates are less than 10."
   ]
  },
  {
   "cell_type": "code",
   "execution_count": 175,
   "id": "e8bd8193",
   "metadata": {},
   "outputs": [
    {
     "data": {
      "text/plain": [
       "<AxesSubplot:>"
      ]
     },
     "execution_count": 175,
     "metadata": {},
     "output_type": "execute_result"
    },
    {
     "data": {
      "image/png": "[encoded data removed]",
      "text/plain": [
       "<Figure size 864x432 with 1 Axes>"
      ]
     },
     "metadata": {
      "needs_background": "light"
     },
     "output_type": "display_data"
    }
   ],
   "source": [
    "(df['Data.Population'] / 10**6).plot.box(figsize=(12, 6))"
   ]
  },
  {
   "cell_type": "markdown",
   "id": "65f0f427",
   "metadata": {},
   "source": [
    "We can see that the median state population is around 5 million, with IQR between 2 and 7 million. The straight vertical lines stretching from the box are called whiskers.In matplotlib, whiskers can be 1.5 times of IQR at most. Circle points are generally considered outliers. <br> <br>\n",
    "Now, find out how many states falls into each 10 population segments of equal lengths. "
   ]
  },
  {
   "cell_type": "code",
   "execution_count": 190,
   "id": "8323e5a2",
   "metadata": {},
   "outputs": [
    {
     "data": {
      "text/plain": [
       "(539825.536, 4472105.4]     26\n",
       "(4472105.4, 8365451.8]      13\n",
       "(8365451.8, 12258798.2]      6\n",
       "(12258798.2, 16152144.6]     2\n",
       "(16152144.6, 20045491.0]     1\n",
       "(20045491.0, 23938837.4]     1\n",
       "(27832183.8, 31725530.2]     1\n",
       "(35618876.6, 39512223.0]     1\n",
       "(23938837.4, 27832183.8]     0\n",
       "(31725530.2, 35618876.6]     0\n",
       "Name: Data.Population, dtype: int64"
      ]
     },
     "execution_count": 190,
     "metadata": {},
     "output_type": "execute_result"
    }
   ],
   "source": [
    "pd.cut(df['Data.Population'], 10).value_counts()"
   ]
  },
  {
   "cell_type": "markdown",
   "id": "e50a6def",
   "metadata": {},
   "source": [
    "We see that the population of the vast majority of the states are between 540,000 to 8,400,000. Plot this population distribution as a histogram."
   ]
  },
  {
   "cell_type": "code",
   "execution_count": 189,
   "id": "6d53e422",
   "metadata": {},
   "outputs": [
    {
     "data": {
      "text/plain": [
       "Text(0.5, 0, 'Population in Millions')"
      ]
     },
     "execution_count": 189,
     "metadata": {},
     "output_type": "execute_result"
    },
    {
     "data": {
      "image/png": "[encoded data removed]",
      "text/plain": [
       "<Figure size 864x432 with 1 Axes>"
      ]
     },
     "metadata": {
      "needs_background": "light"
     },
     "output_type": "display_data"
    }
   ],
   "source": [
    "ax = (df['Data.Population'] / 10**6).plot.hist(figsize=(12, 6))\n",
    "ax.set_xlabel('Population in Millions')"
   ]
  },
  {
   "cell_type": "markdown",
   "id": "9ec07ddc",
   "metadata": {},
   "source": [
    "Density plot is computed using the kernel density estimation over the histogram. Plot the KDE density plot for the murder rates."
   ]
  },
  {
   "cell_type": "code",
   "execution_count": 196,
   "id": "b9165762",
   "metadata": {},
   "outputs": [
    {
     "data": {
      "text/plain": [
       "Text(0.5, 0, 'Murder Rate per 100,000')"
      ]
     },
     "execution_count": 196,
     "metadata": {},
     "output_type": "execute_result"
    },
    {
     "data": {
      "image/png": "[encoded data removed]",
      "text/plain": [
       "<Figure size 864x432 with 1 Axes>"
      ]
     },
     "metadata": {
      "needs_background": "light"
     },
     "output_type": "display_data"
    }
   ],
   "source": [
    "ax = (df['Data.Rates.Violent.Murder']).plot.hist(density=True, figsize=(12, 6))\n",
    "df['Data.Rates.Violent.Murder'].plot.density(ax=ax)\n",
    "ax.set_xlabel('Murder Rate per 100,000')"
   ]
  },
  {
   "cell_type": "markdown",
   "id": "1c3e6099",
   "metadata": {},
   "source": [
    "Note that the scale of the y axis has also changed. The total area under the density line is equal to 1, and that area can be computed with the scaled y values."
   ]
  },
  {
   "cell_type": "markdown",
   "id": "84f82155",
   "metadata": {},
   "source": [
    "## Binary and Categorical Data"
   ]
  },
  {
   "cell_type": "markdown",
   "id": "17a0a5f9",
   "metadata": {},
   "source": [
    "Import the Maternal Health Risk Data Set from https://archive.ics.uci.edu/ml/datasets/Maternal+Health+Risk+Data+Set."
   ]
  },
  {
   "cell_type": "code",
   "execution_count": 203,
   "id": "c077d3c1",
   "metadata": {},
   "outputs": [
    {
     "data": {
      "text/html": [
       "<div>\n",
       "<style scoped>\n",
       "    .dataframe tbody tr th:only-of-type {\n",
       "        vertical-align: middle;\n",
       "    }\n",
       "\n",
       "    .dataframe tbody tr th {\n",
       "        vertical-align: top;\n",
       "    }\n",
       "\n",
       "    .dataframe thead th {\n",
       "        text-align: right;\n",
       "    }\n",
       "</style>\n",
       "<table border=\"1\" class=\"dataframe\">\n",
       "  <thead>\n",
       "    <tr style=\"text-align: right;\">\n",
       "      <th></th>\n",
       "      <th>Age</th>\n",
       "      <th>SystolicBP</th>\n",
       "      <th>DiastolicBP</th>\n",
       "      <th>BS</th>\n",
       "      <th>BodyTemp</th>\n",
       "      <th>HeartRate</th>\n",
       "      <th>RiskLevel</th>\n",
       "    </tr>\n",
       "  </thead>\n",
       "  <tbody>\n",
       "    <tr>\n",
       "      <th>0</th>\n",
       "      <td>25</td>\n",
       "      <td>130</td>\n",
       "      <td>80</td>\n",
       "      <td>15.0</td>\n",
       "      <td>98.0</td>\n",
       "      <td>86</td>\n",
       "      <td>high risk</td>\n",
       "    </tr>\n",
       "    <tr>\n",
       "      <th>1</th>\n",
       "      <td>35</td>\n",
       "      <td>140</td>\n",
       "      <td>90</td>\n",
       "      <td>13.0</td>\n",
       "      <td>98.0</td>\n",
       "      <td>70</td>\n",
       "      <td>high risk</td>\n",
       "    </tr>\n",
       "    <tr>\n",
       "      <th>2</th>\n",
       "      <td>29</td>\n",
       "      <td>90</td>\n",
       "      <td>70</td>\n",
       "      <td>8.0</td>\n",
       "      <td>100.0</td>\n",
       "      <td>80</td>\n",
       "      <td>high risk</td>\n",
       "    </tr>\n",
       "    <tr>\n",
       "      <th>3</th>\n",
       "      <td>30</td>\n",
       "      <td>140</td>\n",
       "      <td>85</td>\n",
       "      <td>7.0</td>\n",
       "      <td>98.0</td>\n",
       "      <td>70</td>\n",
       "      <td>high risk</td>\n",
       "    </tr>\n",
       "    <tr>\n",
       "      <th>4</th>\n",
       "      <td>35</td>\n",
       "      <td>120</td>\n",
       "      <td>60</td>\n",
       "      <td>6.1</td>\n",
       "      <td>98.0</td>\n",
       "      <td>76</td>\n",
       "      <td>low risk</td>\n",
       "    </tr>\n",
       "    <tr>\n",
       "      <th>...</th>\n",
       "      <td>...</td>\n",
       "      <td>...</td>\n",
       "      <td>...</td>\n",
       "      <td>...</td>\n",
       "      <td>...</td>\n",
       "      <td>...</td>\n",
       "      <td>...</td>\n",
       "    </tr>\n",
       "    <tr>\n",
       "      <th>1009</th>\n",
       "      <td>22</td>\n",
       "      <td>120</td>\n",
       "      <td>60</td>\n",
       "      <td>15.0</td>\n",
       "      <td>98.0</td>\n",
       "      <td>80</td>\n",
       "      <td>high risk</td>\n",
       "    </tr>\n",
       "    <tr>\n",
       "      <th>1010</th>\n",
       "      <td>55</td>\n",
       "      <td>120</td>\n",
       "      <td>90</td>\n",
       "      <td>18.0</td>\n",
       "      <td>98.0</td>\n",
       "      <td>60</td>\n",
       "      <td>high risk</td>\n",
       "    </tr>\n",
       "    <tr>\n",
       "      <th>1011</th>\n",
       "      <td>35</td>\n",
       "      <td>85</td>\n",
       "      <td>60</td>\n",
       "      <td>19.0</td>\n",
       "      <td>98.0</td>\n",
       "      <td>86</td>\n",
       "      <td>high risk</td>\n",
       "    </tr>\n",
       "    <tr>\n",
       "      <th>1012</th>\n",
       "      <td>43</td>\n",
       "      <td>120</td>\n",
       "      <td>90</td>\n",
       "      <td>18.0</td>\n",
       "      <td>98.0</td>\n",
       "      <td>70</td>\n",
       "      <td>high risk</td>\n",
       "    </tr>\n",
       "    <tr>\n",
       "      <th>1013</th>\n",
       "      <td>32</td>\n",
       "      <td>120</td>\n",
       "      <td>65</td>\n",
       "      <td>6.0</td>\n",
       "      <td>101.0</td>\n",
       "      <td>76</td>\n",
       "      <td>mid risk</td>\n",
       "    </tr>\n",
       "  </tbody>\n",
       "</table>\n",
       "<p>1014 rows × 7 columns</p>\n",
       "</div>"
      ],
      "text/plain": [
       "      Age  SystolicBP  DiastolicBP    BS  BodyTemp  HeartRate  RiskLevel\n",
       "0      25         130           80  15.0      98.0         86  high risk\n",
       "1      35         140           90  13.0      98.0         70  high risk\n",
       "2      29          90           70   8.0     100.0         80  high risk\n",
       "3      30         140           85   7.0      98.0         70  high risk\n",
       "4      35         120           60   6.1      98.0         76   low risk\n",
       "...   ...         ...          ...   ...       ...        ...        ...\n",
       "1009   22         120           60  15.0      98.0         80  high risk\n",
       "1010   55         120           90  18.0      98.0         60  high risk\n",
       "1011   35          85           60  19.0      98.0         86  high risk\n",
       "1012   43         120           90  18.0      98.0         70  high risk\n",
       "1013   32         120           65   6.0     101.0         76   mid risk\n",
       "\n",
       "[1014 rows x 7 columns]"
      ]
     },
     "execution_count": 203,
     "metadata": {},
     "output_type": "execute_result"
    }
   ],
   "source": [
    "df = pd.read_csv('Maternal.csv')\n",
    "df"
   ]
  },
  {
   "cell_type": "markdown",
   "id": "e85ac515",
   "metadata": {},
   "source": [
    "Get the bar chart of the risk levels."
   ]
  },
  {
   "cell_type": "code",
   "execution_count": 213,
   "id": "c53f9624",
   "metadata": {},
   "outputs": [
    {
     "data": {
      "image/png": "[encoded data removed]",
      "text/plain": [
       "<Figure size 432x288 with 1 Axes>"
      ]
     },
     "metadata": {
      "needs_background": "light"
     },
     "output_type": "display_data"
    }
   ],
   "source": [
    "ax = df.RiskLevel.value_counts().plot.bar()\n",
    "ax.set_xlabel('Risk Levels');"
   ]
  },
  {
   "cell_type": "markdown",
   "id": "34cf11e4",
   "metadata": {},
   "source": [
    "The most common correlation metric is the Pearson's correlation coefficient, which can be computed by multiplying the deviations of two parameters and dividing it by the product of their standard deviations and the number of elements in a sample."
   ]
  },
  {
   "cell_type": "markdown",
   "id": "525ac4fe",
   "metadata": {},
   "source": [
    "Pearson's correlation coefficient = $\\large \\frac{\\sum_{i=1}^n |x_i - \\hat{x}||y_i - \\hat{y}|}{(n-1)s_xs_y}$"
   ]
  },
  {
   "cell_type": "markdown",
   "id": "db791954",
   "metadata": {},
   "source": [
    "The coefficient always lies between -1 and 1. The coefficient 1 being perfect positive correlation and -1 is the perfect negative correlation. 0 just indicates there is no correlation between the two variables. <br><br>\n",
    "Plot the heatmap of the variables in the dataset."
   ]
  },
  {
   "cell_type": "code",
   "execution_count": 217,
   "id": "90e2cb59",
   "metadata": {},
   "outputs": [
    {
     "data": {
      "text/plain": [
       "<AxesSubplot:>"
      ]
     },
     "execution_count": 217,
     "metadata": {},
     "output_type": "execute_result"
    },
    {
     "data": {
      "image/png": "[encoded data removed]",
      "text/plain": [
       "<Figure size 432x288 with 2 Axes>"
      ]
     },
     "metadata": {
      "needs_background": "light"
     },
     "output_type": "display_data"
    }
   ],
   "source": [
    "sns.heatmap(df.corr(),annot=True, vmin=-1, vmax=1, cmap=sns.diverging_palette(20, 220, as_cmap=True))"
   ]
  },
  {
   "cell_type": "markdown",
   "id": "91c9b689",
   "metadata": {},
   "source": [
    "Plot the scatter graph for Age and BS columns."
   ]
  },
  {
   "cell_type": "code",
   "execution_count": 221,
   "id": "da4fd839",
   "metadata": {},
   "outputs": [
    {
     "data": {
      "text/plain": [
       "<matplotlib.collections.PathCollection at 0x1a599c1b7c0>"
      ]
     },
     "execution_count": 221,
     "metadata": {},
     "output_type": "execute_result"
    },
    {
     "data": {
      "image/png": "[encoded data removed]",
      "text/plain": [
       "<Figure size 864x360 with 1 Axes>"
      ]
     },
     "metadata": {
      "needs_background": "light"
     },
     "output_type": "display_data"
    }
   ],
   "source": [
    "plt.figure(figsize=(12, 5))\n",
    "plt.scatter(data=df, x='Age', y='BS')"
   ]
  },
  {
   "cell_type": "markdown",
   "id": "84f0bce0",
   "metadata": {},
   "source": [
    "Import the tax-assessed values dataset for residential properties in King County."
   ]
  },
  {
   "cell_type": "code",
   "execution_count": 222,
   "id": "5788e66c",
   "metadata": {},
   "outputs": [
    {
     "data": {
      "text/html": [
       "<div>\n",
       "<style scoped>\n",
       "    .dataframe tbody tr th:only-of-type {\n",
       "        vertical-align: middle;\n",
       "    }\n",
       "\n",
       "    .dataframe tbody tr th {\n",
       "        vertical-align: top;\n",
       "    }\n",
       "\n",
       "    .dataframe thead th {\n",
       "        text-align: right;\n",
       "    }\n",
       "</style>\n",
       "<table border=\"1\" class=\"dataframe\">\n",
       "  <thead>\n",
       "    <tr style=\"text-align: right;\">\n",
       "      <th></th>\n",
       "      <th>TaxAssessedValue</th>\n",
       "      <th>SqFtTotLiving</th>\n",
       "      <th>ZipCode</th>\n",
       "    </tr>\n",
       "  </thead>\n",
       "  <tbody>\n",
       "    <tr>\n",
       "      <th>0</th>\n",
       "      <td>NaN</td>\n",
       "      <td>1730</td>\n",
       "      <td>98117.0</td>\n",
       "    </tr>\n",
       "    <tr>\n",
       "      <th>1</th>\n",
       "      <td>206000.0</td>\n",
       "      <td>1870</td>\n",
       "      <td>98002.0</td>\n",
       "    </tr>\n",
       "    <tr>\n",
       "      <th>2</th>\n",
       "      <td>303000.0</td>\n",
       "      <td>1530</td>\n",
       "      <td>98166.0</td>\n",
       "    </tr>\n",
       "    <tr>\n",
       "      <th>3</th>\n",
       "      <td>361000.0</td>\n",
       "      <td>2000</td>\n",
       "      <td>98108.0</td>\n",
       "    </tr>\n",
       "    <tr>\n",
       "      <th>4</th>\n",
       "      <td>459000.0</td>\n",
       "      <td>3150</td>\n",
       "      <td>98108.0</td>\n",
       "    </tr>\n",
       "    <tr>\n",
       "      <th>...</th>\n",
       "      <td>...</td>\n",
       "      <td>...</td>\n",
       "      <td>...</td>\n",
       "    </tr>\n",
       "    <tr>\n",
       "      <th>498244</th>\n",
       "      <td>375000.0</td>\n",
       "      <td>2230</td>\n",
       "      <td>98056.0</td>\n",
       "    </tr>\n",
       "    <tr>\n",
       "      <th>498245</th>\n",
       "      <td>316000.0</td>\n",
       "      <td>1710</td>\n",
       "      <td>98056.0</td>\n",
       "    </tr>\n",
       "    <tr>\n",
       "      <th>498246</th>\n",
       "      <td>340000.0</td>\n",
       "      <td>1930</td>\n",
       "      <td>98056.0</td>\n",
       "    </tr>\n",
       "    <tr>\n",
       "      <th>498247</th>\n",
       "      <td>132000.0</td>\n",
       "      <td>2930</td>\n",
       "      <td>98056.0</td>\n",
       "    </tr>\n",
       "    <tr>\n",
       "      <th>498248</th>\n",
       "      <td>286000.0</td>\n",
       "      <td>1310</td>\n",
       "      <td>98056.0</td>\n",
       "    </tr>\n",
       "  </tbody>\n",
       "</table>\n",
       "<p>498249 rows × 3 columns</p>\n",
       "</div>"
      ],
      "text/plain": [
       "        TaxAssessedValue  SqFtTotLiving  ZipCode\n",
       "0                    NaN           1730  98117.0\n",
       "1               206000.0           1870  98002.0\n",
       "2               303000.0           1530  98166.0\n",
       "3               361000.0           2000  98108.0\n",
       "4               459000.0           3150  98108.0\n",
       "...                  ...            ...      ...\n",
       "498244          375000.0           2230  98056.0\n",
       "498245          316000.0           1710  98056.0\n",
       "498246          340000.0           1930  98056.0\n",
       "498247          132000.0           2930  98056.0\n",
       "498248          286000.0           1310  98056.0\n",
       "\n",
       "[498249 rows x 3 columns]"
      ]
     },
     "execution_count": 222,
     "metadata": {},
     "output_type": "execute_result"
    }
   ],
   "source": [
    "df = pd.read_csv('tax.csv')\n",
    "df"
   ]
  },
  {
   "cell_type": "markdown",
   "id": "6a684887",
   "metadata": {},
   "source": [
    "Scatterplots are appropriate to use when we deal with relatively small dataset. However, when we need to ponder about millions of rows, scatterplots will be too dense to distinguish meaningful patterns. Hexagonal plots came into play in such cases. What hexagonal bining basically does is to plot hexagons whose intensity is based on the number of samples over that hexagon. <br>\n",
    "Get a hexagonal binning plot of the relationship between the finished squarefeet and the tax-assessed value for homes in King County after applying the following filters."
   ]
  },
  {
   "cell_type": "code",
   "execution_count": 255,
   "id": "a3a74bda",
   "metadata": {},
   "outputs": [
    {
     "data": {
      "image/png": "[encoded data removed]",
      "text/plain": [
       "<Figure size 432x288 with 2 Axes>"
      ]
     },
     "metadata": {
      "needs_background": "light"
     },
     "output_type": "display_data"
    }
   ],
   "source": [
    "df = df[(df.TaxAssessedValue < 750000) &\n",
    " (df.SqFtTotLiving > 100) &\n",
    " (df.SqFtTotLiving < 3500)]\n",
    "\n",
    "ax = df.plot.hexbin(x='SqFtTotLiving', y='TaxAssessedValue', vmax=1000, gridsize=30, sharex=False)"
   ]
  },
  {
   "cell_type": "markdown",
   "id": "91083e98",
   "metadata": {},
   "source": [
    "END!! <br><br>\n",
    "Don't forget to give an upvote if you find this notebook helpful."
   ]
  },
  {
   "cell_type": "code",
   "execution_count": null,
   "id": "c7b13c98",
   "metadata": {},
   "outputs": [],
   "source": []
  }
 ],
 "metadata": {
  "kernelspec": {
   "display_name": "Python 3",
   "language": "python",
   "name": "python3"
  },
  "language_info": {
   "codemirror_mode": {
    "name": "ipython",
    "version": 3
   },
   "file_extension": ".py",
   "mimetype": "text/x-python",
   "name": "python",
   "nbconvert_exporter": "python",
   "pygments_lexer": "ipython3",
   "version": "3.8.8"
  }
 },
 "nbformat": 4,
 "nbformat_minor": 5
}
